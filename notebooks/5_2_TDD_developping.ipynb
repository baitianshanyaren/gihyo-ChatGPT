{
  "nbformat": 4,
  "nbformat_minor": 0,
  "metadata": {
    "colab": {
      "provenance": [],
      "authorship_tag": "ABX9TyOg2/jWnez2nZqHSnBxx4qT"
    },
    "kernelspec": {
      "name": "python3",
      "display_name": "Python 3"
    },
    "language_info": {
      "name": "python"
    }
  },
  "cells": [
    {
      "cell_type": "code",
      "execution_count": null,
      "metadata": {
        "id": "7cHrOd-IOvpn"
      },
      "outputs": [],
      "source": [
        "import unittest\n",
        "class TestCalcString(unittest.TestCase):\n",
        "    def test_calc_string_with_valid_input(self):\n",
        "        self.assertEqual(calc_string('1+1'), '2')\n",
        "        self.assertEqual(calc_string('1-1'), '0')\n",
        "        self.assertEqual(calc_string('1*10'), '10')\n",
        "        self.assertAlmostEqual(float(calc_string('1/3')), 0.333, places=2)\n",
        "        self.assertEqual(calc_string('(1+1)*5'), '10')\n",
        "        self.assertAlmostEqual(float(calc_string('(3+1)/2')), 2.0, places=2)\n",
        "\n",
        "    def test_calc_string_with_invalid_input(self):\n",
        "        with self.assertRaises(ValueError):\n",
        "            calc_string('')\n",
        "        with self.assertRaises(ValueError):\n",
        "            calc_string('(1+2')\n",
        "        with self.assertRaises(ValueError):\n",
        "            calc_string('1+2)')  \n",
        "        with self.assertRaises(ValueError):\n",
        "            calc_string('2*3+')\n",
        "        with self.assertRaises(ValueError):\n",
        "            calc_string('1/0')"
      ]
    },
    {
      "cell_type": "code",
      "source": [
        "unittest.main(argv=['first-arg-is-ignored'], exit=False, verbosity=2)"
      ],
      "metadata": {
        "colab": {
          "base_uri": "https://localhost:8080/"
        },
        "id": "67n4uK6PVD6E",
        "outputId": "a505d4f7-b8c2-4e92-bc5d-28a98665fd42"
      },
      "execution_count": null,
      "outputs": [
        {
          "output_type": "stream",
          "name": "stderr",
          "text": [
            "test_calc_string_with_invalid_input (__main__.TestCalcString) ... ERROR\n",
            "test_calc_string_with_valid_input (__main__.TestCalcString) ... ERROR\n",
            "\n",
            "======================================================================\n",
            "ERROR: test_calc_string_with_invalid_input (__main__.TestCalcString)\n",
            "----------------------------------------------------------------------\n",
            "Traceback (most recent call last):\n",
            "  File \"<ipython-input-1-220066620c86>\", line 13, in test_calc_string_with_invalid_input\n",
            "    calc_string('')\n",
            "NameError: name 'calc_string' is not defined\n",
            "\n",
            "======================================================================\n",
            "ERROR: test_calc_string_with_valid_input (__main__.TestCalcString)\n",
            "----------------------------------------------------------------------\n",
            "Traceback (most recent call last):\n",
            "  File \"<ipython-input-1-220066620c86>\", line 4, in test_calc_string_with_valid_input\n",
            "    self.assertEqual(calc_string('1+1'), '2')\n",
            "NameError: name 'calc_string' is not defined\n",
            "\n",
            "----------------------------------------------------------------------\n",
            "Ran 2 tests in 0.015s\n",
            "\n",
            "FAILED (errors=2)\n"
          ]
        },
        {
          "output_type": "execute_result",
          "data": {
            "text/plain": [
              "<unittest.main.TestProgram at 0x7fcbb1b0fac0>"
            ]
          },
          "metadata": {},
          "execution_count": 2
        }
      ]
    },
    {
      "cell_type": "code",
      "source": [
        "import re\n",
        "import unittest\n",
        "\n",
        "def calc_string(input_string):\n",
        "    if re.match(r'^[\\d+\\-*/\\(\\) ]+$', input_string) and input_string.count('(') == input_string.count(')'):\n",
        "        try:\n",
        "            return str(eval(input_string))\n",
        "        except ZeroDivisionError:\n",
        "            raise ValueError(\"Cannot divide by zero.\")\n",
        "        except:\n",
        "            raise ValueError(\"Invalid calculation.\")\n",
        "    else:\n",
        "        raise ValueError(\"Invalid input.\")"
      ],
      "metadata": {
        "id": "B3Hvh2-9VTva"
      },
      "execution_count": null,
      "outputs": []
    },
    {
      "cell_type": "code",
      "source": [
        "unittest.main(argv=['first-arg-is-ignored'], exit=False, verbosity=2)"
      ],
      "metadata": {
        "colab": {
          "base_uri": "https://localhost:8080/"
        },
        "id": "hnpGYywRVX66",
        "outputId": "aeba4da7-7f3d-42e9-d58b-a341c9c22fe7"
      },
      "execution_count": null,
      "outputs": [
        {
          "output_type": "stream",
          "name": "stderr",
          "text": [
            "test_calc_string_with_invalid_input (__main__.TestCalcString) ... ok\n",
            "test_calc_string_with_valid_input (__main__.TestCalcString) ... ok\n",
            "\n",
            "----------------------------------------------------------------------\n",
            "Ran 2 tests in 0.016s\n",
            "\n",
            "OK\n"
          ]
        },
        {
          "output_type": "execute_result",
          "data": {
            "text/plain": [
              "<unittest.main.TestProgram at 0x7fcbb1b0fdf0>"
            ]
          },
          "metadata": {},
          "execution_count": 4
        }
      ]
    },
    {
      "cell_type": "code",
      "source": [
        "import ast\n",
        "import operator as op\n",
        "import unittest\n",
        "\n",
        "# Supported operators\n",
        "operators = {ast.Add: op.add, ast.Sub: op.sub, ast.Mult: op.mul, ast.Div: op.truediv}\n",
        "\n",
        "def eval_expr(node):\n",
        "    if isinstance(node, ast.Num):  # <number>\n",
        "        return node.n\n",
        "    elif isinstance(node, ast.BinOp):  # <left> <operator> <right>\n",
        "        return operators[type(node.op)](eval_expr(node.left), eval_expr(node.right))\n",
        "    elif isinstance(node, ast.UnaryOp):  # <operator> <operand> e.g., -1\n",
        "        return operators[type(node.op)](eval_expr(node.operand))\n",
        "    else:\n",
        "        raise TypeError(node)\n",
        "\n",
        "def calc_string(s):\n",
        "    # Enclose the string in a tuple before parsing\n",
        "    node = ast.parse(f\"({s})\", mode='eval')\n",
        "\n",
        "    if not isinstance(node.body, (ast.BinOp, ast.Num)):\n",
        "        raise ValueError(\"Invalid calculation.\")\n",
        "    try:\n",
        "        return str(eval_expr(node.body))\n",
        "    except ZeroDivisionError:\n",
        "        raise ValueError(\"Cannot divide by zero.\")\n",
        "    except:\n",
        "        raise ValueError(\"Invalid calculation.\")"
      ],
      "metadata": {
        "id": "KkfucIsJVqTN"
      },
      "execution_count": null,
      "outputs": []
    },
    {
      "cell_type": "code",
      "source": [
        "unittest.main(argv=['first-arg-is-ignored'], exit=False, verbosity=2)"
      ],
      "metadata": {
        "colab": {
          "base_uri": "https://localhost:8080/"
        },
        "id": "dy4T7gtKVybb",
        "outputId": "06e48dd0-9105-4db5-d2ce-cc4542f920ea"
      },
      "execution_count": null,
      "outputs": [
        {
          "output_type": "stream",
          "name": "stderr",
          "text": [
            "test_calc_string_with_invalid_input (__main__.TestCalcString) ... ERROR\n",
            "test_calc_string_with_valid_input (__main__.TestCalcString) ... ok\n",
            "\n",
            "======================================================================\n",
            "ERROR: test_calc_string_with_invalid_input (__main__.TestCalcString)\n",
            "----------------------------------------------------------------------\n",
            "Traceback (most recent call last):\n",
            "  File \"<ipython-input-1-220066620c86>\", line 15, in test_calc_string_with_invalid_input\n",
            "    calc_string('(1+2')\n",
            "  File \"<ipython-input-6-dbc7c223e0a0>\", line 20, in calc_string\n",
            "    node = ast.parse(f\"({s})\", mode='eval')\n",
            "  File \"/usr/lib/python3.10/ast.py\", line 50, in parse\n",
            "    return compile(source, filename, mode, flags,\n",
            "  File \"<unknown>\", line 1\n",
            "    ((1+2)\n",
            "    ^\n",
            "SyntaxError: '(' was never closed\n",
            "\n",
            "----------------------------------------------------------------------\n",
            "Ran 2 tests in 0.011s\n",
            "\n",
            "FAILED (errors=1)\n"
          ]
        },
        {
          "output_type": "execute_result",
          "data": {
            "text/plain": [
              "<unittest.main.TestProgram at 0x7fcb99f4d330>"
            ]
          },
          "metadata": {},
          "execution_count": 7
        }
      ]
    },
    {
      "cell_type": "code",
      "source": [
        "import ast\n",
        "import operator as op\n",
        "import unittest\n",
        "\n",
        "# Supported operators\n",
        "operators = {ast.Add: op.add, ast.Sub: op.sub, ast.Mult: op.mul, ast.Div: op.truediv}\n",
        "\n",
        "def eval_expr(node):\n",
        "    if isinstance(node, ast.Num):  # <number>\n",
        "        return node.n\n",
        "    elif isinstance(node, ast.BinOp):  # <left> <operator> <right>\n",
        "        return operators[type(node.op)](eval_expr(node.left), eval_expr(node.right))\n",
        "    elif isinstance(node, ast.UnaryOp):  # <operator> <operand> e.g., -1\n",
        "        return operators[type(node.op)](eval_expr(node.operand))\n",
        "    else:\n",
        "        raise TypeError(node)\n",
        "\n",
        "def calc_string(s):\n",
        "    try:\n",
        "        # Enclose the string in a tuple before parsing\n",
        "        node = ast.parse(f\"({s})\", mode='eval')\n",
        "\n",
        "        if not isinstance(node.body, (ast.BinOp, ast.Num)):\n",
        "            raise ValueError(\"Invalid calculation.\")\n",
        "        return str(eval_expr(node.body))\n",
        "    except SyntaxError:\n",
        "        raise ValueError(\"Invalid input.\")\n",
        "    except ZeroDivisionError:\n",
        "        raise ValueError(\"Cannot divide by zero.\")\n",
        "    except:\n",
        "        raise ValueError(\"Invalid calculation.\")"
      ],
      "metadata": {
        "id": "PZ4UgPLoV9Z6"
      },
      "execution_count": null,
      "outputs": []
    },
    {
      "cell_type": "code",
      "source": [
        "unittest.main(argv=['first-arg-is-ignored'], exit=False, verbosity=2)"
      ],
      "metadata": {
        "colab": {
          "base_uri": "https://localhost:8080/"
        },
        "id": "mAKfyZkjV-wj",
        "outputId": "c262aa61-c145-4afd-a8e6-a4c0849746ea"
      },
      "execution_count": null,
      "outputs": [
        {
          "output_type": "stream",
          "name": "stderr",
          "text": [
            "test_calc_string_with_invalid_input (__main__.TestCalcString) ... ok\n",
            "test_calc_string_with_valid_input (__main__.TestCalcString) ... ok\n",
            "\n",
            "----------------------------------------------------------------------\n",
            "Ran 2 tests in 0.012s\n",
            "\n",
            "OK\n"
          ]
        },
        {
          "output_type": "execute_result",
          "data": {
            "text/plain": [
              "<unittest.main.TestProgram at 0x7fcbb1b0f490>"
            ]
          },
          "metadata": {},
          "execution_count": 9
        }
      ]
    }
  ]
}