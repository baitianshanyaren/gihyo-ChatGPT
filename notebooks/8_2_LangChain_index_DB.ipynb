{
  "nbformat": 4,
  "nbformat_minor": 0,
  "metadata": {
    "colab": {
      "provenance": [],
      "authorship_tag": "ABX9TyP60a44sD5SoGZ2AZeTjoGV"
    },
    "kernelspec": {
      "name": "python3",
      "display_name": "Python 3"
    },
    "language_info": {
      "name": "python"
    }
  },
  "cells": [
    {
      "cell_type": "code",
      "execution_count": null,
      "metadata": {
        "id": "pzrJMGwOGFkM"
      },
      "outputs": [],
      "source": [
        "!pip install langchain"
      ]
    },
    {
      "cell_type": "code",
      "source": [
        "!pip install chromadb"
      ],
      "metadata": {
        "id": "DHlsr_goIoj5"
      },
      "execution_count": null,
      "outputs": []
    },
    {
      "cell_type": "code",
      "source": [
        "!pip install tiktoken"
      ],
      "metadata": {
        "id": "Rjk8f9GnHazC"
      },
      "execution_count": null,
      "outputs": []
    },
    {
      "cell_type": "code",
      "source": [
        "!pip install openai"
      ],
      "metadata": {
        "id": "TRtnm7pcHfV8"
      },
      "execution_count": null,
      "outputs": []
    },
    {
      "cell_type": "code",
      "source": [
        "import os\n",
        "os.environ['OPENAI_API_KEY'] = \"...\""
      ],
      "metadata": {
        "id": "o2eo4ckxHkx4"
      },
      "execution_count": null,
      "outputs": []
    },
    {
      "cell_type": "code",
      "source": [
        "from langchain.llms import OpenAI\n",
        "from langchain.indexes import VectorstoreIndexCreator\n",
        "from langchain.document_loaders import TextLoader\n",
        "loader = TextLoader('./state_of_the_union.txt', encoding='utf8')\n",
        "index = VectorstoreIndexCreator().from_loaders([loader])\n",
        "query = \"What did the president say about Ketanji Brown Jackson\"\n",
        "index.query(query)"
      ],
      "metadata": {
        "colab": {
          "base_uri": "https://localhost:8080/",
          "height": 71
        },
        "id": "nSDGxBsMHu5X",
        "outputId": "ee4e3df7-b7ad-4c69-9e5d-afcaa3609d99"
      },
      "execution_count": null,
      "outputs": [
        {
          "output_type": "execute_result",
          "data": {
            "text/plain": [
              "\" The president said that Ketanji Brown Jackson is one of the nation's top legal minds, a former top litigator in private practice, a former federal public defender, and from a family of public school educators and police officers. He also said that she is a consensus builder and has received a broad range of support from the Fraternal Order of Police to former judges appointed by Democrats and Republicans.\""
            ],
            "application/vnd.google.colaboratory.intrinsic+json": {
              "type": "string"
            }
          },
          "metadata": {},
          "execution_count": 6
        }
      ]
    },
    {
      "cell_type": "code",
      "source": [
        "query = \"What did the president say about Ketanji Brown Jackson\"\n",
        "index.query_with_sources(query)"
      ],
      "metadata": {
        "colab": {
          "base_uri": "https://localhost:8080/"
        },
        "id": "I_v7Lp1JLL4J",
        "outputId": "800e1496-1e18-4510-884a-e0fe8b992525"
      },
      "execution_count": null,
      "outputs": [
        {
          "output_type": "execute_result",
          "data": {
            "text/plain": [
              "{'question': 'What did the president say about Ketanji Brown Jackson',\n",
              " 'answer': \" The president said that he nominated Circuit Court of Appeals Judge Ketanji Brown Jackson, one of the nation's top legal minds, who will continue Justice Breyer's legacy of excellence, and that she has received a broad range of support from the Fraternal Order of Police to former judges appointed by Democrats and Republicans.\\n\",\n",
              " 'sources': './state_of_the_union.txt'}"
            ]
          },
          "metadata": {},
          "execution_count": 7
        }
      ]
    },
    {
      "cell_type": "code",
      "source": [
        "from langchain.text_splitter import CharacterTextSplitter\n",
        "from langchain.embeddings import OpenAIEmbeddings\n",
        "from langchain.vectorstores import Chroma\n",
        "from langchain.chains import RetrievalQA\n",
        "#ドキュメントとしてデータをロード\n",
        "documents = loader.load()\n",
        "#テキストを分割\n",
        "text_splitter = CharacterTextSplitter(chunk_size=1000, chunk_overlap=0)\n",
        "texts = text_splitter.split_documents(documents)\n",
        "#embbedingするライブラリを指定\n",
        "embeddings = OpenAIEmbeddings()\n",
        "#embeddingし、インデックスを作成\n",
        "db = Chroma.from_documents(texts, embeddings)\n",
        "#リトリバーを作成する\n",
        "retriever = db.as_retriever()\n",
        "qa = RetrievalQA.from_chain_type(llm=OpenAI(), chain_type=\"stuff\", retriever=retriever)\n",
        "#問い合わせを行う\n",
        "query = \"What did the president say about Ketanji Brown Jackson\"\n",
        "qa.run(query)"
      ],
      "metadata": {
        "colab": {
          "base_uri": "https://localhost:8080/",
          "height": 71
        },
        "id": "HeJCpJl3Lb_x",
        "outputId": "8770bec7-9bc0-4eee-aa21-eb491d5b90c2"
      },
      "execution_count": null,
      "outputs": [
        {
          "output_type": "execute_result",
          "data": {
            "text/plain": [
              "\" The president said that Ketanji Brown Jackson is one of the nation's top legal minds, a former top litigator in private practice and a former federal public defender, and that she has received a broad range of support from the Fraternal Order of Police to former judges appointed by Democrats and Republicans.\""
            ],
            "application/vnd.google.colaboratory.intrinsic+json": {
              "type": "string"
            }
          },
          "metadata": {},
          "execution_count": 9
        }
      ]
    },
    {
      "cell_type": "code",
      "source": [
        "loader = TextLoader('./state_of_the_union.txt', encoding='utf8')\n",
        "index = VectorstoreIndexCreator(\n",
        "  vectorstore_cls=Chroma,\n",
        "  embedding=OpenAIEmbeddings(),\n",
        "  text_splitter=CharacterTextSplitter(chunk_size=1000, chunk_overlap=0)\n",
        ").from_loaders([loader])\n",
        "query = \"What did the president say about Ketanji Brown Jackson\"\n",
        "index.query(query)\n"
      ],
      "metadata": {
        "colab": {
          "base_uri": "https://localhost:8080/",
          "height": 71
        },
        "id": "UTLUHM0vL6FJ",
        "outputId": "b468bb22-4f4a-4f67-8227-33a72f54b8bb"
      },
      "execution_count": null,
      "outputs": [
        {
          "output_type": "execute_result",
          "data": {
            "text/plain": [
              "\" The president said that Ketanji Brown Jackson is one of the nation's top legal minds, a former top litigator in private practice, a former federal public defender, and from a family of public school educators and police officers. He also said that she is a consensus builder and has received a broad range of support from the Fraternal Order of Police to former judges appointed by Democrats and Republicans.\""
            ],
            "application/vnd.google.colaboratory.intrinsic+json": {
              "type": "string"
            }
          },
          "metadata": {},
          "execution_count": 10
        }
      ]
    },
    {
      "cell_type": "markdown",
      "source": [
        "## モデルの変更"
      ],
      "metadata": {
        "id": "aT99APvbTRHk"
      }
    },
    {
      "cell_type": "code",
      "source": [
        "#リトリバーを作成する\n",
        "retriever = db.as_retriever()\n",
        "qa = RetrievalQA.from_chain_type(llm=OpenAI(), chain_type=\"stuff\", retriever=retriever)"
      ],
      "metadata": {
        "id": "gFjsdprbSbja"
      },
      "execution_count": null,
      "outputs": []
    },
    {
      "cell_type": "code",
      "source": [
        "#リトリバーを作成する\n",
        "retriever = db.as_retriever()\n",
        "llm=OpenAI(model_name=\"gpt-3.5-turbo\")\n",
        "qa = RetrievalQA.from_chain_type(llm=llm, chain_type=\"stuff\", retriever=retriever)"
      ],
      "metadata": {
        "colab": {
          "base_uri": "https://localhost:8080/"
        },
        "id": "Ebj47NHpSdaw",
        "outputId": "b2635b7c-8865-4413-cded-a64ee89964bc"
      },
      "execution_count": null,
      "outputs": [
        {
          "output_type": "stream",
          "name": "stderr",
          "text": [
            "/usr/local/lib/python3.10/dist-packages/langchain/llms/openai.py:171: UserWarning: You are trying to use a chat model. This way of initializing it is no longer supported. Instead, please use: `from langchain.chat_models import ChatOpenAI`\n",
            "  warnings.warn(\n",
            "/usr/local/lib/python3.10/dist-packages/langchain/llms/openai.py:740: UserWarning: You are trying to use a chat model. This way of initializing it is no longer supported. Instead, please use: `from langchain.chat_models import ChatOpenAI`\n",
            "  warnings.warn(\n"
          ]
        }
      ]
    },
    {
      "cell_type": "code",
      "source": [
        "from langchain.chat_models import ChatOpenAI\n",
        "#リトリバーを作成する\n",
        "retriever = db.as_retriever()\n",
        "qa = RetrievalQA.from_chain_type(llm=ChatOpenAI(), chain_type=\"stuff\", retriever=retriever)"
      ],
      "metadata": {
        "id": "BaLunkIVSifV"
      },
      "execution_count": null,
      "outputs": []
    },
    {
      "cell_type": "markdown",
      "source": [
        "## インデックスの読み込みと保存"
      ],
      "metadata": {
        "id": "VfpkYL3_TnPn"
      }
    },
    {
      "cell_type": "code",
      "source": [
        "from langchain.text_splitter import CharacterTextSplitter\n",
        "from langchain.embeddings import OpenAIEmbeddings\n",
        "from langchain.vectorstores import Chroma\n",
        "from langchain.chains import RetrievalQA\n",
        "from langchain.chat_models import ChatOpenAI\n",
        "# Embed and store the texts\n",
        "# Supplying a persist_directory will store the embeddings on disk\n",
        "persist_directory = 'db'\n",
        "#ドキュメントとしてデータをロード\n",
        "documents = loader.load()\n",
        "#テキストを分割\n",
        "text_splitter = CharacterTextSplitter(chunk_size=1000, chunk_overlap=0)\n",
        "texts = text_splitter.split_documents(documents)\n",
        "#embbedingするライブラリを指定\n",
        "embeddings = OpenAIEmbeddings()\n",
        "#embeddingし、インデックスを作成\n",
        "db = Chroma.from_documents(texts, embeddings,persist_directory=persist_directory)\n",
        "db.persist()\n",
        "#リトリバーを作成する\n",
        "retriever = db.as_retriever()\n",
        "qa = RetrievalQA.from_chain_type(llm=ChatOpenAI(), chain_type=\"stuff\", retriever=retriever)\n",
        "db=None\n",
        "#問い合わせを行う\n",
        "query = \"What did the president say about Ketanji Brown Jackson\"\n",
        "qa.run(query)"
      ],
      "metadata": {
        "colab": {
          "base_uri": "https://localhost:8080/",
          "height": 71
        },
        "id": "1dZPFp-jSsmV",
        "outputId": "bb8e76dc-cd6e-4114-f163-faa35defe7bb"
      },
      "execution_count": null,
      "outputs": [
        {
          "output_type": "execute_result",
          "data": {
            "text/plain": [
              "'The President announced that he nominated Circuit Court of Appeals Judge Ketanji Brown Jackson to serve on the United States Supreme Court. He referred to her as one of our nation’s top legal minds, a former top litigator in private practice, a former federal public defender, and a consensus builder.'"
            ],
            "application/vnd.google.colaboratory.intrinsic+json": {
              "type": "string"
            }
          },
          "metadata": {},
          "execution_count": 15
        }
      ]
    },
    {
      "cell_type": "markdown",
      "source": [
        "## ローダーを使う"
      ],
      "metadata": {
        "id": "tXt6ur_ETvLZ"
      }
    },
    {
      "cell_type": "markdown",
      "source": [
        "### webから情報を取得する"
      ],
      "metadata": {
        "id": "Wiyq_R8uYkB3"
      }
    },
    {
      "cell_type": "code",
      "source": [
        "!pip install unstructured"
      ],
      "metadata": {
        "id": "gmeDWeOFTI7z"
      },
      "execution_count": null,
      "outputs": []
    },
    {
      "cell_type": "code",
      "source": [
        "!pip install pdf2image"
      ],
      "metadata": {
        "colab": {
          "base_uri": "https://localhost:8080/"
        },
        "id": "3yLZRszvUmYj",
        "outputId": "28db138a-3976-4760-fbd3-a3a50bfb430f"
      },
      "execution_count": null,
      "outputs": [
        {
          "output_type": "stream",
          "name": "stdout",
          "text": [
            "Looking in indexes: https://pypi.org/simple, https://us-python.pkg.dev/colab-wheels/public/simple/\n",
            "Collecting pdf2image\n",
            "  Downloading pdf2image-1.16.3-py3-none-any.whl (11 kB)\n",
            "Requirement already satisfied: pillow in /usr/local/lib/python3.10/dist-packages (from pdf2image) (8.4.0)\n",
            "Installing collected packages: pdf2image\n",
            "Successfully installed pdf2image-1.16.3\n"
          ]
        }
      ]
    },
    {
      "cell_type": "code",
      "source": [
        "from langchain.text_splitter import CharacterTextSplitter,RecursiveCharacterTextSplitter\n",
        "from langchain.chat_models import ChatOpenAI\n",
        "from langchain.embeddings import OpenAIEmbeddings\n",
        "from langchain.vectorstores import Chroma\n",
        "\n",
        "from langchain.chains import RetrievalQA\n",
        "from langchain.document_loaders import UnstructuredURLLoader\n",
        "urls = [\n",
        "'https://ja.wikipedia.org/wiki/%E6%97%A5%E6%9C%AC%E3%81%AE%E6%AD%B4%E5%8F%B2',\n",
        "'https://ja.wikipedia.org/wiki/%E4%B8%96%E7%95%8C%E3%81%AE%E6%AD%B4%E5%8F%B2'\n",
        "]\n",
        "loader = UnstructuredURLLoader(urls=urls)\n",
        "documents = loader.load()\n",
        "text_splitter = RecursiveCharacterTextSplitter(chunk_size=500, chunk_overlap=0)\n",
        "texts = text_splitter.split_documents(documents)\n",
        "embeddings = OpenAIEmbeddings()\n",
        "db = Chroma.from_documents(texts, embeddings)\n",
        "retriever = db.as_retriever()\n",
        "qa = RetrievalQA.from_chain_type(llm=ChatOpenAI(model_name='gpt-3.5-turbo'), chain_type=\"stuff\",\n",
        "retriever=retriever)"
      ],
      "metadata": {
        "id": "JXlbb93_UEtc"
      },
      "execution_count": null,
      "outputs": []
    },
    {
      "cell_type": "code",
      "source": [
        "qa.run(\"織田信長はどんなことをしましたか？同時期に世界では何が起こっていたのかも説明してください\")"
      ],
      "metadata": {
        "colab": {
          "base_uri": "https://localhost:8080/",
          "height": 89
        },
        "id": "kRtaLyGGVVQW",
        "outputId": "4d136845-bb2e-4ec6-eda8-79ddce182b10"
      },
      "execution_count": null,
      "outputs": [
        {
          "output_type": "execute_result",
          "data": {
            "text/plain": [
              "'織田信長は16世紀後半に日本で活躍した武将で、室町時代の混乱を収束させ、戦国時代の天下統一を目指しました。信長は多数の合戦に勝利し、近畿地方を中心に領土を拡大しました。また、信長は政治改革にも取り組み、荘園公領制の改革や刀狩などを行い、戦国時代の混乱を収束させました。\\n\\n一方、同時期の世界では、ルネサンスが盛んでした。ルネサンス期には、芸術、科学、人文主義が発展し、知識人たちが積極的に研究や発明に取り組みました。また、大航海時代が始まり、ヨーロッパ諸国が世界各地へ進出していきました。'"
            ],
            "application/vnd.google.colaboratory.intrinsic+json": {
              "type": "string"
            }
          },
          "metadata": {},
          "execution_count": 20
        }
      ]
    },
    {
      "cell_type": "markdown",
      "source": [
        "### PDFから情報を取得する"
      ],
      "metadata": {
        "id": "52lZtrAmYqzg"
      }
    },
    {
      "cell_type": "code",
      "source": [
        "!pip install pypdf"
      ],
      "metadata": {
        "id": "5djREYx2aHUu"
      },
      "execution_count": null,
      "outputs": []
    },
    {
      "cell_type": "code",
      "source": [
        "from langchain.document_loaders import PyPDFLoader\n",
        "from langchain.text_splitter import CharacterTextSplitter,RecursiveCharacterTextSplitter\n",
        "from langchain.chat_models import ChatOpenAI\n",
        "loader = PyPDFLoader(\"./attention.pdf\")\n",
        "documents = loader.load()\n",
        "text_splitter = RecursiveCharacterTextSplitter(chunk_size=1000, chunk_overlap=0)\n",
        "texts = text_splitter.split_documents(documents)\n",
        "embeddings = OpenAIEmbeddings()\n",
        "db = Chroma.from_documents(texts, embeddings)\n",
        "retriever = db.as_retriever()\n",
        "qa = RetrievalQA.from_chain_type(llm=ChatOpenAI(model_name='gpt-3.5-turbo'), chain_type=\"stuff\", retriever=retriever)\n",
        "qa.run(\"Please summarize this paper.Please explain it in a way that even a child can understand.\")"
      ],
      "metadata": {
        "colab": {
          "base_uri": "https://localhost:8080/",
          "height": 89
        },
        "id": "gPZoVurqVizz",
        "outputId": "e4bf6cfa-c9d4-4a72-fed7-29f6780ea7b1"
      },
      "execution_count": null,
      "outputs": [
        {
          "output_type": "execute_result",
          "data": {
            "text/plain": [
              "'This paper talks about a computer program that can understand and translate languages. The program uses something called \"attention\" to pay attention to important parts of a sentence and figure out what it means. The program can also learn from examples and get better at understanding languages over time. The paper shows some pictures of how the program works and how it pays attention to different parts of a sentence. Overall, the program is a really cool way for computers to understand and communicate with people in different languages.'"
            ],
            "application/vnd.google.colaboratory.intrinsic+json": {
              "type": "string"
            }
          },
          "metadata": {},
          "execution_count": 28
        }
      ]
    },
    {
      "cell_type": "markdown",
      "source": [
        "## 番外：chain_typeごとの挙動の違い"
      ],
      "metadata": {
        "id": "nUdi-cK-nHrT"
      }
    },
    {
      "cell_type": "code",
      "source": [
        "qa = RetrievalQA.from_chain_type(llm=ChatOpenAI(model_name='gpt-3.5-turbo'), chain_type=\"stuff\", retriever=retriever)\n",
        "qa.run(\"Please summarize this.Please explain it in a way that even a child can understand.\")"
      ],
      "metadata": {
        "colab": {
          "base_uri": "https://localhost:8080/",
          "height": 71
        },
        "id": "Zi3zZkFyn499",
        "outputId": "ec66aea5-d261-4910-9604-2460bd25277f"
      },
      "execution_count": null,
      "outputs": [
        {
          "output_type": "execute_result",
          "data": {
            "text/plain": [
              "'The article discusses a new way of training computers to understand languages called \"self-attention\". This method allows the computer to focus on important parts of a sentence and learn the structure of language. The article shows examples of how this works and explains how the computer is trained using a dataset of sentence pairs. The goal is to create more accurate and interpretable language models.'"
            ],
            "application/vnd.google.colaboratory.intrinsic+json": {
              "type": "string"
            }
          },
          "metadata": {},
          "execution_count": 32
        }
      ]
    },
    {
      "cell_type": "code",
      "source": [
        "qa = RetrievalQA.from_chain_type(llm=ChatOpenAI(model_name='gpt-3.5-turbo'), chain_type=\"map_reduce\", retriever=retriever)\n",
        "qa.run(\"Please summarize this.Please explain it in a way that even a child can understand.\")"
      ],
      "metadata": {
        "colab": {
          "base_uri": "https://localhost:8080/",
          "height": 89
        },
        "id": "GiIKy6X7oKSS",
        "outputId": "ba2be48d-993e-4c46-9793-9a3d37ceb948"
      },
      "execution_count": null,
      "outputs": [
        {
          "output_type": "execute_result",
          "data": {
            "text/plain": [
              "'The document talks about the law and how it should be applied fairly, but sometimes it is not. It also talks about how some governments in America are making it harder for people to vote. There are pictures of how computer programs learn to understand language. These programs can help us make better models for understanding language and how sentences are put together. They were trained using many sentences in different languages.'"
            ],
            "application/vnd.google.colaboratory.intrinsic+json": {
              "type": "string"
            }
          },
          "metadata": {},
          "execution_count": 33
        }
      ]
    },
    {
      "cell_type": "code",
      "source": [
        "qa = RetrievalQA.from_chain_type(llm=ChatOpenAI(model_name='gpt-3.5-turbo'), chain_type=\"refine\", retriever=retriever)\n",
        "qa.run(\"Please summarize this.Please explain it in a way that even a child can understand.\")"
      ],
      "metadata": {
        "colab": {
          "base_uri": "https://localhost:8080/",
          "height": 89
        },
        "id": "zW5SGzcspekt",
        "outputId": "256dc29d-9494-4bf0-f8c9-17e8048ac793"
      },
      "execution_count": null,
      "outputs": [
        {
          "output_type": "execute_result",
          "data": {
            "text/plain": [
              "'The given context provides additional information about the benefits and training of self-attention mechanism in computer programs. Self-attention can lead to more interpretable models by examining the attention distributions and behavior related to the structure of sentences. The models were trained on large datasets of sentence pairs using byte-pair encoding and word-piece vocabulary. Batching was done by approximate sequence length. The overall goal remains the same, which is to make computers understand sentences like humans do by using attention mechanism.'"
            ],
            "application/vnd.google.colaboratory.intrinsic+json": {
              "type": "string"
            }
          },
          "metadata": {},
          "execution_count": 34
        }
      ]
    }
  ]
}