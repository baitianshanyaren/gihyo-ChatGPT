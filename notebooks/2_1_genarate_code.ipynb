{
  "nbformat": 4,
  "nbformat_minor": 0,
  "metadata": {
    "colab": {
      "provenance": [],
      "authorship_tag": "ABX9TyPC6SWlvtXuP8J/z++ZI+lw"
    },
    "kernelspec": {
      "name": "python3",
      "display_name": "Python 3"
    },
    "language_info": {
      "name": "python"
    }
  },
  "cells": [
    {
      "cell_type": "markdown",
      "source": [
        "## 理解はしているが苦手なものを任せる"
      ],
      "metadata": {
        "id": "80kBZ--8BnsB"
      }
    },
    {
      "cell_type": "code",
      "source": [
        "import re\n",
        "\n",
        "def validate_password(password):\n",
        "    # 正規表現パターン\n",
        "    pattern = r'^(?=.*[a-z])(?=.*[A-Z])(?=.*\\d)(?=.*[@$!%*?&])[A-Za-z\\d@$!%*?&]+$'\n",
        "\n",
        "    # 正規表現パターンとパスワードの一致を確認\n",
        "    if re.match(pattern, password):\n",
        "        print(\"パスワードが有効です\")\n",
        "    else:\n",
        "        print(\"パスワードが無効です\")\n",
        "\n",
        "# パスワードの入力\n",
        "password = input(\"パスワードを入力してください: \")\n",
        "validate_password(password)"
      ],
      "metadata": {
        "colab": {
          "base_uri": "https://localhost:8080/"
        },
        "id": "DZuU7B7VBEWd",
        "outputId": "b4454eb8-f294-4507-ad7c-4c5a86848115"
      },
      "execution_count": null,
      "outputs": [
        {
          "output_type": "stream",
          "name": "stdout",
          "text": [
            "パスワードを入力してください: Abc123$%Zyy\n",
            "パスワードが有効です\n"
          ]
        }
      ]
    },
    {
      "cell_type": "code",
      "source": [
        "import codecs\n",
        "\n",
        "def read_text_file(file_path):\n",
        "    try:\n",
        "        with codecs.open(file_path, 'r', encoding='cp932', errors='ignore') as file:\n",
        "            content = file.read()\n",
        "            print(content)\n",
        "    except FileNotFoundError:\n",
        "        print(\"ファイルが見つかりません\")\n",
        "    except PermissionError:\n",
        "        print(\"ファイルにアクセスする権限がありません\")\n",
        "    except UnicodeDecodeError:\n",
        "        print(\"ファイルのエンコーディングが無効です\")\n",
        "\n",
        "# テキストファイルのパス\n",
        "file_path = 'path/to/your/file.txt'\n",
        "\n",
        "# テキストファイルの読み込み\n",
        "read_text_file(file_path)"
      ],
      "metadata": {
        "colab": {
          "base_uri": "https://localhost:8080/"
        },
        "id": "Me5My_2VCaAj",
        "outputId": "437fba8c-21ec-4187-a6b5-aebed4d44b2f"
      },
      "execution_count": 1,
      "outputs": [
        {
          "output_type": "stream",
          "name": "stdout",
          "text": [
            "ファイルが見つかりません\n"
          ]
        }
      ]
    },
    {
      "cell_type": "markdown",
      "source": [
        "## 小さな単位で依頼する"
      ],
      "metadata": {
        "id": "4bEJtue0CphN"
      }
    },
    {
      "cell_type": "code",
      "source": [
        "import requests\n",
        "\n",
        "def get_github_user_info(username):\n",
        "    url = f\"https://api.github.com/users/{username}\"\n",
        "    response = requests.get(url)\n",
        "\n",
        "    if response.status_code == 200:\n",
        "        return response.json()\n",
        "    else:\n",
        "        return None"
      ],
      "metadata": {
        "id": "_ZjVw_NMSfYC"
      },
      "execution_count": 2,
      "outputs": []
    },
    {
      "cell_type": "code",
      "source": [
        "user_info = get_github_user_info(\"gamasenninn\")\n",
        "if user_info is not None:\n",
        "    print(user_info)\n",
        "else:\n",
        "    print(\"User not found\")"
      ],
      "metadata": {
        "colab": {
          "base_uri": "https://localhost:8080/"
        },
        "id": "uQJ5yERqSvE9",
        "outputId": "14f54259-6207-4fb2-a598-e0f5eaf8d2d5"
      },
      "execution_count": 3,
      "outputs": [
        {
          "output_type": "stream",
          "name": "stdout",
          "text": [
            "{'login': 'gamasenninn', 'id': 61409504, 'node_id': 'MDQ6VXNlcjYxNDA5NTA0', 'avatar_url': 'https://avatars.githubusercontent.com/u/61409504?v=4', 'gravatar_id': '', 'url': 'https://api.github.com/users/gamasenninn', 'html_url': 'https://github.com/gamasenninn', 'followers_url': 'https://api.github.com/users/gamasenninn/followers', 'following_url': 'https://api.github.com/users/gamasenninn/following{/other_user}', 'gists_url': 'https://api.github.com/users/gamasenninn/gists{/gist_id}', 'starred_url': 'https://api.github.com/users/gamasenninn/starred{/owner}{/repo}', 'subscriptions_url': 'https://api.github.com/users/gamasenninn/subscriptions', 'organizations_url': 'https://api.github.com/users/gamasenninn/orgs', 'repos_url': 'https://api.github.com/users/gamasenninn/repos', 'events_url': 'https://api.github.com/users/gamasenninn/events{/privacy}', 'received_events_url': 'https://api.github.com/users/gamasenninn/received_events', 'type': 'User', 'site_admin': False, 'name': 'gamasenninn', 'company': None, 'blog': '', 'location': None, 'email': None, 'hireable': None, 'bio': None, 'twitter_username': None, 'public_repos': 41, 'public_gists': 0, 'followers': 1, 'following': 0, 'created_at': '2020-02-24T09:12:17Z', 'updated_at': '2023-06-07T02:40:43Z'}\n"
          ]
        }
      ]
    },
    {
      "cell_type": "code",
      "source": [
        "import requests\n",
        "# 取得したいGitHubユーザー名を文字列として設定します。\n",
        "username = \"gamasenninn\"\n",
        "# GitHubのAPIエンドポイントを指定します。{username}は上で設定したユーザー名に置き換えられます。\n",
        "url = f\"https://api.github.com/users/{username}\"\n",
        "# 指定したURLにGETリクエストを送り、結果をresponse変数に保存します。\n",
        "response = requests.get(url)\n",
        "# 以下で、リクエストが成功したかどうかを判断します。\n",
        "# HTTPステータスコードが200の場合は成功を意味します。\n",
        "if response.status_code == 200:\n",
        " # リクエストが成功した場合、結果をJSONとして解析します。\n",
        " user_info = response.json()\n",
        "\n",
        " # ユーザー情報を出力します。\n",
        " print(user_info)\n",
        "else:\n",
        " # リクエストが失敗した場合、エラーメッセージを出力します。\n",
        " print(f\"User {username} not found.\")"
      ],
      "metadata": {
        "colab": {
          "base_uri": "https://localhost:8080/"
        },
        "id": "CkOc626p3cN3",
        "outputId": "71f0ea74-1cb0-4481-865a-ed8491806b29"
      },
      "execution_count": 6,
      "outputs": [
        {
          "output_type": "stream",
          "name": "stdout",
          "text": [
            "{'login': 'gamasenninn', 'id': 61409504, 'node_id': 'MDQ6VXNlcjYxNDA5NTA0', 'avatar_url': 'https://avatars.githubusercontent.com/u/61409504?v=4', 'gravatar_id': '', 'url': 'https://api.github.com/users/gamasenninn', 'html_url': 'https://github.com/gamasenninn', 'followers_url': 'https://api.github.com/users/gamasenninn/followers', 'following_url': 'https://api.github.com/users/gamasenninn/following{/other_user}', 'gists_url': 'https://api.github.com/users/gamasenninn/gists{/gist_id}', 'starred_url': 'https://api.github.com/users/gamasenninn/starred{/owner}{/repo}', 'subscriptions_url': 'https://api.github.com/users/gamasenninn/subscriptions', 'organizations_url': 'https://api.github.com/users/gamasenninn/orgs', 'repos_url': 'https://api.github.com/users/gamasenninn/repos', 'events_url': 'https://api.github.com/users/gamasenninn/events{/privacy}', 'received_events_url': 'https://api.github.com/users/gamasenninn/received_events', 'type': 'User', 'site_admin': False, 'name': 'gamasenninn', 'company': None, 'blog': '', 'location': None, 'email': None, 'hireable': None, 'bio': None, 'twitter_username': None, 'public_repos': 41, 'public_gists': 0, 'followers': 1, 'following': 0, 'created_at': '2020-02-24T09:12:17Z', 'updated_at': '2023-06-07T02:40:43Z'}\n"
          ]
        }
      ]
    },
    {
      "cell_type": "code",
      "source": [
        "import requests\n",
        "\n",
        "def get_github_account_info(username):\n",
        "    url = f\"https://api.github.com/users/{username}\"\n",
        "    response = requests.get(url)\n",
        "\n",
        "    if response.status_code == 200:\n",
        "        return response.json()\n",
        "    elif response.status_code == 404:\n",
        "        raise Exception(\"指定されたGitHubアカウントは存在しません。\")\n",
        "    else:\n",
        "        raise Exception(\"GitHub APIへのリクエストが失敗しました。\")\n",
        "\n",
        "# テストコード\n",
        "try:\n",
        "    # 正常系テスト: 存在するアカウント名を指定\n",
        "    username = \"gamasenninn\"\n",
        "    account_info = get_github_account_info(username)\n",
        "    print(f\"{username}の情報:\")\n",
        "    print(f\"名前: {account_info['name']}\")\n",
        "    print(f\"フォロワー数: {account_info['followers']}\")\n",
        "    print(f\"リポジトリ数: {account_info['public_repos']}\")\n",
        "    print(f\"ブログ: {account_info['blog']}\")\n",
        "    print(f\"会社: {account_info['company']}\")\n",
        "    print(f\"場所: {account_info['location']}\")\n",
        "except Exception as e:\n",
        "    print(f\"エラー: {str(e)}\")\n",
        "\n",
        "try:\n",
        "    # 異常系テスト: 存在しないアカウント名を指定\n",
        "    username = \"nonexistent_user\"\n",
        "    account_info = get_github_account_info(username)\n",
        "    print(f\"{username}の情報:\")\n",
        "    print(f\"名前: {account_info['name']}\")\n",
        "    print(f\"フォロワー数: {account_info['followers']}\")\n",
        "    print(f\"リポジトリ数: {account_info['public_repos']}\")\n",
        "    print(f\"ブログ: {account_info['blog']}\")\n",
        "    print(f\"会社: {account_info['company']}\")\n",
        "    print(f\"場所: {account_info['location']}\")\n",
        "except Exception as e:\n",
        "    print(f\"エラー: {str(e)}\")\n"
      ],
      "metadata": {
        "id": "fBOd4_J1gX-4",
        "outputId": "27baedff-5730-4441-8698-08b5afc2482e",
        "colab": {
          "base_uri": "https://localhost:8080/"
        }
      },
      "execution_count": 4,
      "outputs": [
        {
          "output_type": "stream",
          "name": "stdout",
          "text": [
            "gamasenninnの情報:\n",
            "名前: gamasenninn\n",
            "フォロワー数: 1\n",
            "リポジトリ数: 41\n",
            "ブログ: \n",
            "会社: None\n",
            "場所: None\n",
            "エラー: 指定されたGitHubアカウントは存在しません。\n"
          ]
        }
      ]
    },
    {
      "cell_type": "code",
      "source": [
        "import unittest\n",
        "import requests\n",
        "class GitHubAccountInfoTest(unittest.TestCase):\n",
        " def test_get_github_account_info_valid_username(self):\n",
        "  # 正常系テスト: 存在するアカウント名を指定\n",
        "  username = \"gamasenninn\"\n",
        "  account_info = get_github_account_info(username)\n",
        "  self.assertIsNotNone(account_info)\n",
        "  self.assertEqual(account_info['name'], \"gamasenninn\")\n",
        "  self.assertIsInstance(account_info['followers'], int)\n",
        "  self.assertIsInstance(account_info['public_repos'], int)\n",
        "  self.assertIsInstance(account_info['blog'], str)\n",
        "  self.assertIsInstance(account_info['company'], str)\n",
        "  self.assertIsInstance(account_info['location'], str)\n",
        "def test_get_github_account_info_invalid_username(self):\n",
        "  # 異常系テスト: 存在しないアカウント名を指定\n",
        "  username = \"nonexistent_user\"\n",
        "  with self.assertRaises(Exception):\n",
        "    get_github_account_info(username)"
      ],
      "metadata": {
        "id": "OFdRiSVG29sx"
      },
      "execution_count": 10,
      "outputs": []
    },
    {
      "cell_type": "code",
      "source": [
        "unittest.main(argv=['first-arg-is-ignored'], exit=False, verbosity=2)"
      ],
      "metadata": {
        "colab": {
          "base_uri": "https://localhost:8080/"
        },
        "id": "ad-lNM7k54E4",
        "outputId": "908a79eb-0a99-4feb-d34b-7f9d57d7490b"
      },
      "execution_count": 11,
      "outputs": [
        {
          "output_type": "stream",
          "name": "stderr",
          "text": [
            "test_get_github_account_info_valid_username (__main__.GitHubAccountInfoTest) ... FAIL\n",
            "\n",
            "======================================================================\n",
            "FAIL: test_get_github_account_info_valid_username (__main__.GitHubAccountInfoTest)\n",
            "----------------------------------------------------------------------\n",
            "Traceback (most recent call last):\n",
            "  File \"<ipython-input-10-551e873f1ddb>\", line 13, in test_get_github_account_info_valid_username\n",
            "    self.assertIsInstance(account_info['company'], str)\n",
            "AssertionError: None is not an instance of <class 'str'>\n",
            "\n",
            "----------------------------------------------------------------------\n",
            "Ran 1 test in 0.360s\n",
            "\n",
            "FAILED (failures=1)\n"
          ]
        },
        {
          "output_type": "execute_result",
          "data": {
            "text/plain": [
              "<unittest.main.TestProgram at 0x7f5a35bcb9d0>"
            ]
          },
          "metadata": {},
          "execution_count": 11
        }
      ]
    },
    {
      "cell_type": "markdown",
      "source": [
        "↑companyはNoneが返るためテストコードで失敗する"
      ],
      "metadata": {
        "id": "_OgewUbN7fkW"
      }
    }
  ]
}