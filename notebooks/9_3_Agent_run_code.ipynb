{
  "nbformat": 4,
  "nbformat_minor": 0,
  "metadata": {
    "colab": {
      "provenance": [],
      "authorship_tag": "ABX9TyMCFuKLmKvIwhw7SzpThipO"
    },
    "kernelspec": {
      "name": "python3",
      "display_name": "Python 3"
    },
    "language_info": {
      "name": "python"
    }
  },
  "cells": [
    {
      "cell_type": "code",
      "source": [
        "!pip install langchain\n",
        "!pip install openai"
      ],
      "metadata": {
        "id": "d4JwYZvn26OH"
      },
      "execution_count": null,
      "outputs": []
    },
    {
      "cell_type": "code",
      "source": [
        "import os\n",
        "os.environ['OPENAI_API_KEY'] = \"...\""
      ],
      "metadata": {
        "id": "izUl8--Q27zO"
      },
      "execution_count": null,
      "outputs": []
    },
    {
      "cell_type": "code",
      "source": [
        "!pip install python-pptx"
      ],
      "metadata": {
        "id": "HTrsGkfySEoW"
      },
      "execution_count": null,
      "outputs": []
    },
    {
      "cell_type": "code",
      "source": [
        "from langchain.agents import load_tools\n",
        "from langchain.agents import initialize_agent\n",
        "from langchain.agents import AgentType\n",
        "from langchain.llms import OpenAI\n",
        "from langchain.chat_models import ChatOpenAI\n",
        "chat = ChatOpenAI(temperature=0)\n",
        "tools = load_tools([\"python_repl\"], llm=chat)\n",
        "agent = initialize_agent(tools, chat, agent=\"chat-zero-shot-react-description\", verbose=True)"
      ],
      "metadata": {
        "id": "vohsX0i23c2U"
      },
      "execution_count": null,
      "outputs": []
    },
    {
      "cell_type": "code",
      "source": [
        "agent.run(\"ChatGPTを社内利用するための企画書を作成したい。企画書の草案を考えてください。日本語とします。そしてそれをpythonでpptxにするコードを生成し、実行して、kikaku.pptxファイルを作成してください。python-pptxライブラリはインストール済です\")"
      ],
      "metadata": {
        "id": "rGaY2c723jY8"
      },
      "execution_count": null,
      "outputs": []
    },
    {
      "cell_type": "markdown",
      "source": [
        "## diagramsによるクラウド図の自動作成"
      ],
      "metadata": {
        "id": "zjD-aluq_qvs"
      }
    },
    {
      "cell_type": "code",
      "source": [
        "!pip install diagrams"
      ],
      "metadata": {
        "id": "CDgB1H7L_yE3"
      },
      "execution_count": null,
      "outputs": []
    },
    {
      "cell_type": "code",
      "source": [
        "agent.run(\"diagramsを使った一般的なネットワーク図のサンプルを提示してください。そしてそれをpythonでコードを生成し、実行して、diagramsという名前でファイルを作成してください。diagramsライブラリはインストール済です\")"
      ],
      "metadata": {
        "id": "95Iav9gO_42X"
      },
      "execution_count": null,
      "outputs": []
    },
    {
      "cell_type": "markdown",
      "source": [
        "## グラフの自動作成"
      ],
      "metadata": {
        "id": "6iG7cBUaDahG"
      }
    },
    {
      "cell_type": "code",
      "source": [
        "agent.run(\"Google Colabを使っています。グラフのサンプルを3つほど描いてください\")"
      ],
      "metadata": {
        "id": "XJ4qo6i-DYtc"
      },
      "execution_count": null,
      "outputs": []
    },
    {
      "cell_type": "code",
      "source": [
        "agent.run(\"Google Colabを使ってます。3次元のグラフでめちゃ頭のよさげなグラフを描いてください\")"
      ],
      "metadata": {
        "id": "_h_srOnlEOlD"
      },
      "execution_count": null,
      "outputs": []
    }
  ]
}