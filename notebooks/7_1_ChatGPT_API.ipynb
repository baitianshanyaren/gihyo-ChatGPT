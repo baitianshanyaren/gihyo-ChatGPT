{
  "nbformat": 4,
  "nbformat_minor": 0,
  "metadata": {
    "colab": {
      "provenance": [],
      "authorship_tag": "ABX9TyMhmga00UKbodlLyTvwX7oO"
    },
    "kernelspec": {
      "name": "python3",
      "display_name": "Python 3"
    },
    "language_info": {
      "name": "python"
    }
  },
  "cells": [
    {
      "cell_type": "code",
      "execution_count": 1,
      "metadata": {
        "colab": {
          "base_uri": "https://localhost:8080/"
        },
        "id": "RknIvLB6qwd0",
        "outputId": "9b3467eb-5a5f-4b1b-d8e6-7ce12fd539f1"
      },
      "outputs": [
        {
          "output_type": "stream",
          "name": "stdout",
          "text": [
            "Looking in indexes: https://pypi.org/simple, https://us-python.pkg.dev/colab-wheels/public/simple/\n",
            "Collecting openai\n",
            "  Downloading openai-0.27.8-py3-none-any.whl (73 kB)\n",
            "\u001b[2K     \u001b[90m━━━━━━━━━━━━━━━━━━━━━━━━━━━━━━━━━━━━━━━━\u001b[0m \u001b[32m73.6/73.6 kB\u001b[0m \u001b[31m3.1 MB/s\u001b[0m eta \u001b[36m0:00:00\u001b[0m\n",
            "\u001b[?25hRequirement already satisfied: requests>=2.20 in /usr/local/lib/python3.10/dist-packages (from openai) (2.27.1)\n",
            "Requirement already satisfied: tqdm in /usr/local/lib/python3.10/dist-packages (from openai) (4.65.0)\n",
            "Collecting aiohttp (from openai)\n",
            "  Downloading aiohttp-3.8.4-cp310-cp310-manylinux_2_17_x86_64.manylinux2014_x86_64.whl (1.0 MB)\n",
            "\u001b[2K     \u001b[90m━━━━━━━━━━━━━━━━━━━━━━━━━━━━━━━━━━━━━━━━\u001b[0m \u001b[32m1.0/1.0 MB\u001b[0m \u001b[31m19.3 MB/s\u001b[0m eta \u001b[36m0:00:00\u001b[0m\n",
            "\u001b[?25hRequirement already satisfied: urllib3<1.27,>=1.21.1 in /usr/local/lib/python3.10/dist-packages (from requests>=2.20->openai) (1.26.15)\n",
            "Requirement already satisfied: certifi>=2017.4.17 in /usr/local/lib/python3.10/dist-packages (from requests>=2.20->openai) (2022.12.7)\n",
            "Requirement already satisfied: charset-normalizer~=2.0.0 in /usr/local/lib/python3.10/dist-packages (from requests>=2.20->openai) (2.0.12)\n",
            "Requirement already satisfied: idna<4,>=2.5 in /usr/local/lib/python3.10/dist-packages (from requests>=2.20->openai) (3.4)\n",
            "Requirement already satisfied: attrs>=17.3.0 in /usr/local/lib/python3.10/dist-packages (from aiohttp->openai) (23.1.0)\n",
            "Collecting multidict<7.0,>=4.5 (from aiohttp->openai)\n",
            "  Downloading multidict-6.0.4-cp310-cp310-manylinux_2_17_x86_64.manylinux2014_x86_64.whl (114 kB)\n",
            "\u001b[2K     \u001b[90m━━━━━━━━━━━━━━━━━━━━━━━━━━━━━━━━━━━━━━\u001b[0m \u001b[32m114.5/114.5 kB\u001b[0m \u001b[31m12.9 MB/s\u001b[0m eta \u001b[36m0:00:00\u001b[0m\n",
            "\u001b[?25hCollecting async-timeout<5.0,>=4.0.0a3 (from aiohttp->openai)\n",
            "  Downloading async_timeout-4.0.2-py3-none-any.whl (5.8 kB)\n",
            "Collecting yarl<2.0,>=1.0 (from aiohttp->openai)\n",
            "  Downloading yarl-1.9.2-cp310-cp310-manylinux_2_17_x86_64.manylinux2014_x86_64.whl (268 kB)\n",
            "\u001b[2K     \u001b[90m━━━━━━━━━━━━━━━━━━━━━━━━━━━━━━━━━━━━━━\u001b[0m \u001b[32m268.8/268.8 kB\u001b[0m \u001b[31m25.2 MB/s\u001b[0m eta \u001b[36m0:00:00\u001b[0m\n",
            "\u001b[?25hCollecting frozenlist>=1.1.1 (from aiohttp->openai)\n",
            "  Downloading frozenlist-1.3.3-cp310-cp310-manylinux_2_5_x86_64.manylinux1_x86_64.manylinux_2_17_x86_64.manylinux2014_x86_64.whl (149 kB)\n",
            "\u001b[2K     \u001b[90m━━━━━━━━━━━━━━━━━━━━━━━━━━━━━━━━━━━━━━\u001b[0m \u001b[32m149.6/149.6 kB\u001b[0m \u001b[31m15.7 MB/s\u001b[0m eta \u001b[36m0:00:00\u001b[0m\n",
            "\u001b[?25hCollecting aiosignal>=1.1.2 (from aiohttp->openai)\n",
            "  Downloading aiosignal-1.3.1-py3-none-any.whl (7.6 kB)\n",
            "Installing collected packages: multidict, frozenlist, async-timeout, yarl, aiosignal, aiohttp, openai\n",
            "Successfully installed aiohttp-3.8.4 aiosignal-1.3.1 async-timeout-4.0.2 frozenlist-1.3.3 multidict-6.0.4 openai-0.27.8 yarl-1.9.2\n"
          ]
        }
      ],
      "source": [
        "!pip install openai"
      ]
    },
    {
      "cell_type": "code",
      "source": [
        "import os\n",
        "os.environ['OPENAI_API_KEY'] = \"...\""
      ],
      "metadata": {
        "id": "smHL30KRrbQt"
      },
      "execution_count": 2,
      "outputs": []
    },
    {
      "cell_type": "code",
      "source": [
        "import openai\n",
        "import os\n",
        "\n",
        "user_text = \\\n",
        "\"言語はpythonで、フィボナッチ数を求めるサンプルコード及び\"\\\n",
        "\"そのテストコードを提示してください\"\n",
        "\n",
        "response = openai.ChatCompletion.create(\n",
        "    model=\"gpt-3.5-turbo\",\n",
        "    messages=[\n",
        "        {\n",
        "            \"role\": \"system\",\n",
        "            \"content\": \"ユーザーからの要求文にもっとも適した回答を提供してください。\"\n",
        "        },\n",
        "        {\n",
        "            \"role\": \"user\",\n",
        "            \"content\": user_text\n",
        "        }\n",
        "    ],\n",
        ")\n",
        "print(response.choices[0].message['content'])"
      ],
      "metadata": {
        "colab": {
          "base_uri": "https://localhost:8080/"
        },
        "id": "-PfuemRTrq73",
        "outputId": "31a3f387-8374-4333-ded8-468e2d58f884"
      },
      "execution_count": 3,
      "outputs": [
        {
          "output_type": "stream",
          "name": "stdout",
          "text": [
            "以下はPythonでフィボナッチ数列を生成するサンプルコードです。 このコードでは、再帰的アルゴリズムを使用しています。\n",
            "\n",
            "```python\n",
            "def fibonacci(n):\n",
            "    if n <= 1:\n",
            "        return n\n",
            "    else:\n",
            "        return (fibonacci(n-1) + fibonacci(n-2))\n",
            "\n",
            "# テストコード\n",
            "assert(fibonacci(0) == 0)\n",
            "assert(fibonacci(1) == 1)\n",
            "assert(fibonacci(2) == 1)\n",
            "assert(fibonacci(3) == 2)\n",
            "assert(fibonacci(4) == 3)\n",
            "assert(fibonacci(5) == 5)\n",
            "assert(fibonacci(6) == 8)\n",
            "assert(fibonacci(7) == 13)\n",
            "assert(fibonacci(8) == 21)\n",
            "assert(fibonacci(9) == 34)\n",
            "```\n",
            "\n",
            "このコードでは、引数に整数nを与えると、フィボナッチ数列のn番目の数を返します。また、テストコードでは、最初の10個のフィボナッチ数が正しく計算されることを確認しています。\n"
          ]
        }
      ]
    },
    {
      "cell_type": "code",
      "source": [
        "import openai\n",
        "import os\n",
        "\n",
        "user_text = \\\n",
        "\"言語はpythonで、再帰的にフィボナッチ数を求めるサンプルコード及び\"\\\n",
        "\"そのテストコードを提示してください\"\n",
        "\n",
        "response = openai.ChatCompletion.create(\n",
        "    model=\"gpt-3.5-turbo\",\n",
        "    stream=True,\n",
        "    messages=[\n",
        "        {\n",
        "            \"role\": \"system\",\n",
        "            \"content\": \"ユーザーからの要求文にもっとも適した回答を提供してください。\"\n",
        "        },\n",
        "        {\n",
        "            \"role\": \"user\",\n",
        "            \"content\": user_text\n",
        "        }\n",
        "    ],\n",
        ")\n",
        "for chunk in response:\n",
        "    if chunk and \"delta\" in chunk[\"choices\"][0] and \"content\" in chunk[\"choices\"][0][\"delta\"]:\n",
        "        partial_words = chunk[\"choices\"][0][\"delta\"][\"content\"]\n",
        "        print(partial_words, end=\"\")"
      ],
      "metadata": {
        "colab": {
          "base_uri": "https://localhost:8080/"
        },
        "id": "0JxWD11Ysi0a",
        "outputId": "bbd9c45e-8478-4190-b618-f2b0d2655650"
      },
      "execution_count": 4,
      "outputs": [
        {
          "output_type": "stream",
          "name": "stdout",
          "text": [
            "以下はPythonで再帰的にフィボナッチ数を求めるサンプルコードです。\n",
            "\n",
            "```python\n",
            "def fibonacci(n):\n",
            "    if n <= 1:\n",
            "        return n\n",
            "    else:\n",
            "        return fibonacci(n-1) + fibonacci(n-2)\n",
            "```\n",
            "\n",
            "上記のコードでは、nが1以下の場合はnを返します。それ以外の場合は、n-1とn-2のフィボナッチ数を再帰的に足し合わせたものを返します。\n",
            "\n",
            "以下は、上記のコードをテストするためのテストコードです。\n",
            "\n",
            "```python\n",
            "def test_fibonacci():\n",
            "\n",
            "    assert fibonacci(0) == 0\n",
            "    assert fibonacci(1) == 1\n",
            "    assert fibonacci(2) == 1\n",
            "    assert fibonacci(3) == 2\n",
            "    assert fibonacci(4) == 3\n",
            "    assert fibonacci(5) == 5\n",
            "    assert fibonacci(6) == 8\n",
            "```\n",
            "\n",
            "テストコードでは、各フィボナッチ数が期待通りの値を返すかを検証しています。これにより、関数が正常に動作していることが確認できます。"
          ]
        }
      ]
    },
    {
      "cell_type": "code",
      "source": [
        "import openai\n",
        "import os\n",
        "\n",
        "while True:\n",
        "  user_text = input(\"\\n\\n>\")\n",
        "  if user_text == \"quit\":\n",
        "    break\n",
        "\n",
        "  response = openai.ChatCompletion.create(\n",
        "      model=\"gpt-3.5-turbo\",\n",
        "      stream=True,\n",
        "      messages=[\n",
        "          {\n",
        "              \"role\": \"system\",\n",
        "              \"content\": \"ユーザーからの要求文にもっとも適した回答を提供してください。\"\n",
        "          },\n",
        "          {\n",
        "              \"role\": \"user\",\n",
        "              \"content\": user_text\n",
        "          }\n",
        "      ],\n",
        "  )\n",
        "  for chunk in response:\n",
        "      if chunk and \"delta\" in chunk[\"choices\"][0] and \"content\" in chunk[\"choices\"][0][\"delta\"]:\n",
        "          partial_words = chunk[\"choices\"][0][\"delta\"][\"content\"]\n",
        "          print(partial_words, end=\"\")"
      ],
      "metadata": {
        "colab": {
          "base_uri": "https://localhost:8080/"
        },
        "id": "Jyd6sd0gs2bt",
        "outputId": "3c230468-1966-4311-99e5-034efaf384dc"
      },
      "execution_count": 7,
      "outputs": [
        {
          "name": "stdout",
          "output_type": "stream",
          "text": [
            "\n",
            "\n",
            ">こんにちは\n",
            "こんにちは！何かお困りのことはありますか？\n",
            "\n",
            ">あなたの名前は？\n",
            "私の名前はOpenAIです。\n",
            "\n",
            ">quit\n"
          ]
        }
      ]
    }
  ]
}