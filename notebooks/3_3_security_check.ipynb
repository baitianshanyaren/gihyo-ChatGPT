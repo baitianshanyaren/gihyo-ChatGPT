{
  "nbformat": 4,
  "nbformat_minor": 0,
  "metadata": {
    "colab": {
      "provenance": [],
      "authorship_tag": "ABX9TyNfaC+wgOlUn5O6MkDFp/gN"
    },
    "kernelspec": {
      "name": "python3",
      "display_name": "Python 3"
    },
    "language_info": {
      "name": "python"
    }
  },
  "cells": [
    {
      "cell_type": "code",
      "execution_count": null,
      "metadata": {
        "id": "5SL-89cZgRo2"
      },
      "outputs": [],
      "source": [
        "def read_user_file(filename):\n",
        "    with open(filename, 'r') as file:\n",
        "        print(file.read())"
      ]
    },
    {
      "cell_type": "code",
      "source": [
        "filename = input(\"ファイル名を入力してください\")\n",
        "def read_user_file(filename):\n",
        "    with open(filename, 'r') as file:\n",
        "        print(file.read())"
      ],
      "metadata": {
        "id": "jIyvKHlXgvom"
      },
      "execution_count": null,
      "outputs": []
    },
    {
      "cell_type": "code",
      "source": [
        "import os\n",
        "\n",
        "filename = input(\"ファイル名を入力してください\")\n",
        "\n",
        "def read_user_file(filename):\n",
        "    # Sanitize the filename\n",
        "    filename = os.path.basename(filename)\n",
        "    with open(filename, 'r') as file:\n",
        "        print(file.read())"
      ],
      "metadata": {
        "id": "22NBwxOlgyRg"
      },
      "execution_count": null,
      "outputs": []
    }
  ]
}