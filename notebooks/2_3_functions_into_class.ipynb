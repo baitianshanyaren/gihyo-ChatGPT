{
  "nbformat": 4,
  "nbformat_minor": 0,
  "metadata": {
    "colab": {
      "provenance": [],
      "authorship_tag": "ABX9TyMG8T8eclCOb00tmhUVdmpg"
    },
    "kernelspec": {
      "name": "python3",
      "display_name": "Python 3"
    },
    "language_info": {
      "name": "python"
    }
  },
  "cells": [
    {
      "cell_type": "code",
      "execution_count": null,
      "metadata": {
        "id": "nl0Rey1MCa1H",
        "colab": {
          "base_uri": "https://localhost:8080/"
        },
        "outputId": "89fe9faa-ea98-4580-9983-ae11fe7788f9"
      },
      "outputs": [
        {
          "output_type": "stream",
          "name": "stdout",
          "text": [
            "Max says 'Woof!'\n",
            "Buddy says 'Woof!'\n",
            "Milo says 'Woof!'\n"
          ]
        }
      ],
      "source": [
        "def create_dog(name, age, breed):\n",
        "    return {\n",
        "        'name': name,\n",
        "        'age': age,\n",
        "        'breed': breed\n",
        "    }\n",
        "\n",
        "def set_name(dog, name):\n",
        "    dog['name'] = name\n",
        "\n",
        "def set_age(dog, age):\n",
        "    dog['age'] = age\n",
        "\n",
        "def set_breed(dog, breed):\n",
        "    dog['breed'] = breed\n",
        "\n",
        "def bark(dog):\n",
        "    print(f\"{dog['name']} says 'Woof!'\")\n",
        "\n",
        "\n",
        "dog1 = create_dog(\"Max\", 3, \"Labrador\")\n",
        "dog2 = create_dog(\"Buddy\", 1, \"Golden Retriever\")\n",
        "\n",
        "bark(dog1)\n",
        "bark(dog2)\n",
        "\n",
        "set_name(dog1, \"Milo\")\n",
        "bark(dog1)"
      ]
    },
    {
      "cell_type": "code",
      "source": [
        "class Dog:\n",
        "    def __init__(self, name, age, breed):\n",
        "        self.name = name\n",
        "        self.age = age\n",
        "        self.breed = breed\n",
        "\n",
        "    def bark(self):\n",
        "        print(f\"{self.name} says 'Woof!'\")\n",
        "\n",
        "    def set_name(self, name):\n",
        "        self.name = name\n",
        "\n",
        "    def set_age(self, age):\n",
        "        self.age = age\n",
        "\n",
        "    def set_breed(self, breed):\n",
        "        self.breed = breed"
      ],
      "metadata": {
        "id": "q2mVi8pgVr_N"
      },
      "execution_count": null,
      "outputs": []
    },
    {
      "cell_type": "code",
      "source": [
        "dog1 = Dog(\"Max\", 3, \"Labrador\")\n",
        "dog2 = Dog(\"Buddy\", 1, \"Golden Retriever\")\n",
        "\n",
        "dog1.bark()\n",
        "dog2.bark()\n",
        "\n",
        "dog1.set_name(\"Milo\")\n",
        "dog1.bark()"
      ],
      "metadata": {
        "colab": {
          "base_uri": "https://localhost:8080/"
        },
        "id": "ehTuRZOYVyCC",
        "outputId": "83daed18-a529-408a-cf27-f1caa9397ec6"
      },
      "execution_count": null,
      "outputs": [
        {
          "output_type": "stream",
          "name": "stdout",
          "text": [
            "Max says 'Woof!'\n",
            "Buddy says 'Woof!'\n",
            "Milo says 'Woof!'\n"
          ]
        }
      ]
    },
    {
      "cell_type": "code",
      "source": [
        "class Item:\n",
        "    def __init__(self, name, price):\n",
        "        self.name = name\n",
        "        self.price = price\n",
        "\n",
        "class ShoppingCart:\n",
        "    def __init__(self):\n",
        "        self.items = []\n",
        "\n",
        "    def add_item(self, item):\n",
        "        self.items.append(item)\n",
        "\n",
        "    def remove_item(self, item_name):\n",
        "        for item in self.items:\n",
        "            if item.name == item_name:\n",
        "                self.items.remove(item)\n",
        "                break\n",
        "\n",
        "    def total_price(self):\n",
        "        return sum(item.price for item in self.items)"
      ],
      "metadata": {
        "id": "lP0SF97yWLZZ"
      },
      "execution_count": null,
      "outputs": []
    },
    {
      "cell_type": "markdown",
      "source": [
        "## クラス図からのコード生成アプローチ"
      ],
      "metadata": {
        "id": "C4ix-ESzV4mR"
      }
    },
    {
      "cell_type": "code",
      "source": [
        "class Dog:\n",
        "    def __init__(self, name, age, breed):\n",
        "        self.name = name\n",
        "        self.age = age\n",
        "        self.breed = breed\n",
        "\n",
        "    def bark(self):\n",
        "        print(f\"{self.name} says 'Woof!'\")\n",
        "\n",
        "    def run(self, speed):\n",
        "        print(f\"{self.name} runs at {speed} mph\")\n",
        "\n",
        "\n",
        "# テストコード\n",
        "dog1 = Dog(\"Max\", 3, \"Labrador\")\n",
        "dog2 = Dog(\"Buddy\", 1, \"Golden Retriever\")\n",
        "\n",
        "dog1.bark()  # 出力: Max says 'Woof!'\n",
        "dog2.bark()  # 出力: Buddy says 'Woof!'\n",
        "\n",
        "dog1.run(5)  # 出力: Max runs at 5 mph\n",
        "dog2.run(8)  # 出力: Buddy runs at 8 mph"
      ],
      "metadata": {
        "colab": {
          "base_uri": "https://localhost:8080/"
        },
        "id": "oFhpjuSJV22W",
        "outputId": "c90c536d-aea6-4a00-e216-7affee8ae9c5"
      },
      "execution_count": null,
      "outputs": [
        {
          "output_type": "stream",
          "name": "stdout",
          "text": [
            "Max says 'Woof!'\n",
            "Buddy says 'Woof!'\n",
            "Max runs at 5 mph\n",
            "Buddy runs at 8 mph\n"
          ]
        }
      ]
    }
  ]
}