{
  "nbformat": 4,
  "nbformat_minor": 0,
  "metadata": {
    "colab": {
      "provenance": [],
      "authorship_tag": "ABX9TyNGzPwyfhfp8D+GP480aJxk"
    },
    "kernelspec": {
      "name": "python3",
      "display_name": "Python 3"
    },
    "language_info": {
      "name": "python"
    }
  },
  "cells": [
    {
      "cell_type": "code",
      "execution_count": null,
      "metadata": {
        "id": "LylFS5MKHyKc"
      },
      "outputs": [],
      "source": [
        "!pip install langchain\n",
        "!pip install openai"
      ]
    },
    {
      "cell_type": "code",
      "source": [
        "import os\n",
        "os.environ['OPENAI_API_KEY'] = \"...\""
      ],
      "metadata": {
        "id": "f7yz-mVet3WZ"
      },
      "execution_count": null,
      "outputs": []
    },
    {
      "cell_type": "markdown",
      "source": [
        "## 自動でパズルを解く簡単な例"
      ],
      "metadata": {
        "id": "vlhAdXtruaCd"
      }
    },
    {
      "cell_type": "code",
      "source": [
        "!pip install wikipedia"
      ],
      "metadata": {
        "id": "WCIZSfpKuD3L"
      },
      "execution_count": null,
      "outputs": []
    },
    {
      "cell_type": "code",
      "source": [
        "from langchain.agents import load_tools\n",
        "from langchain.agents import initialize_agent\n",
        "from langchain.chat_models import ChatOpenAI\n",
        "from langchain.llms import OpenAI\n",
        "llm = ChatOpenAI(temperature=0.5)\n",
        "tools = load_tools([\"wikipedia\",\"python_repl\"], llm=llm)\n",
        "agent = initialize_agent(tools, llm, agent=\"zero-shot-react-description\", verbose=True)"
      ],
      "metadata": {
        "id": "gNLW-lJvuNlu"
      },
      "execution_count": null,
      "outputs": []
    },
    {
      "cell_type": "code",
      "source": [
        "agent.run(\n",
        "\"\"\"\n",
        "まず数独とは何か、そのルールを確認し、そのうえで以下の数独パズルを解いてください。\n",
        "出力はそのまま配列でかまいません:\n",
        "[\n",
        "[4,0,9,1,8,0,0,0,0],\n",
        "[1,7,0,5,0,0,0,3,0],\n",
        "[0,3,0,0,0,0,0,0,8],\n",
        "[0,0,0,4,0,2,0,0,0],\n",
        "[0,9,0,0,0,0,2,4,0],\n",
        "[2,0,3,0,0,0,0,0,5],\n",
        "[0,1,0,0,0,0,0,0,3],\n",
        "[3,0,7,0,0,1,8,0,9],\n",
        "[0,0,0,0,9,7,1,6,0],\n",
        "]\n",
        "\"\"\"\n",
        ")"
      ],
      "metadata": {
        "colab": {
          "base_uri": "https://localhost:8080/",
          "height": 1000
        },
        "id": "kSi-X4xjuXjk",
        "outputId": "e0d8f2a3-0b43-449d-f278-a784059cca63"
      },
      "execution_count": null,
      "outputs": [
        {
          "output_type": "stream",
          "name": "stdout",
          "text": [
            "\n",
            "\n",
            "\u001b[1m> Entering new AgentExecutor chain...\u001b[0m\n",
            "\u001b[32;1m\u001b[1;3mI don't understand the input question. It seems to be in Japanese and related to Sudoku. I should use Wikipedia to learn more about Sudoku and its rules.\n",
            "Action: Wikipedia\n",
            "Action Input: \"Sudoku\"\u001b[0m\n",
            "Observation: \u001b[36;1m\u001b[1;3mPage: Sudoku\n",
            "Summary: Sudoku (; Japanese: 数独, romanized: sūdoku, lit. 'digit-single'; originally called Number Place) is a logic-based, combinatorial number-placement puzzle. In classic Sudoku, the objective is to fill a 9 × 9 grid with digits so that each column, each row, and each of the nine 3 × 3 subgrids that compose the grid (also called \"boxes\", \"blocks\", or \"regions\") contain all of the digits from 1 to 9. The puzzle setter provides a partially completed grid, which for a well-posed puzzle has a single solution.\n",
            "French newspapers featured variations of the Sudoku puzzles in the 19th century, and the puzzle has appeared since 1979 in puzzle books under the name Number Place. However, the modern Sudoku only began to gain widespread popularity in 1986 when it was published by the Japanese puzzle company Nikoli under the name Sudoku, meaning \"single number\". It first appeared in a U.S. newspaper, and then The Times (London), in 2004, thanks to the efforts of Wayne Gould, who devised a computer program to rapidly produce unique puzzles.\n",
            "\n",
            "\n",
            "\n",
            "Page: Glossary of Sudoku\n",
            "Summary: This is a glossary of Sudoku terms and jargon. It is organized thematically, with links to references and example usage provided as ([1]). Sudoku with a 9×9 grid is assumed, unless otherwise noted.\n",
            "\n",
            "Page: Sudoku solving algorithms\n",
            "Summary: A standard Sudoku contains 81 cells, in a 9×9 grid, and has 9 boxes, each box being the intersection of the first, middle, or last 3 rows,  and the first, middle, or last 3 columns. Each cell may contain a number from one to nine, and each number can only occur once in each row, column, and box. A Sudoku starts with some cells containing numbers (clues), and the goal is to solve the remaining cells. Proper Sudokus have one solution. Players and investigators use a wide range of computer algorithms to solve Sudokus, study their properties, and make new puzzles, including Sudokus with interesting symmetries and other properties.\n",
            "There are several computer algorithms that will solve 9×9 puzzles (n=9) in fractions of a second, but combinatorial explosion occurs as n increases, creating limits to the properties of Sudokus that can be constructed, analyzed, and solved as n increases.\u001b[0m\n",
            "Thought:\u001b[32;1m\u001b[1;3mNow that I understand the rules of Sudoku, I can use Python to solve the puzzle given in the input question.\n",
            "Action: Python REPL\n",
            "Action Input:\n",
            "```\n",
            "puzzle = [\n",
            "[4,0,9,1,8,0,0,0,0],\n",
            "[1,7,0,5,0,0,0,3,0],\n",
            "[0,3,0,0,0,0,0,0,8],\n",
            "[0,0,0,4,0,2,0,0,0],\n",
            "[0,9,0,0,0,0,2,4,0],\n",
            "[2,0,3,0,0,0,0,0,5],\n",
            "[0,1,0,0,0,0,0,0,3],\n",
            "[3,0,7,0,0,1,8,0,9],\n",
            "[0,0,0,0,9,7,1,6,0],\n",
            "]\n",
            "\n",
            "def print_puzzle(puzzle):\n",
            "    for row in puzzle:\n",
            "        print(row)\n",
            "\n",
            "print_puzzle(puzzle)\n",
            "```\u001b[0m\n",
            "Observation: \u001b[33;1m\u001b[1;3m[4, 0, 9, 1, 8, 0, 0, 0, 0]\n",
            "[1, 7, 0, 5, 0, 0, 0, 3, 0]\n",
            "[0, 3, 0, 0, 0, 0, 0, 0, 8]\n",
            "[0, 0, 0, 4, 0, 2, 0, 0, 0]\n",
            "[0, 9, 0, 0, 0, 0, 2, 4, 0]\n",
            "[2, 0, 3, 0, 0, 0, 0, 0, 5]\n",
            "[0, 1, 0, 0, 0, 0, 0, 0, 3]\n",
            "[3, 0, 7, 0, 0, 1, 8, 0, 9]\n",
            "[0, 0, 0, 0, 9, 7, 1, 6, 0]\n",
            "\u001b[0m\n",
            "Thought:\u001b[32;1m\u001b[1;3mI need to use a Sudoku solving algorithm in Python to solve the puzzle.\n",
            "Action: Python REPL\n",
            "Action Input:\n",
            "```\n",
            "def find_empty(puzzle):\n",
            "    for row in range(len(puzzle)):\n",
            "        for col in range(len(puzzle[0])):\n",
            "            if puzzle[row][col] == 0:\n",
            "                return (row, col)\n",
            "    return None\n",
            "\n",
            "def valid(puzzle, num, pos):\n",
            "    # Check row\n",
            "    for i in range(len(puzzle[0])):\n",
            "        if puzzle[pos[0]][i] == num and pos[1] != i:\n",
            "            return False\n",
            "\n",
            "    # Check column\n",
            "    for i in range(len(puzzle)):\n",
            "        if puzzle[i][pos[1]] == num and pos[0] != i:\n",
            "            return False\n",
            "\n",
            "    # Check box\n",
            "    box_x = pos[1] // 3\n",
            "    box_y = pos[0] // 3\n",
            "\n",
            "    for i in range(box_y * 3, box_y * 3 + 3):\n",
            "        for j in range(box_x * 3, box_x * 3 + 3):\n",
            "            if puzzle[i][j] == num and (i, j) != pos:\n",
            "                return False\n",
            "\n",
            "    return True\n",
            "\n",
            "def solve(puzzle):\n",
            "    find = find_empty(puzzle)\n",
            "    if not find:\n",
            "        return True\n",
            "    else:\n",
            "        row, col = find\n",
            "\n",
            "    for i in range(1, 10):\n",
            "        if valid(puzzle, i, (row, col)):\n",
            "            puzzle[row][col] = i\n",
            "\n",
            "            if solve(puzzle):\n",
            "                return True\n",
            "\n",
            "            puzzle[row][col] = 0\n",
            "\n",
            "    return False\n",
            "\n",
            "solve(puzzle)\n",
            "print_puzzle(puzzle)\n",
            "```\u001b[0m\n",
            "Observation: \u001b[33;1m\u001b[1;3m[4, 6, 9, 1, 8, 3, 5, 2, 7]\n",
            "[1, 7, 8, 5, 2, 9, 6, 3, 4]\n",
            "[5, 3, 2, 7, 6, 4, 9, 1, 8]\n",
            "[6, 8, 5, 4, 7, 2, 3, 9, 1]\n",
            "[7, 9, 1, 8, 3, 5, 2, 4, 6]\n",
            "[2, 4, 3, 9, 1, 6, 7, 8, 5]\n",
            "[9, 1, 6, 2, 5, 8, 4, 7, 3]\n",
            "[3, 2, 7, 6, 4, 1, 8, 5, 9]\n",
            "[8, 5, 4, 3, 9, 7, 1, 6, 2]\n",
            "\u001b[0m\n",
            "Thought:\u001b[32;1m\u001b[1;3mThe final answer is the solved Sudoku puzzle.\n",
            "Final Answer: \n",
            "[4, 6, 9, 1, 8, 3, 5, 2, 7]\n",
            "[1, 7, 8, 5, 2, 9, 6, 3, 4]\n",
            "[5, 3, 2, 7, 6, 4, 9, 1, 8]\n",
            "[6, 8, 5, 4, 7, 2, 3, 9, 1]\n",
            "[7, 9, 1, 8, 3, 5, 2, 4, 6]\n",
            "[2, 4, 3, 9, 1, 6, 7, 8, 5]\n",
            "[9, 1, 6, 2, 5, 8, 4, 7, 3]\n",
            "[3, 2, 7, 6, 4, 1, 8, 5, 9]\n",
            "[8, 5, 4, 3, 9, 7, 1, 6, 2]\u001b[0m\n",
            "\n",
            "\u001b[1m> Finished chain.\u001b[0m\n"
          ]
        },
        {
          "output_type": "execute_result",
          "data": {
            "text/plain": [
              "'[4, 6, 9, 1, 8, 3, 5, 2, 7]\\n[1, 7, 8, 5, 2, 9, 6, 3, 4]\\n[5, 3, 2, 7, 6, 4, 9, 1, 8]\\n[6, 8, 5, 4, 7, 2, 3, 9, 1]\\n[7, 9, 1, 8, 3, 5, 2, 4, 6]\\n[2, 4, 3, 9, 1, 6, 7, 8, 5]\\n[9, 1, 6, 2, 5, 8, 4, 7, 3]\\n[3, 2, 7, 6, 4, 1, 8, 5, 9]\\n[8, 5, 4, 3, 9, 7, 1, 6, 2]'"
            ],
            "application/vnd.google.colaboratory.intrinsic+json": {
              "type": "string"
            }
          },
          "metadata": {},
          "execution_count": 7
        }
      ]
    },
    {
      "cell_type": "markdown",
      "source": [
        "## Web検索に対応させる"
      ],
      "metadata": {
        "id": "ttVi3ErE9tx7"
      }
    },
    {
      "cell_type": "code",
      "source": [
        "import os\n",
        "os.environ[\"GOOGLE_CSE_ID\"] = \"「検索エンジンID」\"\n",
        "os.environ[\"GOOGLE_API_KEY\"] = \"「API KEY」\""
      ],
      "metadata": {
        "id": "-i467WTI91lc"
      },
      "execution_count": null,
      "outputs": []
    },
    {
      "cell_type": "code",
      "source": [
        "!pip install google-search"
      ],
      "metadata": {
        "colab": {
          "base_uri": "https://localhost:8080/"
        },
        "id": "xKPdgD1QFWRZ",
        "outputId": "f14665ff-31fd-43d3-aa28-58bc551abc58"
      },
      "execution_count": null,
      "outputs": [
        {
          "output_type": "stream",
          "name": "stdout",
          "text": [
            "Looking in indexes: https://pypi.org/simple, https://us-python.pkg.dev/colab-wheels/public/simple/\n",
            "Collecting google-search\n",
            "  Downloading google_search-1.1.1-py2.py3-none-any.whl (6.5 kB)\n",
            "Requirement already satisfied: beautifulsoup4 in /usr/local/lib/python3.10/dist-packages (from google-search) (4.11.2)\n",
            "Requirement already satisfied: lxml in /usr/local/lib/python3.10/dist-packages (from google-search) (4.9.2)\n",
            "Requirement already satisfied: soupsieve in /usr/local/lib/python3.10/dist-packages (from google-search) (2.4.1)\n",
            "Installing collected packages: google-search\n",
            "Successfully installed google-search-1.1.1\n"
          ]
        }
      ]
    },
    {
      "cell_type": "code",
      "source": [
        "from langchain.tools import Tool\n",
        "from langchain.utilities import GoogleSearchAPIWrapper\n",
        "search = GoogleSearchAPIWrapper()\n",
        "tool = Tool(\n",
        "  name = \"Google Search\",\n",
        "  description=\"Search Google for recent results.\",\n",
        "  func=search.run\n",
        ")"
      ],
      "metadata": {
        "id": "J3gshWFwFcO4"
      },
      "execution_count": null,
      "outputs": []
    },
    {
      "cell_type": "code",
      "source": [
        "result = tool.run(\"今年のG7 開催国\")\n",
        "print(result)"
      ],
      "metadata": {
        "colab": {
          "base_uri": "https://localhost:8080/"
        },
        "id": "BrMNHmdfFkHd",
        "outputId": "70c04356-32b3-4898-e1ac-7c74fe3e7224"
      },
      "execution_count": null,
      "outputs": [
        {
          "output_type": "stream",
          "name": "stdout",
          "text": [
            "広島では、G7サミットが開催され、 わが国の魅力を発信する機会が到来します。 会合開催地、そして全国の皆様のご協力も頂戴し、 サミットと閣僚会合の成功、 日本と世界の ... Oct 19, 2022 ... ドイツで開催されたエルマウサミットに続き、次のG7サミットが2023年5月19日から21日の間、広島県広島市で開催されます。日本開催のG7サミットとして ... 今年は6月にドイツ・エルマウでG7サミットが、10月にインドネシア・バリ島でG20サミットが開催されます。世界のパワーバランスが絶え間なく変化する中、一部先進国で ... そして今年三重県伊勢志摩にて、6回目の議長国としてG7サミットを開催します。 サミット開催の経緯. 1970年代に入り、ニクソン・ショック(ドルの切り下げ)や第1次石油危機 ... G7. 2022 G7サミット. 令和5年4月12日. 英語版 (English) ... G7首脳会合. 挨拶をするG7首脳たち G7首脳会合に参加する岸田総理大臣（3月） （写真提供：内閣広報室）. 日本が議長国を務める今年のG7男女共同参画・女性活躍担当大臣会合を、以下のとおり6月に栃木県日光市において開催します。 本会合ではG7各国やEU、関係機関の代表 ... Dec 5, 2022 ... G7議長国の任期は、1月～12月の1年間です。議長国は、事務レベルの準備会合や関連閣僚会合の開催を通じて、その年のサミット（首脳会合）の準備を行い ... G7サミット（主要国会議）とは、仏、米、英、独、日、伊、加（議長国順）の7か国及び欧州連合(EU)の首脳が参加して毎年開催される国際会議です。 令和4（2022）年6月26日から28日にかけて、ドイツ・エルマウにおいてG7サミットが開催され、首脳宣言がとりまとめられました。そのうち、ジェンダー関連部分の概要 ... Jan 31, 2023 ... G7サミット（主要国首脳会議）とは、仏、米、英、独、日、伊、加（議長国順）の7か国並びに欧州理事会議長及び欧州委員会委員長が参加して、毎年開催され ...\n"
          ]
        }
      ]
    },
    {
      "cell_type": "code",
      "source": [
        "search = GoogleSearchAPIWrapper()\n",
        "llm = ChatOpenAI(temperature=0)\n",
        "tools = load_tools([\"python_repl\"], llm=llm)\n",
        "tools.append(\n",
        "  Tool(\n",
        "    name = \"Google Search\",\n",
        "    description=\"Search Google for recent results.\",\n",
        "    func=search.run\n",
        "  )\n",
        ")\n",
        "agent = initialize_agent(tools, llm, agent=\"zero-shot-react-description\", verbose=True)"
      ],
      "metadata": {
        "id": "Wr429WM-FpGp"
      },
      "execution_count": null,
      "outputs": []
    },
    {
      "cell_type": "code",
      "source": [
        "agent.run(\"明日の東京の天気は？\")"
      ],
      "metadata": {
        "colab": {
          "base_uri": "https://localhost:8080/",
          "height": 323
        },
        "id": "wNYFMMbIF634",
        "outputId": "880abc3f-ee7c-479c-fc83-efb19aec0430"
      },
      "execution_count": null,
      "outputs": [
        {
          "output_type": "stream",
          "name": "stdout",
          "text": [
            "\n",
            "\n",
            "\u001b[1m> Entering new AgentExecutor chain...\u001b[0m\n",
            "\u001b[32;1m\u001b[1;3mThis question is in Japanese, so I should use Google Search to find a translation and then use the translation to search for the answer.\n",
            "Action: Google Search\n",
            "Action Input: \"明日の東京の天気は？\" translation\u001b[0m\n",
            "Observation: \u001b[33;1m\u001b[1;3m▾. External sources (not reviewed) · 皆さん、今日は座談会にお集まりいただ き ありがとうございます。 seiko.co.jp · Thank you for joining the discussion meeting ... たとえば明日の気象が、その人の体調によくない場合は、気温が急速に下がるので注意をといった健康予報を発し、しかも、いかなる因子によって危険度が高まるのかを ... Mar 27, 2023 ... 東京地方は朝は雨が降りますが、昼前から曇りでしょう。最高気温は16℃前後の予想です。 あす29日（水）は昼前は晴れますが、夜には雨が降る所があるで ... Translations in context of \"あした\" in Japanese-English from Reverso Context: ありがとうございました, ありませんでした, もしあなたが, ありました, あたし. Mar 30, 2020 ... The weather forecast of Tokyo is sunny and subsequently cloudy. 明日は曇り時々雨が降る見込みです。 Ashita wa kumori tokidoki ame ga furu mikomi ... Dec 31, 2022 ... 明日の天気はどうなるの？ [no official translation available], amateur translation: How will tomorrow's weather be? Layer 03, PSYCHE, レッツ！ Kansai Dialect Dictionary. 5724 0. When I was in Japan during the summer of 2010 ... 東京に行ったことないわ！ (Dakara chau tte! ... 明日の天気は晴れるんや！ A project that contains translations from the internet, DeepL and a bit of personal interpretation at times. [b]THIS LIST IS A WORK IN PROGRESS[/b] ... Translate the following English sentences into Japanese (use a polite form ending) . ... 東京. は人が多い。 2. 今日は風が強い。 3. 今日は天気がいい。\u001b[0m\n",
            "Thought:\u001b[32;1m\u001b[1;3mI see that there are multiple results, but one of them seems to be a weather forecast for Tokyo tomorrow. I should use Google Translate to confirm.\n",
            "Action: Google Search\n",
            "Action Input: \"明日の東京の天気\" in Japanese\u001b[0m\n",
            "Observation: \u001b[33;1m\u001b[1;3m東京（東京）の天気予報。今日・明日の天気と風と波、明日までの6時間ごとの降水確率と最高・最低気温を見られます。 【予報精度No.1】東京都千代田区の天気予報を5分毎・1時間毎・今日明日・週間(10日間)で掲載中！今知りたい現地の天気は、ウェザーニュースアプリから届く空の写真で ... 日本気象協会公式の天気予報専門メディアです。市区町村別のピンポイントな天気予報に加え、専門的な気象情報、地震・津波などの防災情報を提供します。 予報精度No.1！最新の気象情報ならウェザーニュース。雨雲レーダーから、台風、地震、津波、火山、注意報警報など防災・災害情報も掲載。気象予報士の解説付き天気 ... 気象庁が発表する気象情報、地震・津波情報、データ、火山、気候、環境、海洋情報を掲載. 防災に役立つ最新の特別警報、警報、注意報、今後の推移を市区町村レベルで提供。 【東京都】の天気予報。きょうから1週間先までの天気・降水確率・最高・最低気温を確認できます。詳細は市区町村を選択してご覧ください。アメダス情報も掲載してい ... Mar 30, 2020 ... 東京の天気予報は晴れのち曇りです。 Tokyō no tenki yohō wa hare nochi kumori desu. The weather forecast of Tokyo is sunny and subsequently cloudy ... 各列車の遅れ時分などの詳細は、「個別列車案内」でご確認ください。また、各駅（東京駅～新大阪駅間）の列車の発車順序は、「発車順序案内」をご確認ください。 本日および明日の悪天候に伴う遅延、欠航、出発空港への引き返し、他空港への着陸の可能性がある空港は、以下のとおりです。 北海道, <10日>帯広（視界不良） <11日>釧路・ ...\u001b[0m\n",
            "Thought:\u001b[32;1m\u001b[1;3mI see that the weather forecast for Tokyo tomorrow is \"sunny and subsequently cloudy\". I now know the answer to the original question.\n",
            "Final Answer: The weather in Tokyo tomorrow will be sunny and subsequently cloudy.\u001b[0m\n",
            "\n",
            "\u001b[1m> Finished chain.\u001b[0m\n"
          ]
        },
        {
          "output_type": "execute_result",
          "data": {
            "text/plain": [
              "'The weather in Tokyo tomorrow will be sunny and subsequently cloudy.'"
            ],
            "application/vnd.google.colaboratory.intrinsic+json": {
              "type": "string"
            }
          },
          "metadata": {},
          "execution_count": 24
        }
      ]
    },
    {
      "cell_type": "markdown",
      "source": [
        "## インデックスDB検索を組み込む"
      ],
      "metadata": {
        "id": "veZeIpy-IQLL"
      }
    },
    {
      "cell_type": "code",
      "source": [
        "!pip install llama-index\n",
        "!pip install html2text"
      ],
      "metadata": {
        "id": "Lj6NozVHIXsu"
      },
      "execution_count": null,
      "outputs": []
    },
    {
      "cell_type": "code",
      "source": [
        "from langchain import OpenAI\n",
        "from langchain.chat_models import ChatOpenAI\n",
        "from llama_index import GPTVectorStoreIndex\n",
        "from llama_index import SimpleWebPageReader\n",
        "from langchain.agents import initialize_agent, Tool\n",
        "documents = SimpleWebPageReader(html_to_text=True).load_data(\n",
        "[\n",
        "'https://www.gutenberg.org/cache/epub/59/pg59-images.html'\n",
        "]\n",
        ")\n",
        "index = GPTVectorStoreIndex.from_documents(documents=documents)\n",
        "tools =[Tool(\n",
        "name=\"LlamaIndex\",\n",
        "func=lambda q: str(index.as_query_engine().query(q)),\n",
        "description=\"デカルトの方法序説に関する質問に答えるときに便利です。\",\n",
        "),\n",
        "]\n",
        "llm = ChatOpenAI(\n",
        "temperature=0,\n",
        ")\n",
        "agent = initialize_agent(\n",
        "tools=tools\n",
        ", llm=llm\n",
        ", agent=\"zero-shot-react-description\", verbose=True\n",
        ")"
      ],
      "metadata": {
        "id": "0kZcIgS-LcU6"
      },
      "execution_count": null,
      "outputs": []
    },
    {
      "cell_type": "code",
      "source": [
        "agent.run(\"デカルトの方法序説で科学的方法についてどのように説明していますか？\")"
      ],
      "metadata": {
        "colab": {
          "base_uri": "https://localhost:8080/",
          "height": 288
        },
        "id": "yHQn2wIVLhW0",
        "outputId": "cb0dc6a1-3585-4bcd-f05f-4f1a280ef80d"
      },
      "execution_count": null,
      "outputs": [
        {
          "output_type": "stream",
          "name": "stdout",
          "text": [
            "\n",
            "\n",
            "\u001b[1m> Entering new AgentExecutor chain...\u001b[0m\n",
            "\u001b[32;1m\u001b[1;3mI need to find a resource that explains Descartes' explanation of scientific method in his Discourse on Method.\n",
            "Action: LlamaIndex\n",
            "Action Input: \"Descartes Discourse on Method scientific method explanation\"\u001b[0m\n",
            "Observation: \u001b[36;1m\u001b[1;3m\n",
            "Descartes' Discourse on the Method is an explanation of the scientific method, which is a process of inquiry used to investigate and explain phenomena. The scientific method involves making observations, forming hypotheses, testing hypotheses, and drawing conclusions. Descartes' Discourse outlines the steps of the scientific method, including the importance of careful observation, logical reasoning, and experimentation. He also emphasizes the importance of avoiding preconceived notions and of being open to new ideas.\u001b[0m\n",
            "Thought:\u001b[32;1m\u001b[1;3mI now know Descartes' explanation of scientific method in his Discourse on Method.\n",
            "Final Answer: Descartes' Discourse on the Method outlines the steps of the scientific method, including the importance of careful observation, logical reasoning, and experimentation, and emphasizes the importance of avoiding preconceived notions and being open to new ideas.\u001b[0m\n",
            "\n",
            "\u001b[1m> Finished chain.\u001b[0m\n"
          ]
        },
        {
          "output_type": "execute_result",
          "data": {
            "text/plain": [
              "\"Descartes' Discourse on the Method outlines the steps of the scientific method, including the importance of careful observation, logical reasoning, and experimentation, and emphasizes the importance of avoiding preconceived notions and being open to new ideas.\""
            ],
            "application/vnd.google.colaboratory.intrinsic+json": {
              "type": "string"
            }
          },
          "metadata": {},
          "execution_count": 35
        }
      ]
    },
    {
      "cell_type": "markdown",
      "source": [
        "## PDF文書を検索する"
      ],
      "metadata": {
        "id": "GOZEn8CEPNzN"
      }
    },
    {
      "cell_type": "code",
      "source": [
        "from pathlib import Path\n",
        "from llama_index import download_loader\n",
        "CJKPDFReader = download_loader(\"CJKPDFReader\")\n",
        "loader = CJKPDFReader()\n",
        "documents = loader.load_data(file=Path('./minpou.pdf'))"
      ],
      "metadata": {
        "id": "yCAtQ6euPKS3"
      },
      "execution_count": null,
      "outputs": []
    },
    {
      "cell_type": "code",
      "source": [
        "from llama_index import GPTVectorStoreIndex\n",
        "# インデックスの作成\n",
        "index = GPTVectorStoreIndex.from_documents(documents)"
      ],
      "metadata": {
        "id": "MZYZIUGPPacj"
      },
      "execution_count": null,
      "outputs": []
    },
    {
      "cell_type": "code",
      "source": [
        "# インデックスの保存\n",
        "index.storage_context.persist('index_minpou')"
      ],
      "metadata": {
        "id": "Y4MbpD_JPjH5"
      },
      "execution_count": null,
      "outputs": []
    },
    {
      "cell_type": "code",
      "source": [
        "from llama_index import StorageContext, load_index_from_storage\n",
        "# インデックスの読み込み\n",
        "storage_context = StorageContext.from_defaults(persist_dir=\"./index_minpou\")\n",
        "index = load_index_from_storage(storage_context)\n",
        "query_engine = index.as_query_engine()"
      ],
      "metadata": {
        "id": "P0aZFJrjPmOE"
      },
      "execution_count": null,
      "outputs": []
    },
    {
      "cell_type": "code",
      "source": [
        "print(query_engine.query(\"遺言についての法律を3つ挙げてください（何条、内容）。日本語で\"))"
      ],
      "metadata": {
        "colab": {
          "base_uri": "https://localhost:8080/"
        },
        "id": "EcrVbucVP4sn",
        "outputId": "bf48b406-ca0e-46c3-b0b9-1204b02ea146"
      },
      "execution_count": null,
      "outputs": [
        {
          "output_type": "stream",
          "name": "stdout",
          "text": [
            "\n",
            "1. 第九百六十条：遺言は、この法律に定める方式に従わなければ、することができない。\n",
            "2. 第九百六十一条：十五歳に達した者は、遺言をすることができる。\n",
            "3. 第九百六十三条：遺言者は、遺言をする時においてその能力を有しなければならない。\n"
          ]
        }
      ]
    },
    {
      "cell_type": "markdown",
      "source": [
        "## 複数のインデックスDBはそれぞれ別のToolにすること"
      ],
      "metadata": {
        "id": "G02Q06Q5Q_HT"
      }
    },
    {
      "cell_type": "code",
      "source": [
        "documents = loader.load_data(file=Path('./keihou.pdf'))\n",
        "index_keihou = GPTVectorStoreIndex.from_documents(documents)\n",
        "index_keihou.storage_context.persist('index_keihou')"
      ],
      "metadata": {
        "id": "XBXtGD88RHYj"
      },
      "execution_count": null,
      "outputs": []
    },
    {
      "cell_type": "code",
      "source": [
        "from langchain import OpenAI\n",
        "from llama_index import GPTVectorStoreIndex, SimpleDirectoryReader\n",
        "from llama_index import SimpleWebPageReader, LLMPredictor, OpenAIEmbedding\n",
        "from langchain.agents import initialize_agent, Tool\n",
        "from llama_index import StorageContext, load_index_from_storage\n",
        "\n",
        "index_kenpou = GPTVectorStoreIndex.from_documents(documents=documents)\n",
        "\n",
        "storage_context = StorageContext.from_defaults(persist_dir=\"./index_minpou\")\n",
        "index_minpou = load_index_from_storage(storage_context)\n",
        "\n",
        "storage_context = StorageContext.from_defaults(persist_dir=\"./index_keihou\")\n",
        "index_keihou = load_index_from_storage(storage_context)\n",
        "\n",
        "llm = ChatOpenAI(\n",
        "  temperature=0,\n",
        ")\n",
        "\n",
        "tools =[\n",
        "    Tool(\n",
        "    name=\"minpou\",\n",
        "    func=lambda q: str(index_minpou.as_query_engine().query(q)),\n",
        "    description=\"民法にに関する質問に答えるときに便利です。\",\n",
        "    return_direct=True,\n",
        "    ),\n",
        "    Tool(\n",
        "    name=\"keihou\",\n",
        "    func=lambda q: str(index_keihou.as_query_engine().query(q)),\n",
        "    description=\"刑法に関する質問に答えるときに便利です。\",\n",
        "    return_direct=True,\n",
        "    ),\n",
        "]\n",
        "agent = initialize_agent(\n",
        "  tools=tools\n",
        "  ,llm=llm\n",
        "  ,agent=\"zero-shot-react-description\", verbose=True\n",
        ")"
      ],
      "metadata": {
        "id": "8PBZrhlDRS69"
      },
      "execution_count": null,
      "outputs": []
    },
    {
      "cell_type": "code",
      "source": [
        "agent.run(\"相続放棄に関する手順を教えてください。（何条、内容）\")"
      ],
      "metadata": {
        "colab": {
          "base_uri": "https://localhost:8080/",
          "height": 270
        },
        "id": "bg_kGaEWRvHE",
        "outputId": "6f965f11-2105-4503-f8d7-02ffbe6a837a"
      },
      "execution_count": null,
      "outputs": [
        {
          "output_type": "stream",
          "name": "stdout",
          "text": [
            "\n",
            "\n",
            "\u001b[1m> Entering new AgentExecutor chain...\u001b[0m\n",
            "\u001b[32;1m\u001b[1;3mI need to know the legal procedures for renouncing inheritance.\n",
            "Action: minpou\n",
            "Action Input: 相続放棄の手続き\u001b[0m\n",
            "Observation: \u001b[36;1m\u001b[1;3m\n",
            "相続放棄の手続きは、第千四十九条により家庭裁判所の許可を受けたときに効力を生ずるとされています。また、共同相続人の一人が遺留分の放棄をした場合は、他の各共同相続人の遺留分に影響を及ぼさないとされています。\u001b[0m\n",
            "\u001b[32;1m\u001b[1;3m\u001b[0m\n",
            "\n",
            "\u001b[1m> Finished chain.\u001b[0m\n"
          ]
        },
        {
          "output_type": "execute_result",
          "data": {
            "text/plain": [
              "'\\n相続放棄の手続きは、第千四十九条により家庭裁判所の許可を受けたときに効力を生ずるとされています。また、共同相続人の一人が遺留分の放棄をした場合は、他の各共同相続人の遺留分に影響を及ぼさないとされています。'"
            ],
            "application/vnd.google.colaboratory.intrinsic+json": {
              "type": "string"
            }
          },
          "metadata": {},
          "execution_count": 46
        }
      ]
    },
    {
      "cell_type": "code",
      "source": [
        "agent.run(\"風説の流布に関する法律と罰則を教えてください（何条、内容）\")"
      ],
      "metadata": {
        "colab": {
          "base_uri": "https://localhost:8080/",
          "height": 270
        },
        "id": "OzgNmKwaSR7y",
        "outputId": "25f83ed6-ec06-4c75-c75e-a848d03cd2fd"
      },
      "execution_count": null,
      "outputs": [
        {
          "output_type": "stream",
          "name": "stdout",
          "text": [
            "\n",
            "\n",
            "\u001b[1m> Entering new AgentExecutor chain...\u001b[0m\n",
            "\u001b[32;1m\u001b[1;3mI need to find out about laws and penalties related to spreading rumors.\n",
            "Action: keihou\n",
            "Action Input: \"風説の流布\" (fūsetsu no ryūfu) - spreading rumors\u001b[0m\n",
            "Observation: \u001b[33;1m\u001b[1;3m\n",
            "第二百三十三条　虚偽の風説を流布し、又は偽計を用いて、人の信用を毀損し、又はその業務を妨害した者は、三年以下の懲役又は五十万円以下の罰金に処する。\u001b[0m\n",
            "\u001b[32;1m\u001b[1;3m\u001b[0m\n",
            "\n",
            "\u001b[1m> Finished chain.\u001b[0m\n"
          ]
        },
        {
          "output_type": "execute_result",
          "data": {
            "text/plain": [
              "'\\n第二百三十三条\\u3000虚偽の風説を流布し、又は偽計を用いて、人の信用を毀損し、又はその業務を妨害した者は、三年以下の懲役又は五十万円以下の罰金に処する。'"
            ],
            "application/vnd.google.colaboratory.intrinsic+json": {
              "type": "string"
            }
          },
          "metadata": {},
          "execution_count": 48
        }
      ]
    },
    {
      "cell_type": "code",
      "source": [
        "agent.run(\"こんにちは\")"
      ],
      "metadata": {
        "colab": {
          "base_uri": "https://localhost:8080/",
          "height": 160
        },
        "id": "aMI2RuDNTAtI",
        "outputId": "819bf99d-3b5e-4f82-ab45-3aedf1303a2e"
      },
      "execution_count": null,
      "outputs": [
        {
          "output_type": "stream",
          "name": "stdout",
          "text": [
            "\n",
            "\n",
            "\u001b[1m> Entering new AgentExecutor chain...\u001b[0m\n",
            "\u001b[32;1m\u001b[1;3mThis is a greeting and not a question, so no action is needed.\n",
            "Final Answer: N/A (not a question)\u001b[0m\n",
            "\n",
            "\u001b[1m> Finished chain.\u001b[0m\n"
          ]
        },
        {
          "output_type": "execute_result",
          "data": {
            "text/plain": [
              "'N/A (not a question)'"
            ],
            "application/vnd.google.colaboratory.intrinsic+json": {
              "type": "string"
            }
          },
          "metadata": {},
          "execution_count": 49
        }
      ]
    },
    {
      "cell_type": "code",
      "source": [
        "from langchain import OpenAI\n",
        "from llama_index import GPTVectorStoreIndex, SimpleDirectoryReader\n",
        "from llama_index import SimpleWebPageReader, LLMPredictor, OpenAIEmbedding\n",
        "from langchain.agents import initialize_agent, Tool\n",
        "from llama_index import StorageContext, load_index_from_storage\n",
        "from langchain.prompts import PromptTemplate\n",
        "from langchain.chains import LLMChain\n",
        "\n",
        "index_kenpou = GPTVectorStoreIndex.from_documents(documents=documents)\n",
        "\n",
        "storage_context = StorageContext.from_defaults(persist_dir=\"./index_minpou\")\n",
        "index_minpou = load_index_from_storage(storage_context)\n",
        "\n",
        "storage_context = StorageContext.from_defaults(persist_dir=\"./index_keihou\")\n",
        "index_keihou = load_index_from_storage(storage_context)\n",
        "\n",
        "#汎用的で普通の会話をするために単一のChainを作ってツールとして登録する\n",
        "prompt = PromptTemplate(input_variables=[\"query\"],template=\"{query}\")\n",
        "chain_general = LLMChain(llm=ChatOpenAI(),prompt=prompt)\n",
        "\n",
        "llm = ChatOpenAI(\n",
        "  temperature=0,\n",
        ")\n",
        "\n",
        "tools =[\n",
        "    Tool(\n",
        "    name=\"minpou\",\n",
        "    func=lambda q: str(index_minpou.as_query_engine().query(q)),\n",
        "    description=\"民法にに関する質問に答えるときに便利です。\",\n",
        "    return_direct=True,\n",
        "    ),\n",
        "    Tool(\n",
        "    name=\"keihou\",\n",
        "    func=lambda q: str(index_keihou.as_query_engine().query(q)),\n",
        "    description=\"刑法に関する質問に答えるときに便利です。\",\n",
        "    return_direct=True,\n",
        "    ),\n",
        "    Tool(\n",
        "    name=\"general\",\n",
        "    func=chain_general.run,\n",
        "    description=\"汎用的な質問に答えるときに便利です。\",\n",
        "    return_direct=True,\n",
        "    ),\n",
        "\n",
        "]\n",
        "agent = initialize_agent(\n",
        "  tools=tools\n",
        "  ,llm=llm\n",
        "  ,agent=\"zero-shot-react-description\", verbose=True\n",
        ")"
      ],
      "metadata": {
        "id": "4mSOfjXZTDA9"
      },
      "execution_count": null,
      "outputs": []
    },
    {
      "cell_type": "code",
      "source": [
        "agent.run(\"こんにちは\")"
      ],
      "metadata": {
        "colab": {
          "base_uri": "https://localhost:8080/",
          "height": 214
        },
        "id": "EwtUosFiW_nC",
        "outputId": "673b9226-c0aa-4c35-cca9-1df12cb92de8"
      },
      "execution_count": null,
      "outputs": [
        {
          "output_type": "stream",
          "name": "stdout",
          "text": [
            "\n",
            "\n",
            "\u001b[1m> Entering new AgentExecutor chain...\u001b[0m\n",
            "\u001b[32;1m\u001b[1;3mThis is a general greeting and does not require any specific tool to answer.\n",
            "Action: general\n",
            "Action Input: こんにちは\u001b[0m\n",
            "Observation: \u001b[38;5;200m\u001b[1;3mこんにちは！お元気ですか？\u001b[0m\n",
            "\u001b[32;1m\u001b[1;3m\u001b[0m\n",
            "\n",
            "\u001b[1m> Finished chain.\u001b[0m\n"
          ]
        },
        {
          "output_type": "execute_result",
          "data": {
            "text/plain": [
              "'こんにちは！お元気ですか？'"
            ],
            "application/vnd.google.colaboratory.intrinsic+json": {
              "type": "string"
            }
          },
          "metadata": {},
          "execution_count": 53
        }
      ]
    },
    {
      "cell_type": "markdown",
      "source": [
        "## SQL DB検索を組み込む\n"
      ],
      "metadata": {
        "id": "U5d0yYoSZNz0"
      }
    },
    {
      "cell_type": "code",
      "source": [
        "import sqlite3\n",
        "\n",
        "# データベース接続を作成する\n",
        "conn = sqlite3.connect('user_support.db')\n",
        "\n",
        "# カーソルオブジェクトを作成する\n",
        "cursor = conn.cursor()\n",
        "\n",
        "# usersテーブルを作成する\n",
        "cursor.execute('''\n",
        "CREATE TABLE users (\n",
        "    user_id INTEGER PRIMARY KEY,\n",
        "    first_name TEXT,\n",
        "    last_name TEXT,\n",
        "    email TEXT,\n",
        "    phone TEXT\n",
        ")\n",
        "''')\n",
        "\n",
        "# productsテーブルを作成する\n",
        "cursor.execute('''\n",
        "CREATE TABLE products (\n",
        "    product_id INTEGER PRIMARY KEY,\n",
        "    product_name TEXT,\n",
        "    price INTEGER\n",
        ")\n",
        "''')\n",
        "\n",
        "# order_historyテーブルを作成する\n",
        "cursor.execute('''\n",
        "CREATE TABLE order_history (\n",
        "    history_id INTEGER PRIMARY KEY,\n",
        "    user_id INTEGER,\n",
        "    product_id INTEGER,\n",
        "    purchase_date DATE,\n",
        "    quantity INTEGER,\n",
        "    remarks TEXT,\n",
        "    created_at DATETIME,\n",
        "    FOREIGN KEY (user_id) REFERENCES users(user_id),\n",
        "    FOREIGN KEY (product_id) REFERENCES products(product_id)\n",
        ")\n",
        "''')\n",
        "\n",
        "# support_historyテーブルを作成する\n",
        "cursor.execute('''\n",
        "CREATE TABLE support_history (\n",
        "    history_id INTEGER PRIMARY KEY,\n",
        "    user_id INTEGER,\n",
        "    subject TEXT,\n",
        "    message_content TEXT,\n",
        "    message_type TEXT,\n",
        "    status TEXT,\n",
        "    created_at DATETIME,\n",
        "    FOREIGN KEY (user_id) REFERENCES users(user_id)\n",
        ")\n",
        "''')\n",
        "\n",
        "# 変更をコミットする\n",
        "conn.commit()\n",
        "\n",
        "# データベース接続を閉じる\n",
        "conn.close()"
      ],
      "metadata": {
        "id": "GZKIbet1ZUw5"
      },
      "execution_count": null,
      "outputs": []
    },
    {
      "cell_type": "code",
      "source": [
        "import sqlite3\n",
        "from datetime import datetime\n",
        "\n",
        "# データベース接続を作成する\n",
        "conn = sqlite3.connect('user_support.db')\n",
        "\n",
        "# カーソルオブジェクトを作成する\n",
        "cursor = conn.cursor()\n",
        "\n",
        "# usersテーブルに日本語のテストデータを挿入する\n",
        "users_data = [\n",
        "    (1, '太郎', '山田', 'taro@example.com', '090-1234-5678'),\n",
        "    (2, '花子', '佐藤', 'hanako@example.com', '080-9876-5432')\n",
        "]\n",
        "\n",
        "for user in users_data:\n",
        "    cursor.execute('''\n",
        "    INSERT INTO users (user_id, first_name, last_name, email, phone)\n",
        "    VALUES (?, ?, ?, ?, ?)\n",
        "    ''', user)\n",
        "\n",
        "# productsテーブルに日本語のテストデータを挿入する\n",
        "products_data = [\n",
        "    (1, '商品A', 1000),\n",
        "    (2, '商品B', 2000),\n",
        "    (3, '商品C', 3000)\n",
        "]\n",
        "\n",
        "for product in products_data:\n",
        "    cursor.execute('''\n",
        "    INSERT INTO products (product_id, product_name, price)\n",
        "    VALUES (?, ?, ?)\n",
        "    ''', product)\n",
        "\n",
        "# order_historyテーブルに日本語のテストデータを挿入する\n",
        "order_history_data = [\n",
        "    (1, 1, 1, '2023-04-01', 2, '迅速な発送', datetime.now()),\n",
        "    (2, 2, 3, '2023-04-05', 1, 'ギフトラッピング', datetime.now())\n",
        "]\n",
        "\n",
        "for order in order_history_data:\n",
        "    cursor.execute('''\n",
        "    INSERT INTO order_history (history_id, user_id, product_id, purchase_date, quantity, remarks, created_at)\n",
        "    VALUES (?, ?, ?, ?, ?, ?, ?)\n",
        "    ''', order)\n",
        "\n",
        "# support_historyテーブルに日本語のテストデータを挿入する\n",
        "support_history_data = [\n",
        "    (1, 1, '請求に関する問題', None, None, 'open', datetime.now()),\n",
        "    (2, 1, None, '請求に問題があります。', 'user', None, datetime.now()),\n",
        "    (3, 1, None, 'お問い合わせいただきありがとうございます。問題を調査しています。', 'support', None, datetime.now())\n",
        "]\n",
        "\n",
        "for support in support_history_data:\n",
        "    cursor.execute('''\n",
        "    INSERT INTO support_history (history_id, user_id, subject, message_content, message_type, status, created_at)\n",
        "    VALUES (?, ?, ?, ?, ?, ?, ?)\n",
        "    ''', support)\n",
        "\n",
        "# 変更をコミットする\n",
        "conn.commit()\n",
        "\n",
        "# データベース接続を閉じる\n",
        "conn.close()"
      ],
      "metadata": {
        "id": "d3Eby_67ZmOB"
      },
      "execution_count": null,
      "outputs": []
    },
    {
      "cell_type": "code",
      "source": [
        "from langchain import OpenAI\n",
        "from langchain.chat_models import ChatOpenAI\n",
        "from llama_index import GPTVectorStoreIndex\n",
        "from llama_index import SimpleWebPageReader\n",
        "from langchain.agents import initialize_agent, Tool\n",
        "from langchain import SQLDatabase\n",
        "from langchain import SQLDatabaseChain\n",
        "\n",
        "sql_uri = \"sqlite:///user_support.db\"\n",
        "db= SQLDatabase.from_uri(sql_uri)\n",
        "llm = ChatOpenAI(\n",
        "  temperature=0,\n",
        ")\n",
        "template=\"\"\"\n",
        "{query}\n",
        "\"\"\"\n",
        "prompt = PromptTemplate(input_variables=[\"query\"],template=template)\n",
        "db_chain = SQLDatabaseChain.from_llm(llm,db,verbose=True)\n",
        "\n",
        "tools =[Tool(\n",
        "  name=\"SQL Database\",\n",
        "  func=db_chain.run,\n",
        "  description=\"データベースに問い合わせに答えるときに便利です。\",\n",
        "  return_direct=True\n",
        "),\n",
        "]\n",
        "\n",
        "llm = ChatOpenAI(\n",
        "  temperature=0,\n",
        ")\n",
        "\n",
        "agent = initialize_agent(\n",
        "tools=tools\n",
        ",llm=llm\n",
        ",agent=\"zero-shot-react-description\", verbose=True\n",
        ")"
      ],
      "metadata": {
        "id": "7_2has6iZn4X"
      },
      "execution_count": null,
      "outputs": []
    },
    {
      "cell_type": "code",
      "source": [
        "agent.run(\"ユーザID=1の購買履歴を教えて\")"
      ],
      "metadata": {
        "colab": {
          "base_uri": "https://localhost:8080/",
          "height": 413
        },
        "id": "HCPtwTEba9nf",
        "outputId": "be280297-6356-402d-ceee-08f42f75c431"
      },
      "execution_count": null,
      "outputs": [
        {
          "output_type": "stream",
          "name": "stdout",
          "text": [
            "\n",
            "\n",
            "\u001b[1m> Entering new AgentExecutor chain...\u001b[0m\n",
            "\u001b[32;1m\u001b[1;3mI need to retrieve purchase history data for user ID 1\n",
            "Action: SQL Database\n",
            "Action Input: SELECT * FROM purchase_history WHERE user_id = 1\u001b[0m\n",
            "\n",
            "\u001b[1m> Entering new SQLDatabaseChain chain...\u001b[0m\n",
            "SELECT * FROM purchase_history WHERE user_id = 1\n",
            "SQLQuery:\u001b[32;1m\u001b[1;3mSELECT \"history_id\", \"user_id\", \"product_id\", \"purchase_date\", \"quantity\", \"remarks\", \"created_at\" FROM order_history WHERE user_id = 1 LIMIT 5\u001b[0m\n",
            "SQLResult: \u001b[33;1m\u001b[1;3m[(1, 1, 1, '2023-04-01', 2, '迅速な発送', '2023-06-10 17:41:51.158094')]\u001b[0m\n",
            "Answer:\u001b[32;1m\u001b[1;3mThere is only one purchase history for user_id 1, which is for product_id 1, with a purchase date of April 1st, 2023, a quantity of 2, and a remark of \"迅速な発送\". The purchase was created on June 10th, 2023 at 17:41:51.158094.\u001b[0m\n",
            "\u001b[1m> Finished chain.\u001b[0m\n",
            "\n",
            "Observation: \u001b[36;1m\u001b[1;3mThere is only one purchase history for user_id 1, which is for product_id 1, with a purchase date of April 1st, 2023, a quantity of 2, and a remark of \"迅速な発送\". The purchase was created on June 10th, 2023 at 17:41:51.158094.\u001b[0m\n",
            "\u001b[32;1m\u001b[1;3m\u001b[0m\n",
            "\n",
            "\u001b[1m> Finished chain.\u001b[0m\n"
          ]
        },
        {
          "output_type": "execute_result",
          "data": {
            "text/plain": [
              "'There is only one purchase history for user_id 1, which is for product_id 1, with a purchase date of April 1st, 2023, a quantity of 2, and a remark of \"迅速な発送\". The purchase was created on June 10th, 2023 at 17:41:51.158094.'"
            ],
            "application/vnd.google.colaboratory.intrinsic+json": {
              "type": "string"
            }
          },
          "metadata": {},
          "execution_count": 57
        }
      ]
    }
  ]
}