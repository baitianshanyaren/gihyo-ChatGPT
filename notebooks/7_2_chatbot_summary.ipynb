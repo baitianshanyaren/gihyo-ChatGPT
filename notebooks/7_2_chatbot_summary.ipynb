{
  "nbformat": 4,
  "nbformat_minor": 0,
  "metadata": {
    "colab": {
      "provenance": [],
      "authorship_tag": "ABX9TyOUmrYgXfgmhtJQ1AcNzba8"
    },
    "kernelspec": {
      "name": "python3",
      "display_name": "Python 3"
    },
    "language_info": {
      "name": "python"
    }
  },
  "cells": [
    {
      "cell_type": "code",
      "execution_count": null,
      "metadata": {
        "id": "RknIvLB6qwd0"
      },
      "outputs": [],
      "source": [
        "!pip install openai"
      ]
    },
    {
      "cell_type": "code",
      "source": [
        "import os\n",
        "os.environ['OPENAI_API_KEY'] = \"...\""
      ],
      "metadata": {
        "id": "smHL30KRrbQt"
      },
      "execution_count": 2,
      "outputs": []
    },
    {
      "cell_type": "code",
      "source": [
        "from json.decoder import JSONDecodeError\n",
        "import openai\n",
        "import os\n",
        "import re\n",
        "import json\n",
        "import time\n",
        "\n",
        "DEBUG = False\n",
        "\n",
        "# Predefined system message\n",
        "SYSTEM_MESSAGE = \"\"\"\n",
        "\n",
        "下記の前提知識とサポート記録を踏まえてサポートをしてください。\n",
        "すべての会話の返答とその要約を次のJSON形式で出力してください\n",
        "\n",
        "## 出力（JSON形式）\n",
        "{{\"content\" : \"(返答の内容)\", \"summary\" : \"(返答を要約した内容)\" }}\n",
        "\n",
        "## 会話の例\n",
        "USER->機械の調子が悪いです\n",
        "AI->{{\"content\" : \"どのような機械でどんな不具合を起こしているのでしょうか？\",\"summary\" : \"機械の種類と不具合の現象をユーザに確認。\"}}\n",
        "\n",
        "USER->ありがとう。(終了の暗示や挨拶や感謝の言葉なども含む)\n",
        "AI->{{\"content\" : \"どういたしまして。いつでもご相談ください。\",\"summary\" : \"サポート終了。\"}}\n",
        "\n",
        "## 前提知識\n",
        "  - あなたは農機具故障診断のエキスパートです。\n",
        "\n",
        "## サポート記録\n",
        "  {support_context}\n",
        "\n",
        "\"\"\"\n",
        "\n",
        "def create_chat_response(user_text, support_context):\n",
        "  for i in range(3):  \n",
        "    response = openai.ChatCompletion.create(\n",
        "        model=\"gpt-3.5-turbo\",\n",
        "        messages=[\n",
        "            {\n",
        "                \"role\": \"system\",\n",
        "                \"content\": SYSTEM_MESSAGE.format(support_context=support_context)\n",
        "            },\n",
        "            {\n",
        "                \"role\": \"user\",\n",
        "                \"content\": f\"JSON形式で出力してください:[{user_text}]+\"\n",
        "            }\n",
        "        ],\n",
        "    )\n",
        "    try:\n",
        "      #レスポンスからJSON形式のデータだけを抜き取る\n",
        "      json_str = re.search(r'\\{.*\\}', response.choices[0].message['content']).group(0)\n",
        "      return json.loads(json_str)\n",
        "    except JSONDecodeError:\n",
        "      #不正なJSONデータの場合リトライする。そのとき、AIに注意を促す。\n",
        "      if DEBUG: print(\"JSON Parse Error:\",response.choices[0].message['content'])\n",
        "      print(\"...AIの出力でエラーが発生しました。リトライします......\")\n",
        "      user_text += '...JSON形式のレスポンスを守ってください。'\n",
        "      time.sleep(1)\n",
        "      continue\n",
        "    except AttributeError:\n",
        "      #JSON変換できなかったもの。リストなどの場合。そのままの値をセットする。\n",
        "      if DEBUG: print(\"Attribute Error:\",response.choices[0].message['content'])\n",
        "      return {\n",
        "          \"content\": response.choices[0].message['content'],\n",
        "          \"summary\": response.choices[0].message['content'],\n",
        "          \"error\": \"attribute error\"\n",
        "      }\n",
        "\n",
        "  else:\n",
        "    return []\n",
        "\n",
        "\n",
        "support_context = \"\"\n",
        "print(\"農機具についてお困りがあればお答えします\\nなんでも聞いてください。\\n\")\n",
        "\n",
        "while True:\n",
        "  user_text = input(\"\\n>\")\n",
        "  \n",
        "  if user_text == \"quit\":\n",
        "    break\n",
        "\n",
        "  response = create_chat_response(user_text, support_context)\n",
        "  if response:\n",
        "      answer  = response['content']\n",
        "      summary = response['summary']     \n",
        "  else:\n",
        "    print(\"申し訳ございません。質問の方法を変えてください。\")\n",
        "    continue\n",
        "  \n",
        "  support_context += f\"- user: {user_text}\\n\"\n",
        "  support_context += f\"- AI: {summary}\\n\\n\"\n",
        "  print(\"\\n返答:\",answer)\n",
        "\n",
        "  if DEBUG:\n",
        "    print(\"要約:\",summary)\n",
        "    print(\"response:\",response)"
      ],
      "metadata": {
        "id": "nrsKOvTI6Pl6"
      },
      "execution_count": null,
      "outputs": []
    }
  ]
}