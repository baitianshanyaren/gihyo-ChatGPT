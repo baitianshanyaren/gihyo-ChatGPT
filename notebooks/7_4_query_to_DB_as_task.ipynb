{
  "nbformat": 4,
  "nbformat_minor": 0,
  "metadata": {
    "colab": {
      "provenance": [],
      "authorship_tag": "ABX9TyOVG384LKF/HJ93fZzvbOKL"
    },
    "kernelspec": {
      "name": "python3",
      "display_name": "Python 3"
    },
    "language_info": {
      "name": "python"
    }
  },
  "cells": [
    {
      "cell_type": "code",
      "execution_count": null,
      "metadata": {
        "id": "RknIvLB6qwd0"
      },
      "outputs": [],
      "source": [
        "!pip install openai"
      ]
    },
    {
      "cell_type": "code",
      "source": [
        "import os\n",
        "os.environ['OPENAI_API_KEY'] = \"...\""
      ],
      "metadata": {
        "id": "smHL30KRrbQt"
      },
      "execution_count": null,
      "outputs": []
    },
    {
      "cell_type": "code",
      "source": [
        "import sqlite3\n",
        "\n",
        "# データベース接続を作成する\n",
        "conn = sqlite3.connect('user_support.db')\n",
        "\n",
        "# カーソルオブジェクトを作成する\n",
        "cursor = conn.cursor()\n",
        "\n",
        "# usersテーブルを作成する\n",
        "cursor.execute('''\n",
        "CREATE TABLE users (\n",
        "    user_id INTEGER PRIMARY KEY,\n",
        "    first_name TEXT,\n",
        "    last_name TEXT,\n",
        "    email TEXT,\n",
        "    phone TEXT\n",
        ")\n",
        "''')\n",
        "\n",
        "# productsテーブルを作成する\n",
        "cursor.execute('''\n",
        "CREATE TABLE products (\n",
        "    product_id INTEGER PRIMARY KEY,\n",
        "    product_name TEXT,\n",
        "    price INTEGER\n",
        ")\n",
        "''')\n",
        "\n",
        "# order_historyテーブルを作成する\n",
        "cursor.execute('''\n",
        "CREATE TABLE order_history (\n",
        "    history_id INTEGER PRIMARY KEY,\n",
        "    user_id INTEGER,\n",
        "    product_id INTEGER,\n",
        "    purchase_date DATE,\n",
        "    quantity INTEGER,\n",
        "    remarks TEXT,\n",
        "    created_at DATETIME,\n",
        "    FOREIGN KEY (user_id) REFERENCES users(user_id),\n",
        "    FOREIGN KEY (product_id) REFERENCES products(product_id)\n",
        ")\n",
        "''')\n",
        "\n",
        "# support_historyテーブルを作成する\n",
        "cursor.execute('''\n",
        "CREATE TABLE support_history (\n",
        "    history_id INTEGER PRIMARY KEY,\n",
        "    user_id INTEGER,\n",
        "    subject TEXT,\n",
        "    message_content TEXT,\n",
        "    message_type TEXT,\n",
        "    status TEXT,\n",
        "    created_at DATETIME,\n",
        "    FOREIGN KEY (user_id) REFERENCES users(user_id)\n",
        ")\n",
        "''')\n",
        "\n",
        "# 変更をコミットする\n",
        "conn.commit()\n",
        "\n",
        "# データベース接続を閉じる\n",
        "conn.close()"
      ],
      "metadata": {
        "id": "S2SHWybmYqdq"
      },
      "execution_count": null,
      "outputs": []
    },
    {
      "cell_type": "code",
      "source": [
        "import sqlite3\n",
        "from datetime import datetime\n",
        "\n",
        "# データベース接続を作成する\n",
        "conn = sqlite3.connect('user_support.db')\n",
        "\n",
        "# カーソルオブジェクトを作成する\n",
        "cursor = conn.cursor()\n",
        "\n",
        "# usersテーブルに日本語のテストデータを挿入する\n",
        "users_data = [\n",
        "    (1, '太郎', '山田', 'taro@example.com', '090-1234-5678'),\n",
        "    (2, '花子', '佐藤', 'hanako@example.com', '080-9876-5432')\n",
        "]\n",
        "\n",
        "for user in users_data:\n",
        "    cursor.execute('''\n",
        "    INSERT INTO users (user_id, first_name, last_name, email, phone)\n",
        "    VALUES (?, ?, ?, ?, ?)\n",
        "    ''', user)\n",
        "\n",
        "# productsテーブルに日本語のテストデータを挿入する\n",
        "products_data = [\n",
        "    (1, '商品A', 1000),\n",
        "    (2, '商品B', 2000),\n",
        "    (3, '商品C', 3000)\n",
        "]\n",
        "\n",
        "for product in products_data:\n",
        "    cursor.execute('''\n",
        "    INSERT INTO products (product_id, product_name, price)\n",
        "    VALUES (?, ?, ?)\n",
        "    ''', product)\n",
        "\n",
        "# order_historyテーブルに日本語のテストデータを挿入する\n",
        "order_history_data = [\n",
        "    (1, 1, 1, '2023-04-01', 2, '迅速な発送', datetime.now()),\n",
        "    (2, 2, 3, '2023-04-05', 1, 'ギフトラッピング', datetime.now())\n",
        "]\n",
        "\n",
        "for order in order_history_data:\n",
        "    cursor.execute('''\n",
        "    INSERT INTO order_history (history_id, user_id, product_id, purchase_date, quantity, remarks, created_at)\n",
        "    VALUES (?, ?, ?, ?, ?, ?, ?)\n",
        "    ''', order)\n",
        "\n",
        "# support_historyテーブルに日本語のテストデータを挿入する\n",
        "support_history_data = [\n",
        "    (1, 1, '請求に関する問題', None, None, 'open', datetime.now()),\n",
        "    (2, 1, None, '請求に問題があります。', 'user', None, datetime.now()),\n",
        "    (3, 1, None, 'お問い合わせいただきありがとうございます。問題を調査しています。', 'support', None, datetime.now())\n",
        "]\n",
        "\n",
        "for support in support_history_data:\n",
        "    cursor.execute('''\n",
        "    INSERT INTO support_history (history_id, user_id, subject, message_content, message_type, status, created_at)\n",
        "    VALUES (?, ?, ?, ?, ?, ?, ?)\n",
        "    ''', support)\n",
        "\n",
        "# 変更をコミットする\n",
        "conn.commit()\n",
        "\n",
        "# データベース接続を閉じる\n",
        "conn.close()"
      ],
      "metadata": {
        "id": "4yQ8aSkTYwUk"
      },
      "execution_count": null,
      "outputs": []
    },
    {
      "cell_type": "code",
      "source": [
        "import sqlite3\n",
        "\n",
        "# データベース接続を作成する\n",
        "conn = sqlite3.connect('user_support.db')\n",
        "\n",
        "# カーソルオブジェクトを作成する\n",
        "cursor = conn.cursor()\n",
        "\n",
        "# 各テーブルからデータを取得して表示する\n",
        "tables = ['users', 'products', 'order_history', 'support_history']\n",
        "\n",
        "for table in tables:\n",
        "    print(f\"{table} テーブルのデータ:\")\n",
        "    cursor.execute(f\"SELECT * FROM {table}\")\n",
        "    rows = cursor.fetchall()\n",
        "    \n",
        "    for row in rows:\n",
        "        print(row)\n",
        "    \n",
        "    print()  # 空行を挿入して見やすくする\n",
        "\n",
        "# データベース接続を閉じる\n",
        "conn.close()"
      ],
      "metadata": {
        "colab": {
          "base_uri": "https://localhost:8080/"
        },
        "id": "5EjO9y9uZADR",
        "outputId": "aca4c7b7-e9d0-476f-9f77-8cf3596affca"
      },
      "execution_count": null,
      "outputs": [
        {
          "output_type": "stream",
          "name": "stdout",
          "text": [
            "users テーブルのデータ:\n",
            "(1, '太郎', '山田', 'taro@example.com', '090-1234-5678')\n",
            "(2, '花子', '佐藤', 'hanako@example.com', '080-9876-5432')\n",
            "\n",
            "products テーブルのデータ:\n",
            "(1, '商品A', 1000)\n",
            "(2, '商品B', 2000)\n",
            "(3, '商品C', 3000)\n",
            "\n",
            "order_history テーブルのデータ:\n",
            "(1, 1, 1, '2023-04-01', 2, '迅速な発送', '2023-06-07 13:51:12.365794')\n",
            "(2, 2, 3, '2023-04-05', 1, 'ギフトラッピング', '2023-06-07 13:51:12.365798')\n",
            "\n",
            "support_history テーブルのデータ:\n",
            "(1, 1, '請求に関する問題', None, None, 'open', '2023-06-07 13:51:12.366100')\n",
            "(2, 1, None, '請求に問題があります。', 'user', None, '2023-06-07 13:51:12.366104')\n",
            "(3, 1, None, 'お問い合わせいただきありがとうございます。問題を調査しています。', 'support', None, '2023-06-07 13:51:12.366104')\n",
            "\n"
          ]
        }
      ]
    },
    {
      "cell_type": "code",
      "source": [],
      "metadata": {
        "id": "i3XcYLOCLFzj"
      },
      "execution_count": null,
      "outputs": []
    },
    {
      "cell_type": "code",
      "source": [
        "import openai\n",
        "import os\n",
        "import sys\n",
        "from sqlalchemy import create_engine, MetaData\n",
        "from sqlalchemy.orm import sessionmaker\n",
        "from sqlalchemy.sql import text\n",
        "from sqlalchemy.exc import SQLAlchemyError\n",
        "from tabulate import tabulate\n",
        "import json\n",
        "from json.decoder import JSONDecodeError\n",
        "\n",
        "\n",
        "engine = create_engine('sqlite:///user_support.db', echo=False)\n",
        "\n",
        "def init_meta_data():\n",
        "\n",
        "    # メタデータを作成、テーブル情報を反映させるためにエンジンからテーブル情報を読み込む\n",
        "    metadata = MetaData()\n",
        "    metadata.reflect(bind=engine)\n",
        "\n",
        "    # メタデータのテーブル情報からテーブル名と列情報を編集する\n",
        "    meta_text = ''\n",
        "    for table in metadata.tables.values():\n",
        "        meta_text += 'テーブル名:'+ table.name + '\\n'\n",
        "        for column in table.columns:\n",
        "            meta_text += f'列名:{column.name}, 型: {column.type}\\n'\n",
        "        meta_text += '\\n'\n",
        "    return meta_text\n",
        "\n",
        "def exec_sql(sql):\n",
        "    Session = sessionmaker(bind=engine)\n",
        "\n",
        "    error_text = \"None\" \n",
        "    rows = []\n",
        "    tabled = \"\"\n",
        "    dict_array = []\n",
        "\n",
        "    try:\n",
        "        with Session() as session:\n",
        "            t = text (sql)\n",
        "            result = session.execute(t)\n",
        "\n",
        "            header = [k for k in result.keys()]\n",
        "\n",
        "            rows = result.fetchall()\n",
        "            tabled = tabulate(rows,header, tablefmt=\"plain\")\n",
        "          \n",
        "            dict_array = []\n",
        "            for row in rows:\n",
        "                dict_row = {}\n",
        "                for i in range(len(header)):\n",
        "                    dict_row[header[i]] = row[i]\n",
        "                dict_array.append(dict_row)\n",
        "            #print(tabled)\n",
        "            #print()\n",
        "\n",
        "    except SQLAlchemyError as e:\n",
        "        print(f'Exception Excute SQL: {e}\\n')\n",
        "        error_text = str(e)\n",
        "\n",
        "    return {\n",
        "        \"read_count\": len(rows),\n",
        "        \"tabled\": tabled,\n",
        "        \"dict_array\": dict_array,\n",
        "        \"error\": error_text\n",
        "    }\n",
        "\n",
        "def exec_api(user_text=\"\",user_info=\"\",prompt=\"\",meta_text=\"\",summary=\"\",temperature=0):\n",
        "    response = openai.ChatCompletion.create(\n",
        "        model=\"gpt-3.5-turbo\",\n",
        "        temperature = temperature,\n",
        "        messages=[\n",
        "            {\n",
        "                \"role\": \"user\",\n",
        "                        \"content\": prompt.format(\n",
        "                            user_text=user_text,\n",
        "                            user_info=user_info,\n",
        "                            prompt=prompt,\n",
        "                            meta_text=meta_text,\n",
        "                            summary=summary)\n",
        "            }\n",
        "        ],\n",
        "    )\n",
        "    return response.choices[0].message.content.strip()\n"
      ],
      "metadata": {
        "id": "lAEdUqyuIF3o"
      },
      "execution_count": null,
      "outputs": []
    },
    {
      "cell_type": "code",
      "source": [
        "def find_user(user_text):\n",
        "  prompt=\"\"\"\n",
        "    {{\n",
        "        \"prompt\": \"\n",
        "        ## DB情報\n",
        "        {meta_text}\n",
        "\n",
        "        ## 処理\n",
        "        ユーザテーブルを参照し、次の要求文に対してユーザを一意に特定したい。\n",
        "        その回答(SQL文を含まない)と、SQL文(ID,名前,電話番号,メール)を\n",
        "        厳密なJSON形式で以下のように提供してください。\n",
        "        なお、日本語の名前は最初がlast_nameです。\n",
        "        説明文は不要ですので非表示にしてください。：\n",
        "          {{\n",
        "              \"response\": {{\n",
        "                \"message\": \"ユーザをDBに問い合わせます)\",\n",
        "                \"sql_query\": \"SQL文\"\n",
        "              }}\n",
        "          }}\n",
        "\n",
        "          要求: [{user_text}]\n",
        "        }}\n",
        "    }}\n",
        "  \"\"\"\n",
        "  meta_text = init_meta_data() \n",
        "  response = exec_api(user_text=user_text,prompt=prompt,meta_text=meta_text)\n",
        "  #print(response)\n",
        "  json_answer = json.loads(response)\n",
        "  sql = json_answer['response']['sql_query']\n",
        "  if sql:\n",
        "    result = exec_sql(sql)\n",
        "    #print(result['read_count'])\n",
        "    #print(result['tabled'])\n",
        "    #print(result['dict_array'])\n",
        "    if result['read_count'] == 1:\n",
        "      return result['tabled']\n",
        "    else:\n",
        "      return \"\"\n",
        "\n",
        "if __name__ == \"__main__\":\n",
        "\n",
        "  print(\"お客様の情報を確認します。お名前、電話番号、ユーザID、メールなどお客様を特定できるデータを入力してください。\")\n",
        "  while True:\n",
        "    user_text = input(\"\\n>\")\n",
        "    user = find_user(user_text)\n",
        "    print(user)\n",
        "    if user:\n",
        "      print(\"お客様の情報を確認できました。ありがとうございます。\")\n",
        "      break\n",
        "    else:\n",
        "      print(\"お客様の情報を確認できませんでした。再度入力してください。\")"
      ],
      "metadata": {
        "colab": {
          "base_uri": "https://localhost:8080/"
        },
        "id": "owDH7lpHIYYN",
        "outputId": "48de1cae-9573-415a-dfa3-6e06f916d496"
      },
      "execution_count": null,
      "outputs": [
        {
          "output_type": "stream",
          "name": "stdout",
          "text": [
            "お客様の情報を確認します。お名前、電話番号、ユーザID、メールなどお客様を特定できるデータを入力してください。\n",
            "\n",
            ">ID=1\n",
            "  user_id  name       phone          email\n",
            "        1  山田 太郎  090-1234-5678  taro@example.com\n",
            "お客様の情報を確認できました。ありがとうございます。\n"
          ]
        }
      ]
    },
    {
      "cell_type": "code",
      "source": [
        "def get_user_info(user):\n",
        "  prompt=\"\"\"\n",
        "  {{\n",
        "      \"prompt\": \"\n",
        "      ## DB情報\n",
        "        {meta_text}\n",
        "\n",
        "      ## ユーザ情報\n",
        "        {user_info}\n",
        "\n",
        "      ## 処理\n",
        "      DB情報を参照し、\n",
        "      ユーザ情報をもとにそのユーザに関するすべてがわかるためのタスク\n",
        "      (購買履歴、対応履歴、購入済商品情報など）を挙げ、\n",
        "      そのタスクの説明(SQL文を含まない)と、タイトル、SQL文を\n",
        "      厳密なJSON形式で以下のように提供してください。\n",
        "      説明文は不要ですので非表示にしてください。：\n",
        "        {{\n",
        "            \"message\":\"(回答メッセージ)\",\n",
        "            \"queries\": [{{\n",
        "              \"title\";(タスクのタイトル)\n",
        "              \"description\": \"(タスクの説明)\",\n",
        "              \"sql_query\": \"(SQL文)\"\n",
        "            }}]\n",
        "        }}\n",
        "      \n",
        "  }}\n",
        "  \"\"\"\n",
        "  meta_text = init_meta_data() \n",
        "  user_text = \"\"\n",
        "  response = exec_api(user_info=user,prompt=prompt,meta_text=meta_text)\n",
        "  #print(response)\n",
        "  json_answer = json.loads(response)\n",
        "  user_info = \"\\nユーザ情報\\n\"+user+\"\\n\"\n",
        "  for query in json_answer['queries']:\n",
        "    description = query['description']\n",
        "    user_info += \"\\n\"+query['title']+\"\\n\"\n",
        "    #print(title)\n",
        "    sql = query['sql_query']\n",
        "    if sql:\n",
        "      result = exec_sql(sql)\n",
        "      user_info +=  result['tabled']+\"\\n\"\n",
        "  return user_info\n",
        "\n",
        "if __name__ == \"__main__\":\n",
        "\n",
        "    print(\"お客様の情報をDBに問い合わせます。少々お待ちください。\")\n",
        "    user_info = get_user_info(user)\n",
        "    print(user_info)\n",
        "    print(\"お客様の情報をDBから取得できました。\")"
      ],
      "metadata": {
        "colab": {
          "base_uri": "https://localhost:8080/"
        },
        "id": "X_16s6qeJ746",
        "outputId": "f0fe9d0f-4699-472c-ce38-8268ffd461a9"
      },
      "execution_count": null,
      "outputs": [
        {
          "output_type": "stream",
          "name": "stdout",
          "text": [
            "お客様の情報をDBに問い合わせます。少々お待ちください。\n",
            "\n",
            "ユーザ情報\n",
            "  user_id  name       phone          email\n",
            "        1  山田 太郎  090-1234-5678  taro@example.com\n",
            "\n",
            "購買履歴の取得\n",
            "  history_id    user_id    product_id  purchase_date      quantity  remarks     created_at\n",
            "           1          1             1  2023-04-01                2  迅速な発送  2023-06-07 13:51:12.365794\n",
            "\n",
            "対応履歴の取得\n",
            "  history_id    user_id  subject           message_content                                                   message_type    status    created_at\n",
            "           1          1  請求に関する問題                                                                                    open      2023-06-07 13:51:12.366100\n",
            "           2          1                    請求に問題があります。                                            user                      2023-06-07 13:51:12.366104\n",
            "           3          1                    お問い合わせいただきありがとうございます。問題を調査しています。  support                   2023-06-07 13:51:12.366104\n",
            "\n",
            "購入済商品情報の取得\n",
            "product_name      price  purchase_date      quantity\n",
            "商品A              1000  2023-04-01                2\n",
            "\n",
            "お客様の情報をDBから取得できました。\n"
          ]
        }
      ]
    },
    {
      "cell_type": "code",
      "source": [
        "user_info"
      ],
      "metadata": {
        "colab": {
          "base_uri": "https://localhost:8080/",
          "height": 125
        },
        "id": "3xRFpg3eNYFa",
        "outputId": "deb4eb96-ff6a-4c05-d429-648007981ec3"
      },
      "execution_count": null,
      "outputs": [
        {
          "output_type": "execute_result",
          "data": {
            "text/plain": [
              "'\\nユーザ情報\\n  user_id  name       phone          email\\n        1  山田 太郎  090-1234-5678  taro@example.com\\n\\n購買履歴の取得\\n  history_id    user_id    product_id  purchase_date      quantity  remarks     created_at\\n           1          1             1  2023-04-01                2  迅速な発送  2023-06-07 13:51:12.365794\\n\\n対応履歴の取得\\n  history_id    user_id  subject           message_content                                                   message_type    status    created_at\\n           1          1  請求に関する問題                                                                                    open      2023-06-07 13:51:12.366100\\n           2          1                    請求に問題があります。                                            user                      2023-06-07 13:51:12.366104\\n           3          1                    お問い合わせいただきありがとうございます。問題を調査しています。  support                   2023-06-07 13:51:12.366104\\n\\n購入済商品情報の取得\\nproduct_name      price  purchase_date      quantity\\n商品A              1000  2023-04-01                2\\n'"
            ],
            "application/vnd.google.colaboratory.intrinsic+json": {
              "type": "string"
            }
          },
          "metadata": {},
          "execution_count": 55
        }
      ]
    },
    {
      "cell_type": "code",
      "source": [
        "def user_support(user_info):\n",
        "  summary = \"\"\n",
        "  prompt=\"\"\"\n",
        "    {{\n",
        "        \"prompt\": \"\n",
        "        ## 会話の要約\n",
        "          {summary}\n",
        "        ## ユーザ情報\n",
        "          {user_info}\n",
        "\n",
        "        ## 処理\n",
        "        あなたは接客のエキスパートです。お客様の要求文にたいして的確に答えてください。\n",
        "        接客のさい、ユーザ情報を参照し親切丁寧にお客様サポートをしてください。  \n",
        "        ただし、DB情報にある事実だけを答えてください。     \n",
        "        お客様からの要求文が「ありがとう。ではまた。さよなら。」などの終了を暗示する言葉が入力された場合サポート終了とみなします。\n",
        "        回答を含めて以下のように厳密なJSON形式で出力してください。:\n",
        "          {{\n",
        "              \"message\":\"(回答メッセージ)\",\n",
        "              \"status\": \"(サポートの状態。開始、サポート中、サポート終了)\",\n",
        "              \"summary\":\"要求文と回答の内容の要約\"\n",
        "          }}\n",
        "\n",
        "        要求文[{user_text}]\n",
        "        \"\n",
        "    }}\n",
        "  \"\"\"\n",
        "  while True:\n",
        "    user_text = input(\">\")\n",
        "    response = exec_api(user_text=user_text,user_info=user_info,prompt=prompt,summary=summary,temperature=0.5)\n",
        "    #print(response)\n",
        "    json_answer = json.loads(response)\n",
        "    message = json_answer['message']\n",
        "    print(f\"{message}\\n\")\n",
        "    if json_answer['status'] == 'サポート終了':\n",
        "      return summary\n",
        "    summary += f\"要求: {user_text}\\n回答: {json_answer['message']}\\n\"\n",
        "\n",
        "if __name__ == \"__main__\":\n",
        "\n",
        "    print(\"お客様、何かご質問やお困り事はございますか？\")\n",
        "    meta_text = init_meta_data() \n",
        "    result_summary = user_support(user_info)\n",
        "    #print(result_summary)\n",
        "    print(\"ありがとうございます。それでは失礼いたします。\")"
      ],
      "metadata": {
        "id": "8xcT5dpXwaO5"
      },
      "execution_count": null,
      "outputs": []
    },
    {
      "cell_type": "code",
      "source": [
        "user_info"
      ],
      "metadata": {
        "colab": {
          "base_uri": "https://localhost:8080/",
          "height": 125
        },
        "id": "PENCoWfn6B3v",
        "outputId": "81a0ab15-643e-409f-ddda-ab28867d4f07"
      },
      "execution_count": null,
      "outputs": [
        {
          "output_type": "execute_result",
          "data": {
            "text/plain": [
              "'\\nユーザ情報\\n  user_id  name       phone          email\\n        1  山田 太郎  090-1234-5678  taro@example.com\\n\\n購買履歴の取得\\n  history_id    user_id    product_id  purchase_date      quantity  remarks     created_at\\n           1          1             1  2023-04-01                2  迅速な発送  2023-06-07 13:51:12.365794\\n\\n対応履歴の取得\\n  history_id    user_id  subject           message_content                                                   message_type    status    created_at\\n           1          1  請求に関する問題                                                                                    open      2023-06-07 13:51:12.366100\\n           2          1                    請求に問題があります。                                            user                      2023-06-07 13:51:12.366104\\n           3          1                    お問い合わせいただきありがとうございます。問題を調査しています。  support                   2023-06-07 13:51:12.366104\\n\\n購入済商品情報の取得\\nproduct_name      price  purchase_date      quantity\\n商品A              1000  2023-04-01                2\\n'"
            ],
            "application/vnd.google.colaboratory.intrinsic+json": {
              "type": "string"
            }
          },
          "metadata": {},
          "execution_count": 56
        }
      ]
    }
  ]
}