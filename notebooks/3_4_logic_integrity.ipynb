{
  "nbformat": 4,
  "nbformat_minor": 0,
  "metadata": {
    "colab": {
      "provenance": [],
      "authorship_tag": "ABX9TyMctuLz+JHBVYbHLKeYBtOf"
    },
    "kernelspec": {
      "name": "python3",
      "display_name": "Python 3"
    },
    "language_info": {
      "name": "python"
    }
  },
  "cells": [
    {
      "cell_type": "markdown",
      "source": [
        "## 例外処理の改善"
      ],
      "metadata": {
        "id": "u8PMyWMpix2c"
      }
    },
    {
      "cell_type": "code",
      "execution_count": null,
      "metadata": {
        "id": "a-gN6PsQhY2B"
      },
      "outputs": [],
      "source": [
        "def divide_numbers(x, y):\n",
        "    return x / y"
      ]
    },
    {
      "cell_type": "code",
      "source": [
        "def divide_numbers(x, y):\n",
        "    try:\n",
        "        return x / y\n",
        "    except ZeroDivisionError:\n",
        "        print(\"Error: Cannot divide by zero.\")\n",
        "        return None\n",
        "    except TypeError:\n",
        "        print(\"Error: x and y must be numbers.\")\n",
        "        return None"
      ],
      "metadata": {
        "id": "kKvvJbNgiZ21"
      },
      "execution_count": null,
      "outputs": []
    },
    {
      "cell_type": "code",
      "source": [
        "def read_file(file_path):\n",
        "    file = open(file_path, 'r')\n",
        "    content = file.read()\n",
        "    file.close()\n",
        "    return content"
      ],
      "metadata": {
        "id": "zqD6yaV-ioH0"
      },
      "execution_count": null,
      "outputs": []
    },
    {
      "cell_type": "code",
      "source": [
        "def read_file(file_path):\n",
        "    try:\n",
        "        with open(file_path, 'r') as file:\n",
        "            content = file.read()\n",
        "        return content\n",
        "    except FileNotFoundError:\n",
        "        print(f\"Error: File not found at {file_path}.\")\n",
        "        return None\n",
        "    except PermissionError:\n",
        "        print(f\"Error: Permission denied when reading file at {file_path}.\")\n",
        "        return None"
      ],
      "metadata": {
        "id": "E66IWyq2isfR"
      },
      "execution_count": null,
      "outputs": []
    },
    {
      "cell_type": "markdown",
      "source": [
        "## 論理完全性のチェックと改善"
      ],
      "metadata": {
        "id": "4CFmwAddi6Ir"
      }
    },
    {
      "cell_type": "code",
      "source": [
        "def get_shipping_fee(country):\n",
        "    if country == \"USA\":\n",
        "        return 5\n",
        "    elif country == \"Canada\":\n",
        "        return 10\n",
        "    elif country == \"Australia\":\n",
        "        return 15"
      ],
      "metadata": {
        "id": "OEA34RIijFgp"
      },
      "execution_count": null,
      "outputs": []
    },
    {
      "cell_type": "code",
      "source": [
        "def get_shipping_fee(country):\n",
        "    if country == \"USA\":\n",
        "        return 5\n",
        "    elif country == \"Canada\":\n",
        "        return 10\n",
        "    elif country == \"Australia\":\n",
        "        return 15\n",
        "    else:\n",
        "        return \"Shipping fee is not defined for the given country\""
      ],
      "metadata": {
        "id": "vpy1tbcsjIfA"
      },
      "execution_count": null,
      "outputs": []
    },
    {
      "cell_type": "code",
      "source": [
        "def process_data(data):\n",
        "    if data:\n",
        "        processed = [d * 2 for d in data]\n",
        "    return processed"
      ],
      "metadata": {
        "id": "VFB_adOHjU8T"
      },
      "execution_count": null,
      "outputs": []
    },
    {
      "cell_type": "code",
      "source": [
        "def process_data(data):\n",
        "    processed = []\n",
        "    if data:\n",
        "        processed = [d * 2 for d in data]\n",
        "    return processed"
      ],
      "metadata": {
        "id": "yY8hNb1IjW-j"
      },
      "execution_count": null,
      "outputs": []
    }
  ]
}