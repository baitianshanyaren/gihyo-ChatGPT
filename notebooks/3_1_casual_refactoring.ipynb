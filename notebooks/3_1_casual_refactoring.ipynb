{
  "nbformat": 4,
  "nbformat_minor": 0,
  "metadata": {
    "colab": {
      "provenance": [],
      "authorship_tag": "ABX9TyOLBK+Wz5z57w0Wky7orere"
    },
    "kernelspec": {
      "name": "python3",
      "display_name": "Python 3"
    },
    "language_info": {
      "name": "python"
    }
  },
  "cells": [
    {
      "cell_type": "markdown",
      "source": [
        "## 関数の分割"
      ],
      "metadata": {
        "id": "WY3W9EVMcAEn"
      }
    },
    {
      "cell_type": "code",
      "execution_count": null,
      "metadata": {
        "colab": {
          "base_uri": "https://localhost:8080/"
        },
        "id": "keNZql3Na6Na",
        "outputId": "9c3ab815-93b4-4b59-ca54-5dc4b2eccddb"
      },
      "outputs": [
        {
          "output_type": "stream",
          "name": "stdout",
          "text": [
            "['BANANA', 'ORANGE']\n"
          ]
        }
      ],
      "source": [
        "def process_data(data):\n",
        "    # Step 1: Data preprocessing\n",
        "    cleaned_data = []\n",
        "    for item in data:\n",
        "        cleaned_item = item.strip()\n",
        "        cleaned_data.append(cleaned_item)\n",
        "\n",
        "    # Step 2: Data filtering\n",
        "    filtered_data = []\n",
        "    for item in cleaned_data:\n",
        "        if len(item) > 5:\n",
        "            filtered_data.append(item)\n",
        "\n",
        "    # Step 3: Data transformation\n",
        "    transformed_data = []\n",
        "    for item in filtered_data:\n",
        "        transformed_item = item.upper()\n",
        "        transformed_data.append(transformed_item)\n",
        "\n",
        "    return transformed_data\n",
        "\n",
        "data = [\"apple\", \"  banana\", \"orange \", \"grape\", \"kiwi  \"]\n",
        "result = process_data(data)\n",
        "print(result)"
      ]
    },
    {
      "cell_type": "code",
      "source": [
        "def clean_data(data):\n",
        "    return [item.strip() for item in data]\n",
        "\n",
        "def filter_data(data):\n",
        "    return [item for item in data if len(item) > 5]\n",
        "\n",
        "def transform_data(data):\n",
        "    return [item.upper() for item in data]\n",
        "\n",
        "def process_data(data):\n",
        "    cleaned_data = clean_data(data)\n",
        "    filtered_data = filter_data(cleaned_data)\n",
        "    transformed_data = transform_data(filtered_data)\n",
        "    return transformed_data\n",
        "\n",
        "data = [\"apple\", \"  banana\", \"orange \", \"grape\", \"kiwi  \"]\n",
        "result = process_data(data)\n",
        "print(result)"
      ],
      "metadata": {
        "colab": {
          "base_uri": "https://localhost:8080/"
        },
        "id": "eEwLl3SWbvUQ",
        "outputId": "ce5511a5-14b8-477f-998f-1ac0b5ca918a"
      },
      "execution_count": null,
      "outputs": [
        {
          "output_type": "stream",
          "name": "stdout",
          "text": [
            "['BANANA', 'ORANGE']\n"
          ]
        }
      ]
    },
    {
      "cell_type": "markdown",
      "source": [
        "## 変数名と関数名の改善"
      ],
      "metadata": {
        "id": "D5KOA0C9cKN_"
      }
    },
    {
      "cell_type": "code",
      "source": [
        "def calc(a, b):\n",
        "    s = a + b\n",
        "    d = a - b\n",
        "    m = a * b\n",
        "    q = a / b\n",
        "    return s, d, m, q\n",
        "\n",
        "x = 10\n",
        "y = 5\n",
        "result = calc(x, y)\n",
        "print(result)"
      ],
      "metadata": {
        "colab": {
          "base_uri": "https://localhost:8080/"
        },
        "id": "M7RihknYb3oI",
        "outputId": "d740b1aa-b57d-48f6-9799-e3cf6346e42e"
      },
      "execution_count": null,
      "outputs": [
        {
          "output_type": "stream",
          "name": "stdout",
          "text": [
            "(15, 5, 50, 2.0)\n"
          ]
        }
      ]
    },
    {
      "cell_type": "code",
      "source": [
        "def calculate_operations(num1, num2):\n",
        "    sum_result = num1 + num2\n",
        "    difference_result = num1 - num2\n",
        "    multiplication_result = num1 * num2\n",
        "    division_result = num1 / num2\n",
        "    return sum_result, difference_result, multiplication_result, division_result\n",
        "\n",
        "first_number = 10\n",
        "second_number = 5\n",
        "result = calculate_operations(first_number, second_number)\n",
        "print(result)\n"
      ],
      "metadata": {
        "colab": {
          "base_uri": "https://localhost:8080/"
        },
        "id": "-zhJh98qb5TE",
        "outputId": "c3afdd7f-507c-4b77-ec92-e17bb9eb1b17"
      },
      "execution_count": null,
      "outputs": [
        {
          "output_type": "stream",
          "name": "stdout",
          "text": [
            "(15, 5, 50, 2.0)\n"
          ]
        }
      ]
    },
    {
      "cell_type": "markdown",
      "source": [
        "## 重複の排除"
      ],
      "metadata": {
        "id": "YgfyOVLAcTUN"
      }
    },
    {
      "cell_type": "code",
      "source": [
        "def print_invoice(invoice_data):\n",
        "    total = 0\n",
        "    for item in invoice_data:\n",
        "        total += item['price'] * item['quantity']\n",
        "        print(f\"{item['name']} x {item['quantity']} = {item['price'] * item['quantity']}\")\n",
        "\n",
        "    tax = total * 0.1\n",
        "    grand_total = total + tax\n",
        "    print(f\"Total: {total}\")\n",
        "    print(f\"Tax (10%): {tax}\")\n",
        "    print(f\"Grand Total: {grand_total}\")\n",
        "\n",
        "def print_receipt(receipt_data):\n",
        "    total = 0\n",
        "    for item in receipt_data:\n",
        "        total += item['price'] * item['quantity']\n",
        "        print(f\"{item['name']} x {item['quantity']} = {item['price'] * item['quantity']}\")\n",
        "\n",
        "    tax = total * 0.1\n",
        "    grand_total = total + tax\n",
        "    print(f\"Total: {total}\")\n",
        "    print(f\"Tax (10%): {tax}\")\n",
        "    print(f\"Grand Total: {grand_total}\")"
      ],
      "metadata": {
        "id": "LbRtj7HAcZJI"
      },
      "execution_count": null,
      "outputs": []
    },
    {
      "cell_type": "code",
      "source": [
        "def print_order(order_data):\n",
        "    total = 0\n",
        "    for item in order_data:\n",
        "        total += item['price'] * item['quantity']\n",
        "        print(f\"{item['name']} x {item['quantity']} = {item['price'] * item['quantity']}\")\n",
        "\n",
        "    tax = total * 0.1\n",
        "    grand_total = total + tax\n",
        "    print(f\"Total: {total}\")\n",
        "    print(f\"Tax (10%): {tax}\")\n",
        "    print(f\"Grand Total: {grand_total}\")\n",
        "\n",
        "def print_invoice(invoice_data):\n",
        "    print_order(invoice_data)\n",
        "\n",
        "def print_receipt(receipt_data):\n",
        "    print_order(receipt_data)"
      ],
      "metadata": {
        "id": "DRBSBiAjckQb"
      },
      "execution_count": null,
      "outputs": []
    }
  ]
}