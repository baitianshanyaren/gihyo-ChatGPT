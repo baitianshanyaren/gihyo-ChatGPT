{
  "nbformat": 4,
  "nbformat_minor": 0,
  "metadata": {
    "colab": {
      "provenance": [],
      "authorship_tag": "ABX9TyO4TR9nq1+KHt5bhWPhUZ/o"
    },
    "kernelspec": {
      "name": "python3",
      "display_name": "Python 3"
    },
    "language_info": {
      "name": "python"
    }
  },
  "cells": [
    {
      "cell_type": "code",
      "execution_count": null,
      "metadata": {
        "id": "GZpmuJR41Dga"
      },
      "outputs": [],
      "source": [
        "!pip install llama-index"
      ]
    },
    {
      "cell_type": "code",
      "source": [
        "!git clone https://github.com/jerryjliu/llama_index.git"
      ],
      "metadata": {
        "id": "OgrJwC4W21-O"
      },
      "execution_count": null,
      "outputs": []
    },
    {
      "cell_type": "code",
      "source": [
        "!ls llama_index/examples/paul_graham_essay/"
      ],
      "metadata": {
        "colab": {
          "base_uri": "https://localhost:8080/"
        },
        "id": "0ahiNN1j2_Ht",
        "outputId": "2e461d90-7b68-4097-f849-2e420ae9ee19"
      },
      "execution_count": 3,
      "outputs": [
        {
          "output_type": "stream",
          "name": "stdout",
          "text": [
            "data\t\t\t index_with_query.json\n",
            "DavinciComparison.ipynb  InsertDemo.ipynb\n",
            "GPT4Comparison.ipynb\t KeywordTableComparison.ipynb\n",
            "index.json\t\t SentenceSplittingDemo.ipynb\n",
            "index_list.json\t\t splitting_1.txt\n",
            "index_table.json\t splitting_2.txt\n",
            "index_tree_insert.json\t TestEssay.ipynb\n"
          ]
        }
      ]
    },
    {
      "cell_type": "code",
      "source": [
        "!cp -r llama_index/examples/paul_graham_essay/data ."
      ],
      "metadata": {
        "id": "aKrkuny23JAM"
      },
      "execution_count": 4,
      "outputs": []
    },
    {
      "cell_type": "code",
      "source": [
        "import os\n",
        "os.environ['OPENAI_API_KEY'] = \"...\""
      ],
      "metadata": {
        "id": "IaiTlrOw3OwU"
      },
      "execution_count": 5,
      "outputs": []
    },
    {
      "cell_type": "code",
      "source": [
        "!pip install openai"
      ],
      "metadata": {
        "id": "t0QzJu903kcE"
      },
      "execution_count": null,
      "outputs": []
    },
    {
      "cell_type": "code",
      "source": [
        "from llama_index import GPTVectorStoreIndex, SimpleDirectoryReader\n",
        "\n",
        "documents = SimpleDirectoryReader('data').load_data()\n",
        "index = GPTVectorStoreIndex.from_documents(documents)"
      ],
      "metadata": {
        "id": "IH5J16GX3qsc"
      },
      "execution_count": 7,
      "outputs": []
    },
    {
      "cell_type": "code",
      "source": [
        "query_engine = index.as_query_engine()\n",
        "response = query_engine.query(\"What did the author do growing up?\")\n",
        "print(response)"
      ],
      "metadata": {
        "colab": {
          "base_uri": "https://localhost:8080/"
        },
        "id": "g-PE_1yV7Eai",
        "outputId": "567f3ca2-53e4-4553-8bfb-1036378cac99"
      },
      "execution_count": 8,
      "outputs": [
        {
          "output_type": "stream",
          "name": "stdout",
          "text": [
            "\n",
            "The author grew up writing essays, learning Italian, exploring Florence, painting people, working with computers, attending RISD, living in a rent-stabilized apartment, building an online store builder, editing Lisp expressions, publishing essays online, writing essays, painting still life, working on spam filters, cooking for groups, and buying a building in Cambridge.\n"
          ]
        }
      ]
    },
    {
      "cell_type": "code",
      "source": [
        "index.storage_context.persist()"
      ],
      "metadata": {
        "id": "gsmhj4oE7ddL"
      },
      "execution_count": 9,
      "outputs": []
    },
    {
      "cell_type": "code",
      "source": [
        "from llama_index import StorageContext, load_index_from_storage\n",
        "\n",
        "# rebuild storage context\n",
        "storage_context = StorageContext.from_defaults(persist_dir=\"./storage\")\n",
        "# load index\n",
        "index = load_index_from_storage(storage_context)"
      ],
      "metadata": {
        "id": "GKnrINtC7jPi"
      },
      "execution_count": 10,
      "outputs": []
    },
    {
      "cell_type": "code",
      "source": [
        "response = query_engine.query(\"著者はどんな育ち方をしてきたのでしょうか？。出力は日本語でお願いします。\")\n",
        "print(response)"
      ],
      "metadata": {
        "colab": {
          "base_uri": "https://localhost:8080/"
        },
        "id": "ziENklB27oyb",
        "outputId": "7ad8c45e-792f-4525-9c93-d6054ff49aaf"
      },
      "execution_count": 11,
      "outputs": [
        {
          "output_type": "stream",
          "name": "stdout",
          "text": [
            "\n",
            "著者は、自分が何をすべきかを決めるために、過去にどのように決めてきたかを自分に問いかけるためにエッセイを書き始めました。彼は、自分が体験したことを他の人にも興味深く、同じような混乱した人々を勇気づけるために、より詳細なバージョンを書きました。彼は、コンピューターを使った時代に入る前に、イタリア語を学び、フィレンツェを歩いて様々な状況を体験し、また、芸術的なスキルを身につけました。彼は、インターリーブという会社を設立し、インターネット上で何かを公開するという考えを実現しました。彼は、自分のエッセイをインターネット上に公開し、誰もが読むことができるということを実感しました。そして、彼は、自分が書いたエッセイを読んだ人々から反応を得ることを学びました。彼は、自分が書くエッセイを常に行うことを決め、スパムフィルターを開発し、絵を描いたり、料理を学んだり、ビルを購入したりしながら、様々なことに取り組んできました。\n"
          ]
        }
      ]
    },
    {
      "cell_type": "code",
      "source": [
        "response = query_engine.query(\"What did the author do growing up?Please output in Japanese.\")\n",
        "print(response)"
      ],
      "metadata": {
        "colab": {
          "base_uri": "https://localhost:8080/"
        },
        "id": "20Q_CW-v8GKi",
        "outputId": "071de9a1-6f2d-42b7-8425-e5e3ce737507"
      },
      "execution_count": 12,
      "outputs": [
        {
          "output_type": "stream",
          "name": "stdout",
          "text": [
            "\n",
            "作者が育ってきたときには、学校以外では短編小説を書くこととプログラミングをしていました。IBM 1401というデータ処理用のコンピュータを使ってプログラミングをしていましたが、入力データがないため、何もできなかったと言っています。その後、マイクロコンピュータが登場し、彼は自分で組み立てたHeathkitのキットを使ってプログラミングをしたり、TRS-80を使ってゲームを作ったり、モデルロケットの高さを予測するプログラムを書いたり、父親が書いた本のためのワープロを書いたりしました。\n"
          ]
        }
      ]
    },
    {
      "cell_type": "code",
      "source": [
        "from llama_index import GPTVectorStoreIndex, SimpleDirectoryReader\n",
        "\n",
        "documents = SimpleDirectoryReader('data2').load_data()\n",
        "index2 = GPTVectorStoreIndex.from_documents(documents)"
      ],
      "metadata": {
        "id": "p_14rNBq8Up6"
      },
      "execution_count": 14,
      "outputs": []
    },
    {
      "cell_type": "code",
      "source": [
        "index2.storage_context.persist('index_kenpou')"
      ],
      "metadata": {
        "id": "3mHGutOQ9cwQ"
      },
      "execution_count": 15,
      "outputs": []
    },
    {
      "cell_type": "code",
      "source": [
        "query_engine2 = index2.as_query_engine()\n"
      ],
      "metadata": {
        "id": "dlWt36uU-Gry"
      },
      "execution_count": 18,
      "outputs": []
    },
    {
      "cell_type": "code",
      "source": [
        "response = query_engine2.query(\"国民の持つ権利で重要なものをリストであげてください。それが何条に書かれているかも示してください。\")\n",
        "print(response)"
      ],
      "metadata": {
        "colab": {
          "base_uri": "https://localhost:8080/"
        },
        "id": "POWIybXG-zgh",
        "outputId": "ea41722c-cbaa-4b2c-9c8a-39cf10709781"
      },
      "execution_count": 19,
      "outputs": [
        {
          "output_type": "stream",
          "name": "stdout",
          "text": [
            "\n",
            "1. 生命、自由及び幸福追求に対する国民の権利 (第一一条)\n",
            "2. 個人としての尊重 (第一三条)\n",
            "3. 国民の不断の努力によつて、基本的人権を保持する義務 (第一二条)\n",
            "4. 公共の福祉のために基本的人権を利用する責任 (第一二条)\n",
            "5. 正当に選挙された国会における代表者を通じて行動する権利 (前文)\n",
            "6. 国民が主権を持つことを宣言する権利 (前文)\n",
            "7. 平和を愛する諸国民の公正と信義に信頼して安全と生存を保持する権利 (前文)\n",
            "8. 専制と隷従、圧迫と偏狭を地上から永遠に除去する権利 (前文)\n"
          ]
        }
      ]
    },
    {
      "cell_type": "code",
      "source": [
        "from llama_index import LLMPredictor, ServiceContext\n",
        "from langchain.chat_models import ChatOpenAI\n",
        "\n",
        "llm_predictor = LLMPredictor(llm=ChatOpenAI(temperature=0, model_name=\"gpt-3.5-turbo\"))\n",
        "service_context = ServiceContext.from_defaults(llm_predictor=llm_predictor, chunk_size=512)\n",
        "\n",
        "index3 = GPTVectorStoreIndex.from_documents(documents, service_context=service_context)\n",
        "query_engine3 = index3.as_query_engine(service_context=service_context)"
      ],
      "metadata": {
        "id": "wmQg_D1A_1OZ"
      },
      "execution_count": 21,
      "outputs": []
    },
    {
      "cell_type": "code",
      "source": [
        "response = query_engine3.query(\"国民のもつ権利をリストしてください\")\n",
        "print(response)"
      ],
      "metadata": {
        "colab": {
          "base_uri": "https://localhost:8080/"
        },
        "id": "uoetcois_6sI",
        "outputId": "e1ae34ba-ee37-468a-c43b-64c4aace003e"
      },
      "execution_count": 22,
      "outputs": [
        {
          "output_type": "stream",
          "name": "stdout",
          "text": [
            "- 生命、自由及び幸福追求に対する国民の権利については、公共の福祉に反しない限り、立法その他の国政の上で、最大の尊重を必要とする。\n",
            "- すべて国民は、法の下に平等であつて、人種、信条、性別、社会的身分又は門地により、政治的、経済的又は社会的関係において、差別されない。\n",
            "- 華族その他の貴族の制度は、これを認めない。\n",
            "- 栄誉、勲章その他の栄典の授与は、いかなる特権も伴はない。栄典の授与は、現にこれを有し、又は将来これを受ける者の一代に限り、その効力を有する。\n",
            "- 公務員を選定し、及びこれを罷免することは、国民固有の権利である。\n",
            "- すべて公務員は、全体の奉仕者であつて、一部の奉仕者ではない。\n"
          ]
        }
      ]
    },
    {
      "cell_type": "code",
      "source": [
        "from llama_index import download_loader\n",
        "\n",
        "BeautifulSoupWebReader = download_loader(\"BeautifulSoupWebReader\")\n",
        "\n",
        "loader = BeautifulSoupWebReader()\n",
        "documents = loader.load_data(urls=['https://www.aozora.gr.jp/cards/001528/files/474.html'])"
      ],
      "metadata": {
        "id": "ZbM8JMRhC-yu"
      },
      "execution_count": 23,
      "outputs": []
    },
    {
      "cell_type": "code",
      "source": [
        "indexw = GPTVectorStoreIndex.from_documents(documents, service_context=service_context)\n",
        "query_engine_w = indexw.as_query_engine(service_context=service_context)"
      ],
      "metadata": {
        "id": "ndaPJLZyDHzo"
      },
      "execution_count": 24,
      "outputs": []
    },
    {
      "cell_type": "code",
      "source": [
        "response = query_engine_w.query(\"要約をお願いします。\")\n",
        "print(response)"
      ],
      "metadata": {
        "colab": {
          "base_uri": "https://localhost:8080/"
        },
        "id": "oCbx_ijvDMI1",
        "outputId": "deeb9825-4805-4fd8-8ead-90902bc41690"
      },
      "execution_count": 25,
      "outputs": [
        {
          "output_type": "stream",
          "name": "stdout",
          "text": [
            "この文書は、日本国憲法の第53条と第54条について説明しています。第53条では、内閣が臨時国会の召集を決定できることが示されています。第54条では、衆議院が解散された場合、40日以内に衆議院議員の総選挙を行い、その選挙の日から30日以内に国会を召集しなければならないことが示されています。また、参議院は衆議院が解散された場合には同時に閉会となりますが、内閣は緊急の必要がある場合には参議院の緊急集会を求めることができます。ただし、その措置は臨時のものであり、衆議院の同意がない場合には、次の国会開会の後10日以内にその効力を失うことになっています。最後に、この文書は、日本国憲法が昭和22年5月3日に施行されたことを示しています。\n"
          ]
        }
      ]
    },
    {
      "cell_type": "code",
      "source": [
        "from pathlib import Path\n",
        "from llama_index import download_loader\n",
        "\n",
        "CJKPDFReader = download_loader(\"CJKPDFReader\")\n",
        "\n",
        "loader = CJKPDFReader()\n",
        "documents = loader.load_data(file=Path('./attention.pdf'))"
      ],
      "metadata": {
        "id": "-tclxa2BDW5c"
      },
      "execution_count": 31,
      "outputs": []
    },
    {
      "cell_type": "code",
      "source": [
        "index_pdf = GPTVectorStoreIndex.from_documents(documents, service_context=service_context)\n",
        "query_engine_pdf = index_pdf.as_query_engine(service_context=service_context)"
      ],
      "metadata": {
        "id": "RFlEEUEXEZbl"
      },
      "execution_count": 32,
      "outputs": []
    },
    {
      "cell_type": "code",
      "source": [
        "response = query_engine_pdf.query(\"Please summarize this .Please explain it in a way that even a child can understand.\")\n",
        "print(response)"
      ],
      "metadata": {
        "colab": {
          "base_uri": "https://localhost:8080/"
        },
        "id": "meNjmV5sEbZf",
        "outputId": "aab94d03-b649-45dd-f012-f7752d5287a3"
      },
      "execution_count": 35,
      "outputs": [
        {
          "output_type": "stream",
          "name": "stdout",
          "text": [
            "This is a research paper about a new way to make computers understand and translate languages. They made a special kind of computer program called a Transformer that uses attention to understand sentences and translate them. This new program is better than the old ones because it can work faster and make fewer mistakes. They tested it by translating English to German and French, and it did a really good job!\n"
          ]
        }
      ]
    },
    {
      "cell_type": "code",
      "source": [
        "response = query_engine_pdf.query(\"Explain about attention heads. Please explain it in a way that even a child can understand.\")\n",
        "print(response)\n"
      ],
      "metadata": {
        "colab": {
          "base_uri": "https://localhost:8080/"
        },
        "id": "apYYPBcNGP5u",
        "outputId": "50f6fe09-e0e3-4a3d-b96a-eee97c8687c3"
      },
      "execution_count": 36,
      "outputs": [
        {
          "output_type": "stream",
          "name": "stdout",
          "text": [
            "Attention heads are like little helpers in a computer program that help the program understand sentences better. They look at different parts of the sentence and try to figure out what's important. Just like how we might focus on different words when we read a sentence, attention heads focus on different parts of the sentence to help the program understand it better. By doing this, the program can do things like translate sentences from one language to another or answer questions about a text.\n"
          ]
        }
      ]
    }
  ]
}