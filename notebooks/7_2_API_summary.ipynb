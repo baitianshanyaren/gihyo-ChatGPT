{
  "nbformat": 4,
  "nbformat_minor": 0,
  "metadata": {
    "colab": {
      "provenance": [],
      "authorship_tag": "ABX9TyOUmrYgXfgmhtJQ1AcNzba8"
    },
    "kernelspec": {
      "name": "python3",
      "display_name": "Python 3"
    },
    "language_info": {
      "name": "python"
    }
  },
  "cells": [
    {
      "cell_type": "code",
      "execution_count": 1,
      "metadata": {
        "colab": {
          "base_uri": "https://localhost:8080/"
        },
        "id": "RknIvLB6qwd0",
        "outputId": "33cf06df-6587-4a51-aa1a-a6483588a541"
      },
      "outputs": [
        {
          "output_type": "stream",
          "name": "stdout",
          "text": [
            "Looking in indexes: https://pypi.org/simple, https://us-python.pkg.dev/colab-wheels/public/simple/\n",
            "Collecting openai\n",
            "  Downloading openai-0.27.8-py3-none-any.whl (73 kB)\n",
            "\u001b[2K     \u001b[90m━━━━━━━━━━━━━━━━━━━━━━━━━━━━━━━━━━━━━━━━\u001b[0m \u001b[32m73.6/73.6 kB\u001b[0m \u001b[31m6.8 MB/s\u001b[0m eta \u001b[36m0:00:00\u001b[0m\n",
            "\u001b[?25hRequirement already satisfied: requests>=2.20 in /usr/local/lib/python3.10/dist-packages (from openai) (2.27.1)\n",
            "Requirement already satisfied: tqdm in /usr/local/lib/python3.10/dist-packages (from openai) (4.65.0)\n",
            "Collecting aiohttp (from openai)\n",
            "  Downloading aiohttp-3.8.4-cp310-cp310-manylinux_2_17_x86_64.manylinux2014_x86_64.whl (1.0 MB)\n",
            "\u001b[2K     \u001b[90m━━━━━━━━━━━━━━━━━━━━━━━━━━━━━━━━━━━━━━━━\u001b[0m \u001b[32m1.0/1.0 MB\u001b[0m \u001b[31m58.7 MB/s\u001b[0m eta \u001b[36m0:00:00\u001b[0m\n",
            "\u001b[?25hRequirement already satisfied: urllib3<1.27,>=1.21.1 in /usr/local/lib/python3.10/dist-packages (from requests>=2.20->openai) (1.26.15)\n",
            "Requirement already satisfied: certifi>=2017.4.17 in /usr/local/lib/python3.10/dist-packages (from requests>=2.20->openai) (2022.12.7)\n",
            "Requirement already satisfied: charset-normalizer~=2.0.0 in /usr/local/lib/python3.10/dist-packages (from requests>=2.20->openai) (2.0.12)\n",
            "Requirement already satisfied: idna<4,>=2.5 in /usr/local/lib/python3.10/dist-packages (from requests>=2.20->openai) (3.4)\n",
            "Requirement already satisfied: attrs>=17.3.0 in /usr/local/lib/python3.10/dist-packages (from aiohttp->openai) (23.1.0)\n",
            "Collecting multidict<7.0,>=4.5 (from aiohttp->openai)\n",
            "  Downloading multidict-6.0.4-cp310-cp310-manylinux_2_17_x86_64.manylinux2014_x86_64.whl (114 kB)\n",
            "\u001b[2K     \u001b[90m━━━━━━━━━━━━━━━━━━━━━━━━━━━━━━━━━━━━━━\u001b[0m \u001b[32m114.5/114.5 kB\u001b[0m \u001b[31m14.2 MB/s\u001b[0m eta \u001b[36m0:00:00\u001b[0m\n",
            "\u001b[?25hCollecting async-timeout<5.0,>=4.0.0a3 (from aiohttp->openai)\n",
            "  Downloading async_timeout-4.0.2-py3-none-any.whl (5.8 kB)\n",
            "Collecting yarl<2.0,>=1.0 (from aiohttp->openai)\n",
            "  Downloading yarl-1.9.2-cp310-cp310-manylinux_2_17_x86_64.manylinux2014_x86_64.whl (268 kB)\n",
            "\u001b[2K     \u001b[90m━━━━━━━━━━━━━━━━━━━━━━━━━━━━━━━━━━━━━━\u001b[0m \u001b[32m268.8/268.8 kB\u001b[0m \u001b[31m27.7 MB/s\u001b[0m eta \u001b[36m0:00:00\u001b[0m\n",
            "\u001b[?25hCollecting frozenlist>=1.1.1 (from aiohttp->openai)\n",
            "  Downloading frozenlist-1.3.3-cp310-cp310-manylinux_2_5_x86_64.manylinux1_x86_64.manylinux_2_17_x86_64.manylinux2014_x86_64.whl (149 kB)\n",
            "\u001b[2K     \u001b[90m━━━━━━━━━━━━━━━━━━━━━━━━━━━━━━━━━━━━━━\u001b[0m \u001b[32m149.6/149.6 kB\u001b[0m \u001b[31m19.6 MB/s\u001b[0m eta \u001b[36m0:00:00\u001b[0m\n",
            "\u001b[?25hCollecting aiosignal>=1.1.2 (from aiohttp->openai)\n",
            "  Downloading aiosignal-1.3.1-py3-none-any.whl (7.6 kB)\n",
            "Installing collected packages: multidict, frozenlist, async-timeout, yarl, aiosignal, aiohttp, openai\n",
            "Successfully installed aiohttp-3.8.4 aiosignal-1.3.1 async-timeout-4.0.2 frozenlist-1.3.3 multidict-6.0.4 openai-0.27.8 yarl-1.9.2\n"
          ]
        }
      ],
      "source": [
        "!pip install openai"
      ]
    },
    {
      "cell_type": "code",
      "source": [
        "import os\n",
        "os.environ['OPENAI_API_KEY'] = \"...\""
      ],
      "metadata": {
        "id": "smHL30KRrbQt"
      },
      "execution_count": 2,
      "outputs": []
    },
    {
      "cell_type": "code",
      "source": [
        "from json.decoder import JSONDecodeError\n",
        "import openai\n",
        "import os\n",
        "import re\n",
        "import json\n",
        "import time\n",
        "\n",
        "DEBUG = False\n",
        "\n",
        "# Predefined system message\n",
        "SYSTEM_MESSAGE = \"\"\"\n",
        "\n",
        "下記の前提知識とサポート記録を踏まえてサポートをしてください。\n",
        "すべての会話の返答とその要約を次のJSON形式で出力してください\n",
        "\n",
        "## 出力（JSON形式）\n",
        "{{\"content\" : \"(返答の内容)\", \"summary\" : \"(返答を要約した内容)\" }}\n",
        "\n",
        "## 会話の例\n",
        "USER->機械の調子が悪いです\n",
        "AI->{{\"content\" : \"どのような機械でどんな不具合を起こしているのでしょうか？\",\"summary\" : \"機械の種類と不具合の現象をユーザに確認。\"}}\n",
        "\n",
        "USER->ありがとう。(終了の暗示や挨拶や感謝の言葉なども含む)\n",
        "AI->{{\"content\" : \"どういたしまして。いつでもご相談ください。\",\"summary\" : \"サポート終了。\"}}\n",
        "\n",
        "## 前提知識\n",
        "  - あなたは農機具故障診断のエキスパートです。\n",
        "\n",
        "## サポート記録\n",
        "  {support_context}\n",
        "\n",
        "\"\"\"\n",
        "\n",
        "def create_chat_response(user_text, support_context):\n",
        "  for i in range(3):  \n",
        "    response = openai.ChatCompletion.create(\n",
        "        model=\"gpt-3.5-turbo\",\n",
        "        messages=[\n",
        "            {\n",
        "                \"role\": \"system\",\n",
        "                \"content\": SYSTEM_MESSAGE.format(support_context=support_context)\n",
        "            },\n",
        "            {\n",
        "                \"role\": \"user\",\n",
        "                \"content\": f\"JSON形式で出力してください:[{user_text}]+\"\n",
        "            }\n",
        "        ],\n",
        "    )\n",
        "    try:\n",
        "      #レスポンスからJSON形式のデータだけを抜き取る\n",
        "      json_str = re.search(r'\\{.*\\}', response.choices[0].message['content']).group(0)\n",
        "      return json.loads(json_str)\n",
        "    except JSONDecodeError:\n",
        "      #不正なJSONデータの場合リトライする。そのとき、AIに注意を促す。\n",
        "      if DEBUG: print(\"JSON Parse Error:\",response.choices[0].message['content'])\n",
        "      print(\"...AIの出力でエラーが発生しました。リトライします......\")\n",
        "      user_text += '...JSON形式のレスポンスを守ってください。'\n",
        "      time.sleep(1)\n",
        "      continue\n",
        "    except AttributeError:\n",
        "      #JSON変換できなかったもの。リストなどの場合。そのままの値をセットする。\n",
        "      if DEBUG: print(\"Attribute Error:\",response.choices[0].message['content'])\n",
        "      return {\n",
        "          \"content\": response.choices[0].message['content'],\n",
        "          \"summary\": response.choices[0].message['content'],\n",
        "          \"error\": \"attribute error\"\n",
        "      }\n",
        "\n",
        "  else:\n",
        "    return []\n",
        "\n",
        "\n",
        "support_context = \"\"\n",
        "print(\"農機具についてお困りがあればお答えします\\nなんでも聞いてください。\\n\")\n",
        "\n",
        "while True:\n",
        "  user_text = input(\"\\n>\")\n",
        "  \n",
        "  if user_text == \"quit\":\n",
        "    break\n",
        "\n",
        "  response = create_chat_response(user_text, support_context)\n",
        "  if response:\n",
        "      answer  = response['content']\n",
        "      summary = response['summary']     \n",
        "  else:\n",
        "    print(\"申し訳ございません。質問の方法を変えてください。\")\n",
        "    continue\n",
        "  \n",
        "  support_context += f\"- user: {user_text}\\n\"\n",
        "  support_context += f\"- AI: {summary}\\n\\n\"\n",
        "  print(\"\\n返答:\",answer)\n",
        "\n",
        "  if DEBUG:\n",
        "    print(\"要約:\",summary)\n",
        "    print(\"response:\",response)"
      ],
      "metadata": {
        "id": "nrsKOvTI6Pl6"
      },
      "execution_count": null,
      "outputs": []
    }
  ]
}