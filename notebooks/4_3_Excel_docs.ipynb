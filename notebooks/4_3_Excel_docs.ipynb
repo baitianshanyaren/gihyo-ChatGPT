{
  "nbformat": 4,
  "nbformat_minor": 0,
  "metadata": {
    "colab": {
      "provenance": [],
      "authorship_tag": "ABX9TyOngP8fIiCPmcZxIl2Xwt6W"
    },
    "kernelspec": {
      "name": "python3",
      "display_name": "Python 3"
    },
    "language_info": {
      "name": "python"
    }
  },
  "cells": [
    {
      "cell_type": "code",
      "execution_count": null,
      "metadata": {
        "id": "6xQDSNbWo217"
      },
      "outputs": [],
      "source": [
        "!pip install openpyxl"
      ]
    },
    {
      "cell_type": "code",
      "source": [
        "import openpyxl\n",
        "\n",
        "# Excelファイルを新規作成\n",
        "wb = openpyxl.Workbook()\n",
        "\n",
        "# シートを取得\n",
        "sheet = wb.active\n",
        "\n",
        "# ヘッダーデータを書き込む\n",
        "sheet['A1'] = '請求先'\n",
        "sheet['B1'] = '株式会社小野工業御中'\n",
        "sheet['A2'] = '担当'\n",
        "sheet['B2'] = '小野様'\n",
        "\n",
        "# 明細データの列名を書き込む\n",
        "sheet['A4'] = '日付'\n",
        "sheet['B4'] = '商品名'\n",
        "sheet['C4'] = '数量'\n",
        "sheet['D4'] = '単価'\n",
        "sheet['E4'] = '金額'\n",
        "\n",
        "# 明細データを書き込む\n",
        "sheet['A5'] = '2023/04/09'\n",
        "sheet['B5'] = 'ノートパソコン'\n",
        "sheet['C5'] = 2\n",
        "sheet['D5'] = 150000\n",
        "sheet['E5'] = '=C5*D5'\n",
        "\n",
        "sheet['A6'] = '2023/04/10'\n",
        "sheet['B6'] = 'USBメモリ'\n",
        "sheet['C6'] = 3\n",
        "sheet['D6'] = 2000\n",
        "sheet['E6'] = '=C6*D6'\n",
        "\n",
        "sheet['A7'] = '2023/04/15'\n",
        "sheet['B7'] = 'コピー用紙(A4)'\n",
        "sheet['C7'] = 10\n",
        "sheet['D7'] = 300\n",
        "sheet['E7'] = '=C7*D7'\n",
        "\n",
        "# 合計金額を計算するためにSUM関数を使用\n",
        "sheet['D9'] = '合計金額'\n",
        "sheet['E9'] = '=SUM(E5:E7)'\n",
        "\n",
        "# Excelファイルを保存\n",
        "wb.save('請求書.xlsx')"
      ],
      "metadata": {
        "id": "DmIBubq1pbw7"
      },
      "execution_count": null,
      "outputs": []
    },
    {
      "cell_type": "code",
      "source": [
        "import openpyxl\n",
        "\n",
        "# 入力ファイルのパス\n",
        "input_path = \"base_invoice.xlsx\"\n",
        "# 出力ファイルのパス\n",
        "output_path = \"invoice.xlsx\"\n",
        "\n",
        "# 請求先\n",
        "to_company = \"株式会社技評研究所\"\n",
        "to_person = \"イケモトさん\"\n",
        "\n",
        "# 商品情報\n",
        "items = [\n",
        "    (\"2023/04/09\", \"ノートパソコン\", 2, 150000),\n",
        "    (\"2023/04/10\", \"USBメモリ\", 3, 2000),\n",
        "    (\"2023/04/15\", \"コピー用紙A4\", 10, 300),\n",
        "]\n",
        "\n",
        "# ワークブックを読み込む\n",
        "wb = openpyxl.load_workbook(input_path)\n",
        "# シートを選択する\n",
        "ws = wb.active\n",
        "\n",
        "# 請求先と担当を設定する\n",
        "ws[\"B3\"] = to_company\n",
        "ws[\"C4\"] = to_person\n",
        "\n",
        "# 商品情報を設定する\n",
        "for i, (date, item, quantity, price) in enumerate(items):\n",
        "    row = i + 8  # 8行目から商品情報を設定する\n",
        "    ws.cell(row=row, column=2).value = date\n",
        "    ws.cell(row=row, column=3).value = item\n",
        "    ws.cell(row=row, column=4).value = quantity\n",
        "    ws.cell(row=row, column=5).value = price\n",
        "\n",
        "# ワークブックを保存する\n",
        "wb.save(output_path)"
      ],
      "metadata": {
        "id": "JCQllOItpqQk"
      },
      "execution_count": null,
      "outputs": []
    }
  ]
}