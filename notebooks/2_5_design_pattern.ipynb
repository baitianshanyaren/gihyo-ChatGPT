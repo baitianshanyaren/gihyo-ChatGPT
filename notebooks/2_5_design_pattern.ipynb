{
  "nbformat": 4,
  "nbformat_minor": 0,
  "metadata": {
    "colab": {
      "provenance": [],
      "authorship_tag": "ABX9TyOfy4DrwcFujepjcVZY/vlh"
    },
    "kernelspec": {
      "name": "python3",
      "display_name": "Python 3"
    },
    "language_info": {
      "name": "python"
    }
  },
  "cells": [
    {
      "cell_type": "code",
      "execution_count": null,
      "metadata": {
        "id": "FwG4e3_fEt7S"
      },
      "outputs": [],
      "source": [
        "class TemperatureSensor:\n",
        "    def __init__(self):\n",
        "        self._observers = []\n",
        "        self._temperature = 0\n",
        "\n",
        "    def attach(self, observer):\n",
        "        self._observers.append(observer)\n",
        "\n",
        "    def detach(self, observer):\n",
        "        self._observers.remove(observer)\n",
        "\n",
        "    def set_temperature(self, temperature):\n",
        "        self._temperature = temperature\n",
        "        self.notify()\n",
        "\n",
        "    def notify(self):\n",
        "        for observer in self._observers:\n",
        "            observer.update(self._temperature)\n",
        "\n",
        "class Observer:\n",
        "    def update(self, temperature):\n",
        "        pass\n",
        "\n",
        "class Heater(Observer):\n",
        "    def update(self, temperature):\n",
        "        if temperature < 0:\n",
        "            print(\"Heater turned on\")\n",
        "\n",
        "class Cooler(Observer):\n",
        "    def update(self, temperature):\n",
        "        if temperature > 30:\n",
        "            print(\"Cooler turned on\")\n",
        "\n",
        "class Display(Observer):\n",
        "    def update(self, temperature):\n",
        "        print(\"Current temperature is:\", temperature)\n"
      ]
    },
    {
      "cell_type": "code",
      "source": [
        "sensor = TemperatureSensor()\n",
        "sensor.attach(Heater())\n",
        "sensor.attach(Cooler())\n",
        "sensor.attach(Display())\n",
        "\n",
        "sensor.set_temperature(20)\n",
        "sensor.set_temperature(-5)\n",
        "sensor.set_temperature(40)"
      ],
      "metadata": {
        "colab": {
          "base_uri": "https://localhost:8080/"
        },
        "id": "s9tyFg0sFD1r",
        "outputId": "bc9071f3-a5a3-4997-8968-790116e168cf"
      },
      "execution_count": null,
      "outputs": [
        {
          "output_type": "stream",
          "name": "stdout",
          "text": [
            "Current temperature is: 20\n",
            "Heater turned on\n",
            "Current temperature is: -5\n",
            "Cooler turned on\n",
            "Current temperature is: 40\n"
          ]
        }
      ]
    }
  ]
}