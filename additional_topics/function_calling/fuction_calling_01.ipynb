{
  "nbformat": 4,
  "nbformat_minor": 0,
  "metadata": {
    "colab": {
      "provenance": [],
      "authorship_tag": "ABX9TyMegk2UEF0SWmYIJJtcJoW8"
    },
    "kernelspec": {
      "name": "python3",
      "display_name": "Python 3"
    },
    "language_info": {
      "name": "python"
    }
  },
  "cells": [
    {
      "cell_type": "markdown",
      "source": [
        "サンプルを実行する準備"
      ],
      "metadata": {
        "id": "zsybiohG2pZM"
      }
    },
    {
      "cell_type": "code",
      "execution_count": null,
      "metadata": {
        "id": "4KQAODdLdSvQ"
      },
      "outputs": [],
      "source": [
        "!pip install openai"
      ]
    },
    {
      "cell_type": "code",
      "source": [
        "import os\n",
        "os.environ['OPENAI_API_KEY'] = \"...\""
      ],
      "metadata": {
        "id": "LRFdoodjerXS"
      },
      "execution_count": 2,
      "outputs": []
    },
    {
      "cell_type": "code",
      "source": [
        "import openai\n",
        "import json"
      ],
      "metadata": {
        "id": "VJ540bvEgwuJ"
      },
      "execution_count": 11,
      "outputs": []
    },
    {
      "cell_type": "markdown",
      "source": [
        "functionの定義をします。"
      ],
      "metadata": {
        "id": "J1hxxAPG2wsG"
      }
    },
    {
      "cell_type": "code",
      "source": [
        "function_descriptions = [\n",
        "            {\n",
        "                \"name\": \"get_current_weather\",\n",
        "                \"description\": \"Get the current weather in a given location\",\n",
        "                \"parameters\": {\n",
        "                    \"type\": \"object\",\n",
        "                    \"properties\": {\n",
        "                        \"location\": {\n",
        "                            \"type\": \"string\",\n",
        "                            \"description\": \"The city and state, e.g. San Francisco, CA\",\n",
        "                        },\n",
        "                        \"unit\": {\n",
        "                            \"type\": \"string\",\n",
        "                            \"description\": \"The temperature unit to use. Infer this from the users location.\",\n",
        "                            \"enum\": [\"celsius\", \"fahrenheit\"]\n",
        "                        },\n",
        "                    },\n",
        "                    \"required\": [\"location\", \"unit\"],\n",
        "                },\n",
        "            }\n",
        "        ]"
      ],
      "metadata": {
        "id": "4BTLGMRieRZy"
      },
      "execution_count": 5,
      "outputs": []
    },
    {
      "cell_type": "markdown",
      "source": [
        "質問の内容をuser_queryに格納します。"
      ],
      "metadata": {
        "id": "CgNlaru826UN"
      }
    },
    {
      "cell_type": "code",
      "source": [
        "user_query = \"What's the weather like in San Francisco?\""
      ],
      "metadata": {
        "id": "tNxaDjVAe7vA"
      },
      "execution_count": 6,
      "outputs": []
    },
    {
      "cell_type": "markdown",
      "source": [
        "この時点で一度問い合わせを行います。GPTに質問が渡されます。\n",
        "（まだfunctionは定義されていません）"
      ],
      "metadata": {
        "id": "h4oyokeS3EAG"
      }
    },
    {
      "cell_type": "code",
      "source": [
        "response = openai.ChatCompletion.create(\n",
        "        model=\"gpt-3.5-turbo-0613\",\n",
        "\n",
        "        # This is the chat message from the user\n",
        "        messages=[{\"role\": \"user\", \"content\": user_query}],\n",
        "\n",
        "\n",
        "        functions=function_descriptions,\n",
        "        function_call=\"auto\",\n",
        "    )"
      ],
      "metadata": {
        "id": "L_g-47HNe9IJ"
      },
      "execution_count": 7,
      "outputs": []
    },
    {
      "cell_type": "markdown",
      "source": [
        "GPTは質問に対してどのように判断したのでしょうか？\n",
        "まず、返答の内容を見てみましょう。"
      ],
      "metadata": {
        "id": "uI34sVqy3YAo"
      }
    },
    {
      "cell_type": "code",
      "source": [
        "ai_response_message = response[\"choices\"][0][\"message\"]\n",
        "print(ai_response_message)"
      ],
      "metadata": {
        "colab": {
          "base_uri": "https://localhost:8080/"
        },
        "id": "eRnFu_pqfADL",
        "outputId": "5df6b096-2871-4b25-8097-9dc8aa346f56"
      },
      "execution_count": 8,
      "outputs": [
        {
          "output_type": "stream",
          "name": "stdout",
          "text": [
            "{\n",
            "  \"role\": \"assistant\",\n",
            "  \"content\": null,\n",
            "  \"function_call\": {\n",
            "    \"name\": \"get_current_weather\",\n",
            "    \"arguments\": \"{\\n  \\\"location\\\": \\\"San Francisco, CA\\\",\\n  \\\"unit\\\": \\\"celsius\\\"\\n}\"\n",
            "  }\n",
            "}\n"
          ]
        }
      ]
    },
    {
      "cell_type": "markdown",
      "source": [
        "get_current_weatherを呼ぶべしと判断しました。\n",
        "そのさい、argumentsはlocation,unitを渡すことも判断してくれています。すばらしいですね。\n",
        "argumentsはJSON形式なので、このままでは実際の値を取得できません。ですので次のようにevalを実行してJSON形式のデータの内容を取得します。"
      ],
      "metadata": {
        "id": "QAkUp9AX3lk2"
      }
    },
    {
      "cell_type": "code",
      "source": [
        "user_location = eval(ai_response_message['function_call']['arguments']).get(\"location\")\n",
        "user_unit = eval(ai_response_message['function_call']['arguments']).get(\"unit\")"
      ],
      "metadata": {
        "id": "wO6xIHZtfFGU"
      },
      "execution_count": 9,
      "outputs": []
    },
    {
      "cell_type": "markdown",
      "source": [
        "get_current_weather()関数を呼びたいわけですが、この時点では関数は定義されていませんので関数を定義します。  \n",
        "OPEN AIの公式サイトでは、ここで天気予報取得のAPIを呼ぶように記述されていますが、ここでは関数の動きを見るため固定値を返すテスト用の関数を定義します。"
      ],
      "metadata": {
        "id": "Vbb9g40r4hjy"
      }
    },
    {
      "cell_type": "code",
      "source": [
        "def get_current_weather(location, unit):\n",
        "\n",
        "    \"\"\"Get the current weather in a given location\"\"\"\n",
        "\n",
        "    weather_info = {\n",
        "        \"location\": location,\n",
        "        \"temperature\": \"72\",\n",
        "        \"unit\": unit,\n",
        "        \"forecast\": [\"sunny\", \"windy\"],\n",
        "    }\n",
        "    return json.dumps(weather_info)"
      ],
      "metadata": {
        "id": "EF338E0zfIhm"
      },
      "execution_count": 12,
      "outputs": []
    },
    {
      "cell_type": "markdown",
      "source": [
        "実際に関数を呼びます。先に取得したuser_locationとuser_unitをパラメータとしてセットして呼び出します。"
      ],
      "metadata": {
        "id": "nwGscYJB5RdI"
      }
    },
    {
      "cell_type": "code",
      "source": [
        "function_response = get_current_weather(\n",
        "    location=user_location,\n",
        "    unit=user_unit,\n",
        ")"
      ],
      "metadata": {
        "id": "Td9TzuM0fTEl"
      },
      "execution_count": 13,
      "outputs": []
    },
    {
      "cell_type": "markdown",
      "source": [
        "関数が実行されたその結果を表示しましょう。"
      ],
      "metadata": {
        "id": "i0MZBKHU5zLj"
      }
    },
    {
      "cell_type": "code",
      "source": [
        "function_response"
      ],
      "metadata": {
        "colab": {
          "base_uri": "https://localhost:8080/",
          "height": 35
        },
        "id": "xRQ3BywufVvi",
        "outputId": "49d62dd2-6ec1-40e8-fff7-24c06767eb00"
      },
      "execution_count": 14,
      "outputs": [
        {
          "output_type": "execute_result",
          "data": {
            "text/plain": [
              "'{\"location\": \"San Francisco, CA\", \"temperature\": \"72\", \"unit\": \"celsius\", \"forecast\": [\"sunny\", \"windy\"]}'"
            ],
            "application/vnd.google.colaboratory.intrinsic+json": {
              "type": "string"
            }
          },
          "metadata": {},
          "execution_count": 14
        }
      ]
    },
    {
      "cell_type": "markdown",
      "source": [
        "このままでは関数の結果はわかりましたが、文脈にはなっていません。GPTとしての回答を作るため、もう一度GPT APIを呼びます。そのさい、どの関数のレスポンスなのかをnameに与えます。また関数呼び出したあとの内容をcontentに与えます。"
      ],
      "metadata": {
        "id": "MJ9z0AMF5_qb"
      }
    },
    {
      "cell_type": "code",
      "source": [
        "second_response = openai.ChatCompletion.create(\n",
        "    model=\"gpt-3.5-turbo-0613\",\n",
        "    messages=[\n",
        "        {\"role\": \"user\", \"content\": user_query},\n",
        "        ai_response_message,\n",
        "        {\n",
        "            \"role\": \"function\",\n",
        "            \"name\": \"get_current_weather\",\n",
        "            \"content\": function_response,\n",
        "        },\n",
        "    ],\n",
        ")"
      ],
      "metadata": {
        "id": "PB31YR06fYMI"
      },
      "execution_count": 18,
      "outputs": []
    },
    {
      "cell_type": "markdown",
      "source": [
        "APIの返答を表示しましょう。  \n",
        "きちんと文脈として返答されています。"
      ],
      "metadata": {
        "id": "XEGgFEjb6tLw"
      }
    },
    {
      "cell_type": "code",
      "source": [
        "print (second_response['choices'][0]['message']['content'])"
      ],
      "metadata": {
        "colab": {
          "base_uri": "https://localhost:8080/"
        },
        "id": "cngUgqUyfbN-",
        "outputId": "15c2dda3-8371-4da9-941b-eecfbbbd3230"
      },
      "execution_count": 19,
      "outputs": [
        {
          "output_type": "stream",
          "name": "stdout",
          "text": [
            "The current weather in San Francisco is sunny and windy with a temperature of 72 degrees Celsius.\n"
          ]
        }
      ]
    }
  ]
}